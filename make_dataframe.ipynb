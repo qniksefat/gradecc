{
 "cells": [
  {
   "cell_type": "code",
   "execution_count": 1,
   "metadata": {},
   "outputs": [],
   "source": [
    "from gradients import *"
   ]
  },
  {
   "cell_type": "code",
   "execution_count": 2,
   "metadata": {},
   "outputs": [],
   "source": [
    "SUBJECTS = [1, 2, 3, 4, 5, 6, 7, 8, 9, 10, 11, 12, 13, 14, 15, 16,\n",
    "17, 18, 20, 21, 22, 23, 24, 25, 26, 28, 29, 30, 31, 33,\n",
    "35, 36, 38, 39, 40, 42, 43, 44, 45, 46, ]\n",
    "# excluded subjects: 41, 19, 32, 27, 34, 37,\n",
    "#todo why?"
   ]
  },
  {
   "cell_type": "code",
   "execution_count": 9,
   "metadata": {},
   "outputs": [],
   "source": [
    "# EPICS = ['rs', 'bl', 'lrn', 'lrne', 'lrnl']\n",
    "\n",
    "EPICS = ['baseline', 'early_learning', 'late_learning']\n",
    "# rest and learning are removed in make_gradients"
   ]
  },
  {
   "cell_type": "code",
   "execution_count": 3,
   "metadata": {},
   "outputs": [],
   "source": [
    "NUM_COMPONENTS = 3"
   ]
  },
  {
   "cell_type": "markdown",
   "metadata": {},
   "source": [
    "---\n",
    "reference"
   ]
  },
  {
   "cell_type": "code",
   "execution_count": null,
   "metadata": {},
   "outputs": [],
   "source": [
    "REF_EPIC = 'baseline'"
   ]
  },
  {
   "cell_type": "code",
   "execution_count": 5,
   "metadata": {},
   "outputs": [],
   "source": [
    "data_rs = load_data(subj=1, epic='rest')\n",
    "# just took a subj to make atlas\n",
    "surf_labels, mask_removed = load_atlas(data_rs)\n",
    "# make average corr_mat"
   ]
  },
  {
   "cell_type": "code",
   "execution_count": null,
   "metadata": {},
   "outputs": [],
   "source": [
    "global_corr_mat = np.zeros((998, 998))\n",
    "for s in SUBJECTS:\n",
    "    data_baseline = load_data(subj=s, epic=REF_EPIC)\n",
    "    global_corr_mat += make_mat(data_baseline)\n",
    "global_corr_mat /= len(SUBJECTS)"
   ]
  },
  {
   "cell_type": "code",
   "execution_count": 7,
   "metadata": {},
   "outputs": [
    {
     "data": {
      "text/plain": [
       "GradientMaps(approach='pca', random_state=0)"
      ]
     },
     "execution_count": 7,
     "metadata": {},
     "output_type": "execute_result"
    }
   ],
   "source": [
    "# make the global gradient model\n",
    "DIM_RED_APPROACH = 'pca'\n",
    "global_gradient_reference = GradientMaps(random_state=0, approach=DIM_RED_APPROACH)\n",
    "global_gradient_reference.fit(global_corr_mat, sparsity=0.9)\n",
    "#todo ? sparsity"
   ]
  },
  {
   "cell_type": "code",
   "execution_count": 10,
   "metadata": {},
   "outputs": [],
   "source": [
    "grads = [{k:{} for k in EPICS} for _ in range(NUM_COMPONENTS)]\n",
    "\n",
    "for subject in SUBJECTS:\n",
    "    gm = make_gradients(subj=subject, gm_ref=global_gradient_reference)\n",
    "    for component in range(NUM_COMPONENTS):\n",
    "        for epic in EPICS:\n",
    "            grad = gm.aligned_[EPICS.index(epic)][:, component]\n",
    "            grads[component][epic][subject] = grad"
   ]
  },
  {
   "cell_type": "markdown",
   "metadata": {},
   "source": [
    "---\n",
    "the overall shitty structure of data:"
   ]
  },
  {
   "cell_type": "code",
   "execution_count": 11,
   "metadata": {},
   "outputs": [
    {
     "data": {
      "text/plain": [
       "3"
      ]
     },
     "execution_count": 11,
     "metadata": {},
     "output_type": "execute_result"
    }
   ],
   "source": [
    "len(grads)"
   ]
  },
  {
   "cell_type": "code",
   "execution_count": 12,
   "metadata": {},
   "outputs": [
    {
     "data": {
      "text/plain": [
       "dict_keys(['baseline', 'early_learning', 'late_learning'])"
      ]
     },
     "execution_count": 12,
     "metadata": {},
     "output_type": "execute_result"
    }
   ],
   "source": [
    "grads[0].keys()"
   ]
  },
  {
   "cell_type": "code",
   "execution_count": 13,
   "metadata": {},
   "outputs": [
    {
     "data": {
      "text/plain": [
       "dict_keys([1, 2, 3, 4, 5, 6, 7, 8, 9, 10, 11, 12, 13, 14, 15, 16, 17, 18, 20, 21, 22, 23, 24, 25, 26, 28, 29, 30, 31, 33, 35, 36, 38, 39, 40, 42, 43, 44, 45, 46])"
      ]
     },
     "execution_count": 13,
     "metadata": {},
     "output_type": "execute_result"
    }
   ],
   "source": [
    "grads[0]['baseline'].keys()"
   ]
  },
  {
   "cell_type": "markdown",
   "metadata": {},
   "source": [
    "---\n",
    "make the super dataframe"
   ]
  },
  {
   "cell_type": "code",
   "execution_count": 18,
   "metadata": {},
   "outputs": [
    {
     "data": {
      "text/html": [
       "<div>\n",
       "<style scoped>\n",
       "    .dataframe tbody tr th:only-of-type {\n",
       "        vertical-align: middle;\n",
       "    }\n",
       "\n",
       "    .dataframe tbody tr th {\n",
       "        vertical-align: top;\n",
       "    }\n",
       "\n",
       "    .dataframe thead th {\n",
       "        text-align: right;\n",
       "    }\n",
       "</style>\n",
       "<table border=\"1\" class=\"dataframe\">\n",
       "  <thead>\n",
       "    <tr style=\"text-align: right;\">\n",
       "      <th></th>\n",
       "      <th>region_idx</th>\n",
       "      <th>value</th>\n",
       "    </tr>\n",
       "  </thead>\n",
       "  <tbody>\n",
       "    <tr>\n",
       "      <th>0</th>\n",
       "      <td>0</td>\n",
       "      <td>-0.774317</td>\n",
       "    </tr>\n",
       "    <tr>\n",
       "      <th>1</th>\n",
       "      <td>1</td>\n",
       "      <td>-1.407623</td>\n",
       "    </tr>\n",
       "    <tr>\n",
       "      <th>2</th>\n",
       "      <td>2</td>\n",
       "      <td>-1.905399</td>\n",
       "    </tr>\n",
       "    <tr>\n",
       "      <th>3</th>\n",
       "      <td>3</td>\n",
       "      <td>-1.225759</td>\n",
       "    </tr>\n",
       "    <tr>\n",
       "      <th>4</th>\n",
       "      <td>4</td>\n",
       "      <td>-0.971639</td>\n",
       "    </tr>\n",
       "    <tr>\n",
       "      <th>...</th>\n",
       "      <td>...</td>\n",
       "      <td>...</td>\n",
       "    </tr>\n",
       "    <tr>\n",
       "      <th>993</th>\n",
       "      <td>993</td>\n",
       "      <td>-1.778768</td>\n",
       "    </tr>\n",
       "    <tr>\n",
       "      <th>994</th>\n",
       "      <td>994</td>\n",
       "      <td>-1.534647</td>\n",
       "    </tr>\n",
       "    <tr>\n",
       "      <th>995</th>\n",
       "      <td>995</td>\n",
       "      <td>-1.945736</td>\n",
       "    </tr>\n",
       "    <tr>\n",
       "      <th>996</th>\n",
       "      <td>996</td>\n",
       "      <td>0.558007</td>\n",
       "    </tr>\n",
       "    <tr>\n",
       "      <th>997</th>\n",
       "      <td>997</td>\n",
       "      <td>-0.930205</td>\n",
       "    </tr>\n",
       "  </tbody>\n",
       "</table>\n",
       "<p>998 rows × 2 columns</p>\n",
       "</div>"
      ],
      "text/plain": [
       "     region_idx     value\n",
       "0             0 -0.774317\n",
       "1             1 -1.407623\n",
       "2             2 -1.905399\n",
       "3             3 -1.225759\n",
       "4             4 -0.971639\n",
       "..          ...       ...\n",
       "993         993 -1.778768\n",
       "994         994 -1.534647\n",
       "995         995 -1.945736\n",
       "996         996  0.558007\n",
       "997         997 -0.930205\n",
       "\n",
       "[998 rows x 2 columns]"
      ]
     },
     "execution_count": 18,
     "metadata": {},
     "output_type": "execute_result"
    }
   ],
   "source": [
    "v = grads[0]['baseline'][1]\n",
    "v = pd.DataFrame(v, columns=['value'])\n",
    "v.index = v.index.set_names(['region_idx'])\n",
    "v = v.reset_index()\n",
    "v"
   ]
  },
  {
   "cell_type": "code",
   "execution_count": 20,
   "metadata": {},
   "outputs": [],
   "source": [
    "df = pd.DataFrame()\n",
    "for comp in range(NUM_COMPONENTS):\n",
    "    for epic in EPICS:\n",
    "        for subj in SUBJECTS:\n",
    "            values = grads[comp][epic][subj]\n",
    "            d = pd.DataFrame(values, columns=['value'])\n",
    "            d.index = d.index.set_names(['region_idx'])\n",
    "            d = d.reset_index()\n",
    "            d['subj'] = subj\n",
    "            d['epic'] = epic\n",
    "            d['comp'] = comp\n",
    "            df = pd.concat([df, d], axis=0)"
   ]
  },
  {
   "cell_type": "code",
   "execution_count": 22,
   "metadata": {},
   "outputs": [
    {
     "data": {
      "text/html": [
       "<div>\n",
       "<style scoped>\n",
       "    .dataframe tbody tr th:only-of-type {\n",
       "        vertical-align: middle;\n",
       "    }\n",
       "\n",
       "    .dataframe tbody tr th {\n",
       "        vertical-align: top;\n",
       "    }\n",
       "\n",
       "    .dataframe thead th {\n",
       "        text-align: right;\n",
       "    }\n",
       "</style>\n",
       "<table border=\"1\" class=\"dataframe\">\n",
       "  <thead>\n",
       "    <tr style=\"text-align: right;\">\n",
       "      <th></th>\n",
       "      <th>region_idx</th>\n",
       "      <th>value</th>\n",
       "      <th>subj</th>\n",
       "      <th>epic</th>\n",
       "      <th>comp</th>\n",
       "    </tr>\n",
       "  </thead>\n",
       "  <tbody>\n",
       "    <tr>\n",
       "      <th>0</th>\n",
       "      <td>0</td>\n",
       "      <td>-0.774317</td>\n",
       "      <td>1</td>\n",
       "      <td>baseline</td>\n",
       "      <td>0</td>\n",
       "    </tr>\n",
       "    <tr>\n",
       "      <th>1</th>\n",
       "      <td>1</td>\n",
       "      <td>-1.407623</td>\n",
       "      <td>1</td>\n",
       "      <td>baseline</td>\n",
       "      <td>0</td>\n",
       "    </tr>\n",
       "    <tr>\n",
       "      <th>2</th>\n",
       "      <td>2</td>\n",
       "      <td>-1.905399</td>\n",
       "      <td>1</td>\n",
       "      <td>baseline</td>\n",
       "      <td>0</td>\n",
       "    </tr>\n",
       "    <tr>\n",
       "      <th>3</th>\n",
       "      <td>3</td>\n",
       "      <td>-1.225759</td>\n",
       "      <td>1</td>\n",
       "      <td>baseline</td>\n",
       "      <td>0</td>\n",
       "    </tr>\n",
       "    <tr>\n",
       "      <th>4</th>\n",
       "      <td>4</td>\n",
       "      <td>-0.971639</td>\n",
       "      <td>1</td>\n",
       "      <td>baseline</td>\n",
       "      <td>0</td>\n",
       "    </tr>\n",
       "    <tr>\n",
       "      <th>...</th>\n",
       "      <td>...</td>\n",
       "      <td>...</td>\n",
       "      <td>...</td>\n",
       "      <td>...</td>\n",
       "      <td>...</td>\n",
       "    </tr>\n",
       "    <tr>\n",
       "      <th>993</th>\n",
       "      <td>993</td>\n",
       "      <td>0.586871</td>\n",
       "      <td>46</td>\n",
       "      <td>late_learning</td>\n",
       "      <td>2</td>\n",
       "    </tr>\n",
       "    <tr>\n",
       "      <th>994</th>\n",
       "      <td>994</td>\n",
       "      <td>1.364654</td>\n",
       "      <td>46</td>\n",
       "      <td>late_learning</td>\n",
       "      <td>2</td>\n",
       "    </tr>\n",
       "    <tr>\n",
       "      <th>995</th>\n",
       "      <td>995</td>\n",
       "      <td>-0.143286</td>\n",
       "      <td>46</td>\n",
       "      <td>late_learning</td>\n",
       "      <td>2</td>\n",
       "    </tr>\n",
       "    <tr>\n",
       "      <th>996</th>\n",
       "      <td>996</td>\n",
       "      <td>0.249002</td>\n",
       "      <td>46</td>\n",
       "      <td>late_learning</td>\n",
       "      <td>2</td>\n",
       "    </tr>\n",
       "    <tr>\n",
       "      <th>997</th>\n",
       "      <td>997</td>\n",
       "      <td>2.581686</td>\n",
       "      <td>46</td>\n",
       "      <td>late_learning</td>\n",
       "      <td>2</td>\n",
       "    </tr>\n",
       "  </tbody>\n",
       "</table>\n",
       "<p>359280 rows × 5 columns</p>\n",
       "</div>"
      ],
      "text/plain": [
       "     region_idx     value  subj           epic  comp\n",
       "0             0 -0.774317     1       baseline     0\n",
       "1             1 -1.407623     1       baseline     0\n",
       "2             2 -1.905399     1       baseline     0\n",
       "3             3 -1.225759     1       baseline     0\n",
       "4             4 -0.971639     1       baseline     0\n",
       "..          ...       ...   ...            ...   ...\n",
       "993         993  0.586871    46  late_learning     2\n",
       "994         994  1.364654    46  late_learning     2\n",
       "995         995 -0.143286    46  late_learning     2\n",
       "996         996  0.249002    46  late_learning     2\n",
       "997         997  2.581686    46  late_learning     2\n",
       "\n",
       "[359280 rows x 5 columns]"
      ]
     },
     "execution_count": 22,
     "metadata": {},
     "output_type": "execute_result"
    }
   ],
   "source": [
    "df"
   ]
  },
  {
   "cell_type": "code",
   "execution_count": 24,
   "metadata": {},
   "outputs": [
    {
     "data": {
      "text/plain": [
       "1.0"
      ]
     },
     "execution_count": 24,
     "metadata": {},
     "output_type": "execute_result"
    }
   ],
   "source": [
    "df.shape[0] /998/40/3/3"
   ]
  },
  {
   "cell_type": "code",
   "execution_count": null,
   "metadata": {},
   "outputs": [
    {
     "data": {
      "text/html": [
       "<div>\n",
       "<style scoped>\n",
       "    .dataframe tbody tr th:only-of-type {\n",
       "        vertical-align: middle;\n",
       "    }\n",
       "\n",
       "    .dataframe tbody tr th {\n",
       "        vertical-align: top;\n",
       "    }\n",
       "\n",
       "    .dataframe thead th {\n",
       "        text-align: right;\n",
       "    }\n",
       "</style>\n",
       "<table border=\"1\" class=\"dataframe\">\n",
       "  <thead>\n",
       "    <tr style=\"text-align: right;\">\n",
       "      <th></th>\n",
       "      <th></th>\n",
       "      <th></th>\n",
       "      <th>value</th>\n",
       "    </tr>\n",
       "    <tr>\n",
       "      <th>subj</th>\n",
       "      <th>epic</th>\n",
       "      <th>region_idx</th>\n",
       "      <th></th>\n",
       "    </tr>\n",
       "  </thead>\n",
       "  <tbody>\n",
       "    <tr>\n",
       "      <th rowspan=\"5\" valign=\"top\">1</th>\n",
       "      <th rowspan=\"5\" valign=\"top\">baseline</th>\n",
       "      <th>0</th>\n",
       "      <td>0.710846</td>\n",
       "    </tr>\n",
       "    <tr>\n",
       "      <th>1</th>\n",
       "      <td>0.126286</td>\n",
       "    </tr>\n",
       "    <tr>\n",
       "      <th>2</th>\n",
       "      <td>-0.057745</td>\n",
       "    </tr>\n",
       "    <tr>\n",
       "      <th>3</th>\n",
       "      <td>0.448429</td>\n",
       "    </tr>\n",
       "    <tr>\n",
       "      <th>4</th>\n",
       "      <td>0.473483</td>\n",
       "    </tr>\n",
       "    <tr>\n",
       "      <th>...</th>\n",
       "      <th>...</th>\n",
       "      <th>...</th>\n",
       "      <td>...</td>\n",
       "    </tr>\n",
       "    <tr>\n",
       "      <th rowspan=\"5\" valign=\"top\">46</th>\n",
       "      <th rowspan=\"5\" valign=\"top\">late_learning</th>\n",
       "      <th>993</th>\n",
       "      <td>-0.835918</td>\n",
       "    </tr>\n",
       "    <tr>\n",
       "      <th>994</th>\n",
       "      <td>-1.189531</td>\n",
       "    </tr>\n",
       "    <tr>\n",
       "      <th>995</th>\n",
       "      <td>-0.858283</td>\n",
       "    </tr>\n",
       "    <tr>\n",
       "      <th>996</th>\n",
       "      <td>0.224819</td>\n",
       "    </tr>\n",
       "    <tr>\n",
       "      <th>997</th>\n",
       "      <td>-0.038616</td>\n",
       "    </tr>\n",
       "  </tbody>\n",
       "</table>\n",
       "<p>119760 rows × 1 columns</p>\n",
       "</div>"
      ],
      "text/plain": [
       "                                  value\n",
       "subj epic          region_idx          \n",
       "1    baseline      0           0.710846\n",
       "                   1           0.126286\n",
       "                   2          -0.057745\n",
       "                   3           0.448429\n",
       "                   4           0.473483\n",
       "...                                 ...\n",
       "46   late_learning 993        -0.835918\n",
       "                   994        -1.189531\n",
       "                   995        -0.858283\n",
       "                   996         0.224819\n",
       "                   997        -0.038616\n",
       "\n",
       "[119760 rows x 1 columns]"
      ]
     },
     "metadata": {},
     "output_type": "display_data"
    }
   ],
   "source": [
    "df.groupby(['subj', 'epic', 'region_idx']).agg({'value': np.mean})"
   ]
  },
  {
   "cell_type": "code",
   "execution_count": null,
   "metadata": {},
   "outputs": [],
   "source": [
    "# fliter, transform, aggregate"
   ]
  },
  {
   "cell_type": "code",
   "execution_count": 25,
   "metadata": {},
   "outputs": [
    {
     "data": {
      "text/html": [
       "<div>\n",
       "<style scoped>\n",
       "    .dataframe tbody tr th:only-of-type {\n",
       "        vertical-align: middle;\n",
       "    }\n",
       "\n",
       "    .dataframe tbody tr th {\n",
       "        vertical-align: top;\n",
       "    }\n",
       "\n",
       "    .dataframe thead th {\n",
       "        text-align: right;\n",
       "    }\n",
       "</style>\n",
       "<table border=\"1\" class=\"dataframe\">\n",
       "  <thead>\n",
       "    <tr style=\"text-align: right;\">\n",
       "      <th></th>\n",
       "      <th>subj</th>\n",
       "      <th>epic</th>\n",
       "      <th>region_idx</th>\n",
       "      <th>value</th>\n",
       "      <th>comp</th>\n",
       "    </tr>\n",
       "  </thead>\n",
       "  <tbody>\n",
       "    <tr>\n",
       "      <th>0</th>\n",
       "      <td>1</td>\n",
       "      <td>baseline</td>\n",
       "      <td>0</td>\n",
       "      <td>3.738824</td>\n",
       "      <td>ecc</td>\n",
       "    </tr>\n",
       "    <tr>\n",
       "      <th>1</th>\n",
       "      <td>1</td>\n",
       "      <td>baseline</td>\n",
       "      <td>1</td>\n",
       "      <td>1.606313</td>\n",
       "      <td>ecc</td>\n",
       "    </tr>\n",
       "    <tr>\n",
       "      <th>2</th>\n",
       "      <td>1</td>\n",
       "      <td>baseline</td>\n",
       "      <td>2</td>\n",
       "      <td>2.232096</td>\n",
       "      <td>ecc</td>\n",
       "    </tr>\n",
       "    <tr>\n",
       "      <th>3</th>\n",
       "      <td>1</td>\n",
       "      <td>baseline</td>\n",
       "      <td>3</td>\n",
       "      <td>2.600396</td>\n",
       "      <td>ecc</td>\n",
       "    </tr>\n",
       "    <tr>\n",
       "      <th>4</th>\n",
       "      <td>1</td>\n",
       "      <td>baseline</td>\n",
       "      <td>4</td>\n",
       "      <td>2.093912</td>\n",
       "      <td>ecc</td>\n",
       "    </tr>\n",
       "    <tr>\n",
       "      <th>...</th>\n",
       "      <td>...</td>\n",
       "      <td>...</td>\n",
       "      <td>...</td>\n",
       "      <td>...</td>\n",
       "      <td>...</td>\n",
       "    </tr>\n",
       "    <tr>\n",
       "      <th>119755</th>\n",
       "      <td>46</td>\n",
       "      <td>late_learning</td>\n",
       "      <td>993</td>\n",
       "      <td>1.497172</td>\n",
       "      <td>ecc</td>\n",
       "    </tr>\n",
       "    <tr>\n",
       "      <th>119756</th>\n",
       "      <td>46</td>\n",
       "      <td>late_learning</td>\n",
       "      <td>994</td>\n",
       "      <td>2.645587</td>\n",
       "      <td>ecc</td>\n",
       "    </tr>\n",
       "    <tr>\n",
       "      <th>119757</th>\n",
       "      <td>46</td>\n",
       "      <td>late_learning</td>\n",
       "      <td>995</td>\n",
       "      <td>0.922904</td>\n",
       "      <td>ecc</td>\n",
       "    </tr>\n",
       "    <tr>\n",
       "      <th>119758</th>\n",
       "      <td>46</td>\n",
       "      <td>late_learning</td>\n",
       "      <td>996</td>\n",
       "      <td>2.302812</td>\n",
       "      <td>ecc</td>\n",
       "    </tr>\n",
       "    <tr>\n",
       "      <th>119759</th>\n",
       "      <td>46</td>\n",
       "      <td>late_learning</td>\n",
       "      <td>997</td>\n",
       "      <td>2.626035</td>\n",
       "      <td>ecc</td>\n",
       "    </tr>\n",
       "  </tbody>\n",
       "</table>\n",
       "<p>119760 rows × 5 columns</p>\n",
       "</div>"
      ],
      "text/plain": [
       "        subj           epic  region_idx     value comp\n",
       "0          1       baseline           0  3.738824  ecc\n",
       "1          1       baseline           1  1.606313  ecc\n",
       "2          1       baseline           2  2.232096  ecc\n",
       "3          1       baseline           3  2.600396  ecc\n",
       "4          1       baseline           4  2.093912  ecc\n",
       "...      ...            ...         ...       ...  ...\n",
       "119755    46  late_learning         993  1.497172  ecc\n",
       "119756    46  late_learning         994  2.645587  ecc\n",
       "119757    46  late_learning         995  0.922904  ecc\n",
       "119758    46  late_learning         996  2.302812  ecc\n",
       "119759    46  late_learning         997  2.626035  ecc\n",
       "\n",
       "[119760 rows x 5 columns]"
      ]
     },
     "execution_count": 25,
     "metadata": {},
     "output_type": "execute_result"
    }
   ],
   "source": [
    "ecc = df[df.comp.isin([0, 1, 2])]\\\n",
    "    .assign(v2=lambda r: r['value']**2, aixs=1)\\\n",
    "        .groupby(['subj', 'epic', 'region_idx']).agg({'v2': sum})\\\n",
    "            .v2.apply(np.sqrt).reset_index()\\\n",
    "                .rename(columns={'v2': 'value'})\n",
    "ecc['comp'] = 'ecc'\n",
    "\n",
    "ecc"
   ]
  },
  {
   "cell_type": "code",
   "execution_count": 29,
   "metadata": {},
   "outputs": [
    {
     "data": {
      "text/plain": [
       "(119760, 119760)"
      ]
     },
     "execution_count": 29,
     "metadata": {},
     "output_type": "execute_result"
    }
   ],
   "source": [
    "df.shape[0] // NUM_COMPONENTS, ecc.shape[0]"
   ]
  },
  {
   "cell_type": "code",
   "execution_count": 30,
   "metadata": {},
   "outputs": [],
   "source": [
    "df = pd.concat([df, ecc], axis=0)"
   ]
  },
  {
   "cell_type": "code",
   "execution_count": 31,
   "metadata": {},
   "outputs": [],
   "source": [
    "# df.to_csv('subjects_gradients_ecc.csv')"
   ]
  },
  {
   "cell_type": "code",
   "execution_count": 33,
   "metadata": {},
   "outputs": [
    {
     "data": {
      "text/plain": [
       "array([0, 1, 2, 'ecc'], dtype=object)"
      ]
     },
     "execution_count": 33,
     "metadata": {},
     "output_type": "execute_result"
    }
   ],
   "source": [
    "df.comp.unique()"
   ]
  },
  {
   "cell_type": "code",
   "execution_count": null,
   "metadata": {},
   "outputs": [],
   "source": []
  }
 ],
 "metadata": {
  "interpreter": {
   "hash": "7dd4b2e0a09902df48680c02c728ef39867511bbf4407a8db20bdd325cca64c6"
  },
  "kernelspec": {
   "display_name": "Python 3.8.12 64-bit ('brainv': conda)",
   "language": "python",
   "name": "python3"
  },
  "language_info": {
   "codemirror_mode": {
    "name": "ipython",
    "version": 3
   },
   "file_extension": ".py",
   "mimetype": "text/x-python",
   "name": "python",
   "nbconvert_exporter": "python",
   "pygments_lexer": "ipython3",
   "version": "3.8.12"
  },
  "orig_nbformat": 4
 },
 "nbformat": 4,
 "nbformat_minor": 2
}
