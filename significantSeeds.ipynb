{
 "cells": [
  {
   "cell_type": "markdown",
   "source": [
    "regions"
   ],
   "metadata": {
    "collapsed": false,
    "pycharm": {
     "name": "#%% md\n"
    }
   }
  },
  {
   "cell_type": "code",
   "execution_count": null,
   "outputs": [],
   "source": [
    "from gradecc.measures import get_measures\n",
    "from gradecc.plot_brain import plot_brain\n",
    "from gradecc.stats import rm_anova\n",
    "\n",
    "df = get_measures()\n",
    "df_stats = rm_anova(df)\n",
    "df_stats_ecc = df_stats[df_stats.measure == 'eccentricity']\n",
    "\n",
    "plot_brain(df_stats_ecc, 'F', 'pvalue_corrected',\n",
    "           color_range=(1, 10), layout='grid')"
   ],
   "metadata": {
    "collapsed": false,
    "pycharm": {
     "name": "#%%\n",
     "is_executing": true
    }
   }
  },
  {
   "cell_type": "code",
   "execution_count": null,
   "outputs": [],
   "source": [
    "sig_regions = df_stats_ecc[df_stats_ecc.fdr_significant == True].region.tolist()\n",
    "sig_regions"
   ],
   "metadata": {
    "collapsed": false,
    "pycharm": {
     "name": "#%%\n",
     "is_executing": true
    }
   }
  },
  {
   "cell_type": "markdown",
   "source": [
    "plot\n"
   ],
   "metadata": {
    "collapsed": false,
    "pycharm": {
     "name": "#%% md\n"
    }
   }
  },
  {
   "cell_type": "code",
   "execution_count": null,
   "outputs": [],
   "source": [
    "import operator\n",
    "\n",
    "rois = [1, 4, 7, 15, 17, 20, 27, 30, 45]\n",
    "rois = operator.itemgetter(*rois)(sig_regions)\n",
    "rois"
   ],
   "metadata": {
    "collapsed": false,
    "pycharm": {
     "name": "#%%\n",
     "is_executing": true
    }
   }
  },
  {
   "cell_type": "code",
   "execution_count": null,
   "outputs": [],
   "source": [
    "from gradecc.load_timeseries import spot_region\n",
    "from gradecc.plot_brain import plot_brain\n",
    "\n",
    "for sample_region in rois:\n",
    "    plot_brain(spot_region(sample_region), layout='grid',\n",
    "           text=sample_region[10:], as_outline=True, save_figure=False)"
   ],
   "metadata": {
    "collapsed": false,
    "pycharm": {
     "name": "#%%\n",
     "is_executing": true
    }
   }
  },
  {
   "cell_type": "code",
   "execution_count": null,
   "outputs": [],
   "source": [
    "df_seed_shift.reset_index().assign(seed_region=sample_region).set_index(['seed_region', 'A', 'B'])"
   ],
   "metadata": {
    "collapsed": false,
    "pycharm": {
     "name": "#%%\n",
     "is_executing": true
    }
   }
  },
  {
   "cell_type": "code",
   "execution_count": null,
   "outputs": [],
   "source": [
    "from gradecc.stats import seed_ttests\n",
    "from gradecc.seed_conn import seed_connectivity\n",
    "\n",
    "for sample_region in rois:\n",
    "    df_seed = seed_connectivity(sample_region)\n",
    "    df_seed_shift = seed_ttests(df_seed, filename=sample_region[10:])\n",
    "\n",
    "    for pair in df_seed_shift.index.unique():\n",
    "        text = sample_region[10:] + ' seed ' + pair[0][0].upper() + ' to ' + pair[1][0].upper()\n",
    "        plot_brain(df_seed_shift.loc[pair], 'tstat',\n",
    "                   text=text, color_range=(-4, 4), color_map='bwr', layout='grid',\n",
    "                   save_figure=False)"
   ],
   "metadata": {
    "collapsed": false,
    "pycharm": {
     "name": "#%%\n",
     "is_executing": true
    }
   }
  },
  {
   "cell_type": "code",
   "execution_count": null,
   "outputs": [],
   "source": [],
   "metadata": {
    "collapsed": false,
    "pycharm": {
     "name": "#%%\n",
     "is_executing": true
    }
   }
  }
 ],
 "metadata": {
  "kernelspec": {
   "display_name": "Python 3",
   "language": "python",
   "name": "python3"
  },
  "language_info": {
   "codemirror_mode": {
    "name": "ipython",
    "version": 2
   },
   "file_extension": ".py",
   "mimetype": "text/x-python",
   "name": "python",
   "nbconvert_exporter": "python",
   "pygments_lexer": "ipython2",
   "version": "2.7.6"
  }
 },
 "nbformat": 4,
 "nbformat_minor": 0
}