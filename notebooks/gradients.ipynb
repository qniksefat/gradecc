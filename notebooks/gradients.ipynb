{
 "cells": [
  {
   "cell_type": "markdown",
   "source": [
    "# load timeseries"
   ],
   "metadata": {
    "collapsed": false,
    "pycharm": {
     "name": "#%% md\n"
    }
   }
  },
  {
   "cell_type": "code",
   "execution_count": 1,
   "outputs": [
    {
     "data": {
      "text/plain": "     7Networks_LH_Vis_1  7Networks_LH_Vis_2  7Networks_LH_Vis_3  \\\n81            -1.147130           -0.011634           -0.834681   \n82            -1.320467           -0.231867           -0.563454   \n83            -1.174421           -0.428674           -0.363888   \n84            -0.756209           -0.760254           -0.420412   \n85            -0.434393           -1.194737           -0.765582   \n..                  ...                 ...                 ...   \n292            1.445563            1.121662            0.346299   \n293            0.931139            1.339557            0.294348   \n294            0.146482            1.281695            0.341882   \n295           -0.096195            0.645910            0.398379   \n296            0.365653           -0.547231            0.410659   \n\n     7Networks_LH_Vis_4  7Networks_LH_Vis_5  7Networks_LH_Vis_6  \\\n81            -0.981172           -1.318338           -0.709555   \n82            -1.171296           -0.817096           -0.323944   \n83            -0.905439           -0.494907            0.285463   \n84            -0.667015           -0.666464            0.762095   \n85            -0.713403           -1.228695            0.819357   \n..                  ...                 ...                 ...   \n292            0.184897            0.825249            0.372480   \n293            0.275699            1.059023            1.462570   \n294            0.241623            0.899874            1.757626   \n295           -0.180930            0.630592            0.834628   \n296           -1.013697            0.480010           -0.964209   \n\n     7Networks_LH_Vis_7  7Networks_LH_Vis_8  7Networks_LH_Vis_9  \\\n81            -0.171125           -0.250766           -0.217906   \n82            -0.904119           -0.269817           -0.090908   \n83            -0.690789           -0.348310            0.206873   \n84             0.164170           -0.601564            0.435701   \n85             0.686869           -1.041278            0.278734   \n..                  ...                 ...                 ...   \n292            0.884837            0.344942            0.317202   \n293            1.737677            0.704522            1.422811   \n294            1.471905            0.917270            2.029235   \n295            0.299376            0.876233            1.190080   \n296           -1.211572            0.636122           -0.904584   \n\n     7Networks_LH_Vis_10  ...  7Networks_RH_Default_pCunPCC_11  \\\n81             -0.344197  ...                         0.223958   \n82              0.115817  ...                        -0.180995   \n83              0.752206  ...                         0.192179   \n84              1.124047  ...                         0.506466   \n85              0.842465  ...                         0.129248   \n..                   ...  ...                              ...   \n292             1.401255  ...                        -0.192042   \n293             1.281799  ...                        -0.011276   \n294             0.879437  ...                         0.224614   \n295             0.603152  ...                        -0.093380   \n296             0.595856  ...                        -1.062923   \n\n     7Networks_RH_Default_pCunPCC_12  7Networks_RH_Default_pCunPCC_13  \\\n81                          0.232471                         0.116335   \n82                         -0.166467                        -0.156110   \n83                          0.205476                        -0.279778   \n84                          0.538640                        -0.609860   \n85                          0.412432                        -1.048262   \n..                               ...                              ...   \n292                        -0.877654                         0.218058   \n293                         0.301594                         0.108651   \n294                         1.517956                        -0.033524   \n295                         1.236797                        -0.234652   \n296                        -0.709076                        -0.502777   \n\n     7Networks_RH_Default_pCunPCC_14  7Networks_RH_Default_pCunPCC_15  \\\n81                         -1.442267                         0.817496   \n82                         -1.461224                         0.465259   \n83                         -0.404232                         0.050101   \n84                          0.768665                        -0.484686   \n85                          1.386302                        -0.927485   \n..                               ...                              ...   \n292                         1.913745                        -0.300930   \n293                         1.667814                        -0.470783   \n294                         0.921649                        -0.453863   \n295                         0.025174                        -0.389619   \n296                        -0.922233                        -0.359560   \n\n     7Networks_RH_Default_pCunPCC_16  7Networks_RH_Default_pCunPCC_17  \\\n81                          0.767920                        -0.306158   \n82                          0.476541                        -1.133818   \n83                          0.065233                        -1.409807   \n84                         -0.588126                        -1.526292   \n85                         -1.306482                        -1.644069   \n..                               ...                              ...   \n292                        -0.729227                         0.655901   \n293                        -0.396696                         0.353038   \n294                         0.518422                         0.302741   \n295                         0.717657                         0.247995   \n296                        -0.257659                        -0.065884   \n\n     7Networks_RH_Default_pCunPCC_18  7Networks_RH_Cont_pCun_2  \\\n81                          0.638966                 -0.426738   \n82                          0.368850                 -1.214839   \n83                          0.031880                 -1.246409   \n84                         -0.377665                 -0.714696   \n85                         -0.645880                 -0.149643   \n..                               ...                       ...   \n292                         0.581592                  0.211765   \n293                         0.156804                  0.365213   \n294                        -0.234622                  0.529878   \n295                        -0.637489                  0.106300   \n296                        -1.155583                 -1.044706   \n\n     7Networks_RH_Cont_pCun_4  \n81                  -0.397361  \n82                  -0.509315  \n83                  -0.476142  \n84                  -0.328736  \n85                  -0.187327  \n..                        ...  \n292                  0.690607  \n293                  0.464623  \n294                  0.214169  \n295                 -0.361705  \n296                 -1.358639  \n\n[216 rows x 998 columns]",
      "text/html": "<div>\n<style scoped>\n    .dataframe tbody tr th:only-of-type {\n        vertical-align: middle;\n    }\n\n    .dataframe tbody tr th {\n        vertical-align: top;\n    }\n\n    .dataframe thead th {\n        text-align: right;\n    }\n</style>\n<table border=\"1\" class=\"dataframe\">\n  <thead>\n    <tr style=\"text-align: right;\">\n      <th></th>\n      <th>7Networks_LH_Vis_1</th>\n      <th>7Networks_LH_Vis_2</th>\n      <th>7Networks_LH_Vis_3</th>\n      <th>7Networks_LH_Vis_4</th>\n      <th>7Networks_LH_Vis_5</th>\n      <th>7Networks_LH_Vis_6</th>\n      <th>7Networks_LH_Vis_7</th>\n      <th>7Networks_LH_Vis_8</th>\n      <th>7Networks_LH_Vis_9</th>\n      <th>7Networks_LH_Vis_10</th>\n      <th>...</th>\n      <th>7Networks_RH_Default_pCunPCC_11</th>\n      <th>7Networks_RH_Default_pCunPCC_12</th>\n      <th>7Networks_RH_Default_pCunPCC_13</th>\n      <th>7Networks_RH_Default_pCunPCC_14</th>\n      <th>7Networks_RH_Default_pCunPCC_15</th>\n      <th>7Networks_RH_Default_pCunPCC_16</th>\n      <th>7Networks_RH_Default_pCunPCC_17</th>\n      <th>7Networks_RH_Default_pCunPCC_18</th>\n      <th>7Networks_RH_Cont_pCun_2</th>\n      <th>7Networks_RH_Cont_pCun_4</th>\n    </tr>\n  </thead>\n  <tbody>\n    <tr>\n      <th>81</th>\n      <td>-1.147130</td>\n      <td>-0.011634</td>\n      <td>-0.834681</td>\n      <td>-0.981172</td>\n      <td>-1.318338</td>\n      <td>-0.709555</td>\n      <td>-0.171125</td>\n      <td>-0.250766</td>\n      <td>-0.217906</td>\n      <td>-0.344197</td>\n      <td>...</td>\n      <td>0.223958</td>\n      <td>0.232471</td>\n      <td>0.116335</td>\n      <td>-1.442267</td>\n      <td>0.817496</td>\n      <td>0.767920</td>\n      <td>-0.306158</td>\n      <td>0.638966</td>\n      <td>-0.426738</td>\n      <td>-0.397361</td>\n    </tr>\n    <tr>\n      <th>82</th>\n      <td>-1.320467</td>\n      <td>-0.231867</td>\n      <td>-0.563454</td>\n      <td>-1.171296</td>\n      <td>-0.817096</td>\n      <td>-0.323944</td>\n      <td>-0.904119</td>\n      <td>-0.269817</td>\n      <td>-0.090908</td>\n      <td>0.115817</td>\n      <td>...</td>\n      <td>-0.180995</td>\n      <td>-0.166467</td>\n      <td>-0.156110</td>\n      <td>-1.461224</td>\n      <td>0.465259</td>\n      <td>0.476541</td>\n      <td>-1.133818</td>\n      <td>0.368850</td>\n      <td>-1.214839</td>\n      <td>-0.509315</td>\n    </tr>\n    <tr>\n      <th>83</th>\n      <td>-1.174421</td>\n      <td>-0.428674</td>\n      <td>-0.363888</td>\n      <td>-0.905439</td>\n      <td>-0.494907</td>\n      <td>0.285463</td>\n      <td>-0.690789</td>\n      <td>-0.348310</td>\n      <td>0.206873</td>\n      <td>0.752206</td>\n      <td>...</td>\n      <td>0.192179</td>\n      <td>0.205476</td>\n      <td>-0.279778</td>\n      <td>-0.404232</td>\n      <td>0.050101</td>\n      <td>0.065233</td>\n      <td>-1.409807</td>\n      <td>0.031880</td>\n      <td>-1.246409</td>\n      <td>-0.476142</td>\n    </tr>\n    <tr>\n      <th>84</th>\n      <td>-0.756209</td>\n      <td>-0.760254</td>\n      <td>-0.420412</td>\n      <td>-0.667015</td>\n      <td>-0.666464</td>\n      <td>0.762095</td>\n      <td>0.164170</td>\n      <td>-0.601564</td>\n      <td>0.435701</td>\n      <td>1.124047</td>\n      <td>...</td>\n      <td>0.506466</td>\n      <td>0.538640</td>\n      <td>-0.609860</td>\n      <td>0.768665</td>\n      <td>-0.484686</td>\n      <td>-0.588126</td>\n      <td>-1.526292</td>\n      <td>-0.377665</td>\n      <td>-0.714696</td>\n      <td>-0.328736</td>\n    </tr>\n    <tr>\n      <th>85</th>\n      <td>-0.434393</td>\n      <td>-1.194737</td>\n      <td>-0.765582</td>\n      <td>-0.713403</td>\n      <td>-1.228695</td>\n      <td>0.819357</td>\n      <td>0.686869</td>\n      <td>-1.041278</td>\n      <td>0.278734</td>\n      <td>0.842465</td>\n      <td>...</td>\n      <td>0.129248</td>\n      <td>0.412432</td>\n      <td>-1.048262</td>\n      <td>1.386302</td>\n      <td>-0.927485</td>\n      <td>-1.306482</td>\n      <td>-1.644069</td>\n      <td>-0.645880</td>\n      <td>-0.149643</td>\n      <td>-0.187327</td>\n    </tr>\n    <tr>\n      <th>...</th>\n      <td>...</td>\n      <td>...</td>\n      <td>...</td>\n      <td>...</td>\n      <td>...</td>\n      <td>...</td>\n      <td>...</td>\n      <td>...</td>\n      <td>...</td>\n      <td>...</td>\n      <td>...</td>\n      <td>...</td>\n      <td>...</td>\n      <td>...</td>\n      <td>...</td>\n      <td>...</td>\n      <td>...</td>\n      <td>...</td>\n      <td>...</td>\n      <td>...</td>\n      <td>...</td>\n    </tr>\n    <tr>\n      <th>292</th>\n      <td>1.445563</td>\n      <td>1.121662</td>\n      <td>0.346299</td>\n      <td>0.184897</td>\n      <td>0.825249</td>\n      <td>0.372480</td>\n      <td>0.884837</td>\n      <td>0.344942</td>\n      <td>0.317202</td>\n      <td>1.401255</td>\n      <td>...</td>\n      <td>-0.192042</td>\n      <td>-0.877654</td>\n      <td>0.218058</td>\n      <td>1.913745</td>\n      <td>-0.300930</td>\n      <td>-0.729227</td>\n      <td>0.655901</td>\n      <td>0.581592</td>\n      <td>0.211765</td>\n      <td>0.690607</td>\n    </tr>\n    <tr>\n      <th>293</th>\n      <td>0.931139</td>\n      <td>1.339557</td>\n      <td>0.294348</td>\n      <td>0.275699</td>\n      <td>1.059023</td>\n      <td>1.462570</td>\n      <td>1.737677</td>\n      <td>0.704522</td>\n      <td>1.422811</td>\n      <td>1.281799</td>\n      <td>...</td>\n      <td>-0.011276</td>\n      <td>0.301594</td>\n      <td>0.108651</td>\n      <td>1.667814</td>\n      <td>-0.470783</td>\n      <td>-0.396696</td>\n      <td>0.353038</td>\n      <td>0.156804</td>\n      <td>0.365213</td>\n      <td>0.464623</td>\n    </tr>\n    <tr>\n      <th>294</th>\n      <td>0.146482</td>\n      <td>1.281695</td>\n      <td>0.341882</td>\n      <td>0.241623</td>\n      <td>0.899874</td>\n      <td>1.757626</td>\n      <td>1.471905</td>\n      <td>0.917270</td>\n      <td>2.029235</td>\n      <td>0.879437</td>\n      <td>...</td>\n      <td>0.224614</td>\n      <td>1.517956</td>\n      <td>-0.033524</td>\n      <td>0.921649</td>\n      <td>-0.453863</td>\n      <td>0.518422</td>\n      <td>0.302741</td>\n      <td>-0.234622</td>\n      <td>0.529878</td>\n      <td>0.214169</td>\n    </tr>\n    <tr>\n      <th>295</th>\n      <td>-0.096195</td>\n      <td>0.645910</td>\n      <td>0.398379</td>\n      <td>-0.180930</td>\n      <td>0.630592</td>\n      <td>0.834628</td>\n      <td>0.299376</td>\n      <td>0.876233</td>\n      <td>1.190080</td>\n      <td>0.603152</td>\n      <td>...</td>\n      <td>-0.093380</td>\n      <td>1.236797</td>\n      <td>-0.234652</td>\n      <td>0.025174</td>\n      <td>-0.389619</td>\n      <td>0.717657</td>\n      <td>0.247995</td>\n      <td>-0.637489</td>\n      <td>0.106300</td>\n      <td>-0.361705</td>\n    </tr>\n    <tr>\n      <th>296</th>\n      <td>0.365653</td>\n      <td>-0.547231</td>\n      <td>0.410659</td>\n      <td>-1.013697</td>\n      <td>0.480010</td>\n      <td>-0.964209</td>\n      <td>-1.211572</td>\n      <td>0.636122</td>\n      <td>-0.904584</td>\n      <td>0.595856</td>\n      <td>...</td>\n      <td>-1.062923</td>\n      <td>-0.709076</td>\n      <td>-0.502777</td>\n      <td>-0.922233</td>\n      <td>-0.359560</td>\n      <td>-0.257659</td>\n      <td>-0.065884</td>\n      <td>-1.155583</td>\n      <td>-1.044706</td>\n      <td>-1.358639</td>\n    </tr>\n  </tbody>\n</table>\n<p>216 rows × 998 columns</p>\n</div>"
     },
     "execution_count": 1,
     "metadata": {},
     "output_type": "execute_result"
    }
   ],
   "source": [
    "from gradecc.load_timeseries import load_timeseries\n",
    "\n",
    "load_timeseries(subject=1, epic='rest')"
   ],
   "metadata": {
    "collapsed": false,
    "pycharm": {
     "name": "#%%\n"
    }
   }
  },
  {
   "cell_type": "code",
   "execution_count": 2,
   "outputs": [
    {
     "data": {
      "text/plain": "{533, 903}"
     },
     "execution_count": 2,
     "metadata": {},
     "output_type": "execute_result"
    }
   ],
   "source": [
    "from gradecc.plot_brain import ATLAS, _init_atlas\n",
    "import numpy as np\n",
    "\n",
    "_init_atlas()\n",
    "set(np.arange(0, 1001)) - set(ATLAS['vertex_labels'])"
   ],
   "metadata": {
    "collapsed": false,
    "pycharm": {
     "name": "#%%\n"
    }
   }
  },
  {
   "cell_type": "markdown",
   "source": [
    "# connectivity matrix"
   ],
   "metadata": {
    "collapsed": false,
    "pycharm": {
     "name": "#%% md\n"
    }
   }
  },
  {
   "cell_type": "code",
   "execution_count": null,
   "outputs": [],
   "source": [
    "from gradecc.connectivity_matrix import plot_conn_mat\n",
    "\n",
    "plot_conn_mat(epic='late')"
   ],
   "metadata": {
    "collapsed": false,
    "pycharm": {
     "name": "#%%\n",
     "is_executing": true
    }
   }
  },
  {
   "cell_type": "markdown",
   "source": [
    "# gradients and eccentricity"
   ],
   "metadata": {
    "collapsed": false,
    "pycharm": {
     "name": "#%% md\n"
    }
   }
  },
  {
   "cell_type": "code",
   "execution_count": null,
   "outputs": [],
   "source": [
    "from gradecc.measures import get_measures\n",
    "\n",
    "get_measures(measures='gradient1', subjects=[4, 10])"
   ],
   "metadata": {
    "collapsed": false,
    "pycharm": {
     "name": "#%%\n",
     "is_executing": true
    }
   }
  },
  {
   "cell_type": "code",
   "execution_count": null,
   "outputs": [],
   "source": [
    "from gradecc.plot_brain import plot_brain\n",
    "from gradecc.measures import get_measures_avg\n",
    "\n",
    "for epic in ['baseline', 'early', 'late']:\n",
    "        ecc = get_measures_avg(epic_list=epic, measures='eccentricity')\n",
    "        plot_brain(ecc, color_range=(0, 4), color_map='viridis',\n",
    "                   text=('Eccentricity averaged in \\n' + epic.upper()))"
   ],
   "metadata": {
    "collapsed": false,
    "pycharm": {
     "name": "#%%\n",
     "is_executing": true
    }
   }
  },
  {
   "cell_type": "code",
   "execution_count": null,
   "outputs": [],
   "source": [
    "for grad in ['gradient1', 'gradient2', 'gradient3', 'gradient4']:\n",
    "    for epic in ['baseline', 'early', 'late']:\n",
    "        grad_data = get_measures_avg(epic_list=epic, measures=grad)\n",
    "        plot_brain(grad_data, color_map='bwr', color_range=(-3.7, 3.7),\n",
    "                   text=(grad + ' averaged in \\n' + epic.upper())\n",
    "                   )"
   ],
   "metadata": {
    "collapsed": false,
    "pycharm": {
     "name": "#%%\n",
     "is_executing": true
    }
   }
  },
  {
   "cell_type": "markdown",
   "source": [
    "## variance"
   ],
   "metadata": {
    "collapsed": false,
    "pycharm": {
     "name": "#%% md\n"
    }
   }
  },
  {
   "cell_type": "code",
   "execution_count": null,
   "outputs": [],
   "source": [
    "from gradecc.gradient import variance_explained\n",
    "\n",
    "variance = variance_explained(epic_list=None, cum_sum=False, reference_epic='baseline')"
   ],
   "metadata": {
    "collapsed": false,
    "pycharm": {
     "name": "#%%\n",
     "is_executing": true
    }
   }
  },
  {
   "cell_type": "code",
   "execution_count": null,
   "outputs": [],
   "source": [
    "import seaborn as sns\n",
    "import pandas as pd\n",
    "\n",
    "sns.lineplot(y='value', x='variable', hue='index',\n",
    "             style='index', markers=True,\n",
    "    data=pd.melt(variance.reset_index(),['index']))"
   ],
   "metadata": {
    "collapsed": false,
    "pycharm": {
     "name": "#%%\n",
     "is_executing": true
    }
   }
  },
  {
   "cell_type": "code",
   "execution_count": null,
   "outputs": [],
   "source": [],
   "metadata": {
    "collapsed": false,
    "pycharm": {
     "name": "#%%\n",
     "is_executing": true
    }
   }
  }
 ],
 "metadata": {
  "interpreter": {
   "hash": "7dd4b2e0a09902df48680c02c728ef39867511bbf4407a8db20bdd325cca64c6"
  },
  "kernelspec": {
   "name": "python3812jvsc74a57bd07dd4b2e0a09902df48680c02c728ef39867511bbf4407a8db20bdd325cca64c6",
   "language": "python",
   "display_name": "Python 3.8.12 64-bit ('brainv': conda)"
  },
  "language_info": {
   "codemirror_mode": {
    "name": "ipython",
    "version": 3
   },
   "file_extension": ".py",
   "mimetype": "text/x-python",
   "name": "python",
   "nbconvert_exporter": "python",
   "pygments_lexer": "ipython3",
   "version": "3.8.12"
  },
  "orig_nbformat": 4
 },
 "nbformat": 4,
 "nbformat_minor": 2
}