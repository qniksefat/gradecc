{
 "cells": [
  {
   "cell_type": "code",
   "execution_count": 1,
   "metadata": {
    "collapsed": false,
    "jupyter": {
     "outputs_hidden": false
    },
    "pycharm": {
     "name": "#%%\n"
    }
   },
   "outputs": [],
   "source": [
    "#|default_exp conn_mat_center"
   ]
  },
  {
   "cell_type": "markdown",
   "metadata": {
    "pycharm": {
     "name": "#%% md\n"
    }
   },
   "source": [
    "# save data"
   ]
  },
  {
   "cell_type": "code",
   "execution_count": 1,
   "metadata": {
    "collapsed": false,
    "jupyter": {
     "outputs_hidden": false
    },
    "pycharm": {
     "name": "#%%\n"
    }
   },
   "outputs": [],
   "source": [
    "from gradecc.utils.filenames import dir_conn_mat\n",
    "import pickle\n",
    "\n",
    "def dump_pkl(obj, fname):\n",
    "    with open(dir_conn_mat+fname +'.pickle', 'wb') as handle:\n",
    "        pickle.dump(obj, handle, protocol=pickle.HIGHEST_PROTOCOL)\n",
    "\n",
    "def load_pkl(fname):\n",
    "    with open(dir_conn_mat+fname +'.pickle', 'rb') as handle:\n",
    "        return pickle.load(handle)"
   ]
  },
  {
   "cell_type": "code",
   "execution_count": 2,
   "outputs": [
    {
     "ename": "FileNotFoundError",
     "evalue": "[Errno 2] No such file or directory: '/Users/qasem/PycharmProjects/gradients-rl-task/data/cache/conn_mat/conn_mat.pickle'",
     "output_type": "error",
     "traceback": [
      "\u001B[0;31m---------------------------------------------------------------------------\u001B[0m",
      "\u001B[0;31mFileNotFoundError\u001B[0m                         Traceback (most recent call last)",
      "Input \u001B[0;32mIn [2]\u001B[0m, in \u001B[0;36m<cell line: 6>\u001B[0;34m()\u001B[0m\n\u001B[1;32m      1\u001B[0m \u001B[38;5;66;03m# dump_pkl(conn_mat, 'conn_mat')\u001B[39;00m\n\u001B[1;32m      2\u001B[0m \u001B[38;5;66;03m# dump_pkl(conn_mat_centered, 'conn_mat_centered')\u001B[39;00m\n\u001B[1;32m      3\u001B[0m \u001B[38;5;66;03m# dump_pkl(subject_riemann_mean, 'subject_riemann_mean')\u001B[39;00m\n\u001B[1;32m      4\u001B[0m \u001B[38;5;66;03m# dump_pkl(grand_mean, 'grand_mean')\u001B[39;00m\n\u001B[0;32m----> 6\u001B[0m conn_mat \u001B[38;5;241m=\u001B[39m \u001B[43mload_pkl\u001B[49m\u001B[43m(\u001B[49m\u001B[38;5;124;43m'\u001B[39;49m\u001B[38;5;124;43mconn_mat\u001B[39;49m\u001B[38;5;124;43m'\u001B[39;49m\u001B[43m)\u001B[49m\n\u001B[1;32m      7\u001B[0m conn_mat_centered \u001B[38;5;241m=\u001B[39m load_pkl(\u001B[38;5;124m'\u001B[39m\u001B[38;5;124mconn_mat_centered\u001B[39m\u001B[38;5;124m'\u001B[39m)\n\u001B[1;32m      8\u001B[0m subject_riemann_mean \u001B[38;5;241m=\u001B[39m load_pkl(\u001B[38;5;124m'\u001B[39m\u001B[38;5;124msubject_riemann_mean\u001B[39m\u001B[38;5;124m'\u001B[39m)\n",
      "Input \u001B[0;32mIn [1]\u001B[0m, in \u001B[0;36mload_pkl\u001B[0;34m(fname)\u001B[0m\n\u001B[1;32m      8\u001B[0m \u001B[38;5;28;01mdef\u001B[39;00m \u001B[38;5;21mload_pkl\u001B[39m(fname):\n\u001B[0;32m----> 9\u001B[0m     \u001B[38;5;28;01mwith\u001B[39;00m \u001B[38;5;28;43mopen\u001B[39;49m\u001B[43m(\u001B[49m\u001B[43mdir_conn_mat\u001B[49m\u001B[38;5;241;43m+\u001B[39;49m\u001B[43mfname\u001B[49m\u001B[43m \u001B[49m\u001B[38;5;241;43m+\u001B[39;49m\u001B[38;5;124;43m'\u001B[39;49m\u001B[38;5;124;43m.pickle\u001B[39;49m\u001B[38;5;124;43m'\u001B[39;49m\u001B[43m,\u001B[49m\u001B[43m \u001B[49m\u001B[38;5;124;43m'\u001B[39;49m\u001B[38;5;124;43mrb\u001B[39;49m\u001B[38;5;124;43m'\u001B[39;49m\u001B[43m)\u001B[49m \u001B[38;5;28;01mas\u001B[39;00m handle:\n\u001B[1;32m     10\u001B[0m         \u001B[38;5;28;01mreturn\u001B[39;00m pickle\u001B[38;5;241m.\u001B[39mload(handle)\n",
      "\u001B[0;31mFileNotFoundError\u001B[0m: [Errno 2] No such file or directory: '/Users/qasem/PycharmProjects/gradients-rl-task/data/cache/conn_mat/conn_mat.pickle'"
     ]
    }
   ],
   "source": [
    "\n",
    "# dump_pkl(conn_mat, 'conn_mat')\n",
    "# dump_pkl(conn_mat_centered, 'conn_mat_centered')\n",
    "# dump_pkl(subject_riemann_mean, 'subject_riemann_mean')\n",
    "# dump_pkl(grand_mean, 'grand_mean')\n",
    "\n",
    "conn_mat = load_pkl('conn_mat')\n",
    "conn_mat_centered = load_pkl('conn_mat_centered')\n",
    "subject_riemann_mean = load_pkl('subject_riemann_mean')\n",
    "grand_mean = load_pkl('grand_mean')"
   ],
   "metadata": {
    "collapsed": false,
    "pycharm": {
     "name": "#%%\n"
    }
   }
  },
  {
   "cell_type": "code",
   "execution_count": 2,
   "metadata": {
    "collapsed": false,
    "jupyter": {
     "outputs_hidden": false
    },
    "pycharm": {
     "name": "#%%\n"
    }
   },
   "outputs": [],
   "source": [
    "# grand_mean"
   ]
  },
  {
   "cell_type": "code",
   "execution_count": null,
   "metadata": {
    "collapsed": false,
    "jupyter": {
     "outputs_hidden": false
    },
    "pycharm": {
     "name": "#%%\n"
    }
   },
   "outputs": [],
   "source": [
    "# postscript 2 stands for not including `rest` epoch in analysis\n",
    "\n",
    "# dump_pkl(conn_mat2, 'conn_mat2')\n",
    "# dump_pkl(conn_mat_centered2, 'conn_mat_centered2')\n",
    "# dump_pkl(subject_riemann_mean2, 'subject_riemann_mean2')\n",
    "# dump_pkl(grand_mean2, 'grand_mean2')\n",
    "\n",
    "# conn_mat2 = load_pkl('conn_mat2')\n",
    "# conn_mat_centered2 = load_pkl('conn_mat_centered2')\n",
    "# subject_riemann_mean2 = load_pkl('subject_riemann_mean2')\n",
    "# grand_mean2 = load_pkl('grand_mean2')"
   ]
  },
  {
   "cell_type": "markdown",
   "metadata": {
    "pycharm": {
     "name": "#%% md\n"
    }
   },
   "source": [
    "# import and load data"
   ]
  },
  {
   "cell_type": "code",
   "execution_count": 4,
   "metadata": {
    "collapsed": false,
    "jupyter": {
     "outputs_hidden": false
    },
    "pycharm": {
     "name": "#%%\n"
    }
   },
   "outputs": [],
   "source": [
    "#|export\n",
    "import pandas as pd\n",
    "import numpy as np\n",
    "from tqdm import tqdm\n",
    "\n",
    "from gradecc.compute.conn_mat import ConnectivityMatrixMean\n",
    "from gradecc.load_data.subject import SUBJECTS_INT\n",
    "from gradecc.load_data import Timeseries\n",
    "\n",
    "from pyriemann.utils.mean import mean_riemann"
   ]
  },
  {
   "cell_type": "code",
   "execution_count": null,
   "metadata": {
    "collapsed": false,
    "jupyter": {
     "outputs_hidden": false
    },
    "pycharm": {
     "name": "#%%\n"
    }
   },
   "outputs": [],
   "source": [
    "import umap\n",
    "\n",
    "from matplotlib import pyplot as plt\n",
    "import seaborn as sns\n",
    "\n",
    "sns.set(style='white', context='notebook', rc={'figure.figsize': (7, 5)})"
   ]
  },
  {
   "cell_type": "code",
   "execution_count": null,
   "metadata": {
    "collapsed": false,
    "jupyter": {
     "outputs_hidden": false
    },
    "pycharm": {
     "name": "#%%\n"
    }
   },
   "outputs": [],
   "source": [
    "#|export\n",
    "E = ['rest', 'baseline', 'early', 'late']\n",
    "E2 = ['baseline', 'early', 'late']"
   ]
  },
  {
   "cell_type": "code",
   "execution_count": null,
   "metadata": {
    "collapsed": false,
    "jupyter": {
     "outputs_hidden": false
    },
    "pycharm": {
     "name": "#%%\n"
    }
   },
   "outputs": [],
   "source": [
    "#|export\n",
    "se = [[s, e] for s in SUBJECTS_INT for e in E]\n",
    "se = pd.DataFrame(se, columns=['subject_int', 'epoch'])"
   ]
  },
  {
   "cell_type": "code",
   "execution_count": null,
   "metadata": {
    "collapsed": false,
    "jupyter": {
     "outputs_hidden": false
    },
    "pycharm": {
     "name": "#%%\n"
    }
   },
   "outputs": [],
   "source": [
    "se"
   ]
  },
  {
   "cell_type": "code",
   "execution_count": null,
   "metadata": {
    "collapsed": false,
    "jupyter": {
     "outputs_hidden": false
    },
    "pycharm": {
     "name": "#%%\n"
    }
   },
   "outputs": [],
   "source": [
    "#|export\n",
    "se2 = [[s, e] for s in SUBJECTS_INT for e in E2]\n",
    "se2 = pd.DataFrame(se2, columns=['subject_int', 'epoch'])"
   ]
  },
  {
   "cell_type": "markdown",
   "metadata": {
    "pycharm": {
     "name": "#%% md\n"
    }
   },
   "source": [
    "\n",
    "# connectivity matrices"
   ]
  },
  {
   "cell_type": "code",
   "execution_count": 5,
   "metadata": {
    "collapsed": false,
    "jupyter": {
     "outputs_hidden": false
    },
    "pycharm": {
     "name": "#%%\n"
    }
   },
   "outputs": [],
   "source": [
    "#|export\n",
    "def make_conn_mats(epochs):\n",
    "    conn_mat = {s: {} for s in SUBJECTS_INT}\n",
    "    for s in tqdm(SUBJECTS_INT):\n",
    "        for e in epochs:\n",
    "            c = ConnectivityMatrixMean(epoch=e, subjects=s, kind='covariance', )\n",
    "            c.load()\n",
    "            conn_mat[s][e] = c.data\n",
    "    return conn_mat"
   ]
  },
  {
   "cell_type": "code",
   "execution_count": 6,
   "metadata": {
    "collapsed": false,
    "jupyter": {
     "outputs_hidden": false
    },
    "pycharm": {
     "name": "#%%\n"
    }
   },
   "outputs": [
    {
     "name": "stderr",
     "output_type": "stream",
     "text": [
      "100%|██████████| 38/38 [00:32<00:00,  1.18it/s]\n"
     ]
    }
   ],
   "source": [
    "#|export\n",
    "# conn_mat = make_conn_mats(['baseline', 'early', 'late'])\n",
    "# conn_mat2 = make_conn_mats(E2)"
   ]
  },
  {
   "cell_type": "code",
   "execution_count": null,
   "metadata": {
    "collapsed": false,
    "jupyter": {
     "outputs_hidden": false
    },
    "pycharm": {
     "name": "#%%\n"
    }
   },
   "outputs": [],
   "source": [
    "# for subject s, epoch e\n",
    "# conn_mat[s][e]"
   ]
  },
  {
   "cell_type": "code",
   "execution_count": null,
   "metadata": {
    "collapsed": false,
    "jupyter": {
     "outputs_hidden": false
    },
    "pycharm": {
     "name": "#%%\n"
    }
   },
   "outputs": [],
   "source": [
    "#|export\n",
    "def flat(d: dict):\n",
    "    d_flat = {s: {} for s in SUBJECTS_INT}\n",
    "    for s in tqdm(SUBJECTS_INT):\n",
    "        for e in d[s].keys():\n",
    "            d_flat[s][e] = d[s][e].flatten()\n",
    "    return d_flat\n",
    "\n",
    "# conn_mat_flat = flat(conn_mat)\n",
    "# conn_mat_flat2 = flat(conn_mat2)"
   ]
  },
  {
   "cell_type": "code",
   "execution_count": null,
   "metadata": {
    "collapsed": false,
    "jupyter": {
     "outputs_hidden": false
    },
    "pycharm": {
     "name": "#%%\n"
    }
   },
   "outputs": [],
   "source": [
    "#|export\n",
    "def stack(mat):\n",
    "    return np.vstack([\n",
    "        np.stack([\n",
    "            mat[s][e]\n",
    "            for e in mat[s].keys()\n",
    "        ])\n",
    "        for s in SUBJECTS_INT\n",
    "    ])\n",
    "\n",
    "# conn_mat_stacked = stack(conn_mat)\n",
    "# conn_mat_stacked2 = stack(conn_mat2)"
   ]
  },
  {
   "cell_type": "code",
   "execution_count": null,
   "metadata": {
    "collapsed": false,
    "jupyter": {
     "outputs_hidden": false
    },
    "pycharm": {
     "name": "#%%\n"
    }
   },
   "outputs": [],
   "source": [
    "conn_mat_stacked2.shape"
   ]
  },
  {
   "cell_type": "code",
   "execution_count": null,
   "metadata": {
    "collapsed": false,
    "jupyter": {
     "outputs_hidden": false
    },
    "pycharm": {
     "name": "#%%\n"
    }
   },
   "outputs": [],
   "source": [
    "#|export\n",
    "conn_mat_flat_stacked = stack(conn_mat_flat)\n",
    "conn_mat_flat_stacked2 = stack(conn_mat_flat2)"
   ]
  },
  {
   "cell_type": "code",
   "execution_count": null,
   "metadata": {
    "collapsed": false,
    "jupyter": {
     "outputs_hidden": false
    },
    "pycharm": {
     "name": "#%%\n"
    }
   },
   "outputs": [],
   "source": [
    "conn_mat_flat_stacked.shape"
   ]
  },
  {
   "cell_type": "markdown",
   "metadata": {
    "pycharm": {
     "name": "#%% md\n"
    }
   },
   "source": [
    "# umap"
   ]
  },
  {
   "cell_type": "code",
   "execution_count": null,
   "metadata": {
    "collapsed": false,
    "jupyter": {
     "outputs_hidden": false
    },
    "pycharm": {
     "name": "#%%\n"
    }
   },
   "outputs": [],
   "source": [
    "reducer = umap.UMAP(random_state=42)"
   ]
  },
  {
   "cell_type": "code",
   "execution_count": null,
   "metadata": {
    "collapsed": false,
    "jupyter": {
     "outputs_hidden": false
    },
    "pycharm": {
     "name": "#%%\n"
    }
   },
   "outputs": [],
   "source": [
    "embedding = reducer.fit_transform(conn_mat_flat_stacked)\n",
    "embedding.shape\n",
    "emb = pd.DataFrame(embedding, columns=['e1', 'e2'])\n",
    "emb = pd.concat([se, emb], axis=1)"
   ]
  },
  {
   "cell_type": "code",
   "execution_count": null,
   "metadata": {
    "collapsed": false,
    "jupyter": {
     "outputs_hidden": false
    },
    "pycharm": {
     "name": "#%%\n"
    }
   },
   "outputs": [],
   "source": [
    "embedding2 = reducer.fit_transform(conn_mat_flat_stacked2)\n",
    "emb2 = pd.DataFrame(embedding2, columns=['e1', 'e2'])\n",
    "emb2 = pd.concat([se2, emb2], axis=1)"
   ]
  },
  {
   "cell_type": "markdown",
   "metadata": {
    "pycharm": {
     "name": "#%% md\n"
    }
   },
   "source": [
    "# plot 2d"
   ]
  },
  {
   "cell_type": "code",
   "execution_count": null,
   "metadata": {
    "collapsed": false,
    "jupyter": {
     "outputs_hidden": false
    },
    "pycharm": {
     "name": "#%%\n"
    }
   },
   "outputs": [],
   "source": [
    "sns.scatterplot(data=emb.astype({'subject_int': str}),\n",
    "                x='e1', y='e2',\n",
    "                hue='subject_int', style='epoch',\n",
    "                legend=False)"
   ]
  },
  {
   "cell_type": "markdown",
   "metadata": {
    "pycharm": {
     "name": "#%% md\n"
    }
   },
   "source": [
    "# pyriemann centering"
   ]
  },
  {
   "cell_type": "code",
   "execution_count": null,
   "metadata": {
    "collapsed": false,
    "jupyter": {
     "outputs_hidden": false
    },
    "pycharm": {
     "name": "#%%\n"
    }
   },
   "outputs": [],
   "source": [
    "#|export\n",
    "all_cmats = conn_mat_stacked\n",
    "all_cmats2 = conn_mat_stacked2"
   ]
  },
  {
   "cell_type": "code",
   "execution_count": null,
   "metadata": {
    "collapsed": false,
    "jupyter": {
     "outputs_hidden": false
    },
    "pycharm": {
     "name": "#%%\n"
    }
   },
   "outputs": [],
   "source": [
    "print(all_cmats.shape)"
   ]
  },
  {
   "cell_type": "code",
   "execution_count": null,
   "metadata": {
    "collapsed": false,
    "jupyter": {
     "outputs_hidden": false
    },
    "pycharm": {
     "name": "#%%\n"
    }
   },
   "outputs": [],
   "source": [
    "ts = Timeseries(epoch=E[0], subject_id=SUBJECTS_INT[0])\n",
    "ts.load()\n",
    "region_names = ts.region_names\n",
    "roi_labels = region_names"
   ]
  },
  {
   "cell_type": "markdown",
   "metadata": {
    "pycharm": {
     "name": "#%% md\n"
    }
   },
   "source": [
    "- should not fill diag with 0 to compute mean riemann"
   ]
  },
  {
   "cell_type": "code",
   "execution_count": null,
   "metadata": {
    "collapsed": false,
    "jupyter": {
     "outputs_hidden": false
    },
    "pycharm": {
     "name": "#%%\n"
    }
   },
   "outputs": [],
   "source": [
    "#|export\n",
    "# grand_mean = mean_riemann(all_cmats, maxiter=5)\n",
    "# grand_mean2 = mean_riemann(all_cmats2, maxiter=5)"
   ]
  },
  {
   "cell_type": "code",
   "execution_count": null,
   "metadata": {
    "collapsed": false,
    "jupyter": {
     "outputs_hidden": false
    },
    "pycharm": {
     "name": "#%%\n"
    }
   },
   "outputs": [],
   "source": [
    "# grand_mean based on epoch..."
   ]
  },
  {
   "cell_type": "code",
   "execution_count": null,
   "metadata": {
    "pycharm": {
     "name": "#%%\n"
    }
   },
   "outputs": [],
   "source": [
    "#|export\n",
    "# grand_mean = mean_riemann(all_cmats, maxiter=5)\n",
    "# grand_mean2 = mean_riemann(all_cmats2, maxiter=5)"
   ]
  },
  {
   "cell_type": "code",
   "execution_count": null,
   "metadata": {
    "pycharm": {
     "name": "#%%\n"
    }
   },
   "outputs": [],
   "source": [
    "# grand_mean based on epoch..."
   ]
  },
  {
   "cell_type": "code",
   "execution_count": 29,
   "metadata": {
    "pycharm": {
     "name": "#%%\n"
    }
   },
   "outputs": [],
   "source": [
    "#|export\n",
    "# save grand_mean\n",
    "# df = pd.DataFrame(grand_mean, index=roi_labels, columns=roi_labels)\n",
    "# df.to_csv('grand_mean.tsv', sep='\\t')\n",
    "\n",
    "# save grand_mean\n",
    "# df = pd.DataFrame(grand_mean2, index=roi_labels, columns=roi_labels)\n",
    "# df.to_csv('grand_mean2.tsv', sep='\\t')"
   ]
  },
  {
   "cell_type": "code",
   "execution_count": 31,
   "metadata": {
    "pycharm": {
     "name": "#%%\n"
    }
   },
   "outputs": [],
   "source": [
    "#|export\n",
    "def make_subj_r_mean(conn_mat):\n",
    "    subject_riemann_mean = {}\n",
    "    for s in tqdm(SUBJECTS_INT):\n",
    "        subject_riemann_mean[s] = mean_riemann(np.stack(conn_mat[s].values()), maxiter=10)\n",
    "    return subject_riemann_mean\n",
    "\n",
    "# subject_riemann_mean2 = make_subj_r_mean(conn_mat2)"
   ]
  },
  {
   "cell_type": "code",
   "execution_count": 36,
   "metadata": {
    "pycharm": {
     "name": "#%%\n"
    }
   },
   "outputs": [],
   "source": [
    "#|export\n",
    "# https://github.com/danjgale/adaptation-manifolds/blob/main/adaptman/connectivity.py\n",
    "\n",
    "from pyriemann.utils.base import sqrtm, logm, expm, invsqrtm\n",
    "\n",
    "def center_cmat(c, sub_mean, grand_mean):\n",
    "    \"\"\"Center covariance matrix using tangent transporting procedure\n",
    "\n",
    "    Parameters\n",
    "    ----------\n",
    "    c : numpy.ndarray\n",
    "        Single MxM covariance matrix of a single subject\n",
    "    sub_mean : numpy.ndarray\n",
    "        Geometric mean covariance matrix of the subject\n",
    "    grand_mean : numpy.ndarray\n",
    "        Geometric mean across all subjects and matrices\n",
    "\n",
    "    Returns\n",
    "    -------\n",
    "    numpy.ndarray\n",
    "        Centered covariance matrix\n",
    "    \"\"\"\n",
    "    t = _to_tangent(c, sub_mean)\n",
    "    tc = _gl_transport(t, sub_mean, grand_mean)\n",
    "    return _from_tangent(tc, grand_mean)\n",
    "\n",
    "\n",
    "# Covariance centering\n",
    "def _to_tangent(s, mean):\n",
    "    p = sqrtm(mean)\n",
    "    p_inv = invsqrtm(mean)\n",
    "    return p @ logm(p_inv @ s @ p_inv) @ p\n",
    "\n",
    "\n",
    "def _gl_transport(t, sub_mean, grand_mean):\n",
    "    g = sqrtm(grand_mean) @ invsqrtm(sub_mean)\n",
    "    return g @ t @ g.T\n",
    "\n",
    "\n",
    "def _from_tangent(t, grand_mean):\n",
    "    p = sqrtm(grand_mean)\n",
    "    p_inv = invsqrtm(grand_mean)\n",
    "    return p @ expm(p_inv @ t @ p_inv) @ p\n"
   ]
  },
  {
   "cell_type": "code",
   "execution_count": 21,
   "metadata": {
    "pycharm": {
     "name": "#%%\n"
    }
   },
   "outputs": [],
   "source": [
    "#|export\n",
    "def make_conn_mat_cen(conn_mat):\n",
    "    conn_mat_centered = {}\n",
    "    for s in tqdm(SUBJECTS_INT):\n",
    "        conn_mat_centered[s] = {\n",
    "            e: center_cmat(conn_mat[s][e], subject_riemann_mean[s], grand_mean)\n",
    "            for e in conn_mat[s].keys()\n",
    "        }\n",
    "    return conn_mat_centered\n",
    "\n",
    "# conn_mat_centered2 = make_conn_mat_cen(conn_mat2)"
   ]
  },
  {
   "cell_type": "code",
   "execution_count": 38,
   "metadata": {
    "pycharm": {
     "name": "#%%\n"
    }
   },
   "outputs": [],
   "source": [
    "# print(conn_mat_centered[1]['early'].shape)\n",
    "# print(conn_mat[1]['early'].shape)"
   ]
  },
  {
   "cell_type": "code",
   "execution_count": 40,
   "metadata": {
    "pycharm": {
     "name": "#%%\n"
    }
   },
   "outputs": [
    {
     "name": "stderr",
     "output_type": "stream",
     "text": [
      "100%|██████████| 38/38 [00:01<00:00, 30.90it/s]\n",
      "100%|██████████| 38/38 [00:00<00:00, 61.95it/s]\n"
     ]
    }
   ],
   "source": [
    "#|export\n",
    "conn_mat_centered_flat = flat(conn_mat_centered)\n",
    "conn_mat_centered_flat2 = flat(conn_mat_centered2)"
   ]
  },
  {
   "cell_type": "code",
   "execution_count": 41,
   "metadata": {
    "pycharm": {
     "name": "#%%\n"
    }
   },
   "outputs": [
    {
     "name": "stdout",
     "output_type": "stream",
     "text": [
      "(152, 2)\n"
     ]
    }
   ],
   "source": [
    "# umap centered\n",
    "reducer = umap.UMAP(random_state=42)\n",
    "embedding_cen = reducer.fit_transform(stack(conn_mat_centered_flat))\n",
    "print(embedding_cen.shape)\n",
    "emb_cen = pd.DataFrame(embedding_cen, columns=['e1', 'e2'])\n",
    "emb_cen = pd.concat([se, emb_cen], axis=1)"
   ]
  },
  {
   "cell_type": "code",
   "execution_count": 42,
   "metadata": {
    "pycharm": {
     "name": "#%%\n"
    }
   },
   "outputs": [
    {
     "name": "stdout",
     "output_type": "stream",
     "text": [
      "(114, 2)\n"
     ]
    }
   ],
   "source": [
    "reducer = umap.UMAP(random_state=42)\n",
    "embedding_cen2 = reducer.fit_transform(stack(conn_mat_centered_flat2))\n",
    "print(embedding_cen2.shape)\n",
    "emb_cen2 = pd.DataFrame(embedding_cen2, columns=['e1', 'e2'])\n",
    "emb_cen2 = pd.concat([se2, emb_cen2], axis=1)"
   ]
  },
  {
   "cell_type": "code",
   "execution_count": 45,
   "metadata": {
    "pycharm": {
     "name": "#%%\n"
    }
   },
   "outputs": [],
   "source": [
    "# embedding_cen2.shape\n",
    "# emb_cen2"
   ]
  },
  {
   "cell_type": "markdown",
   "metadata": {
    "pycharm": {
     "name": "#%% md\n"
    }
   },
   "source": [
    "# chart plots"
   ]
  },
  {
   "cell_type": "code",
   "execution_count": 47,
   "metadata": {
    "pycharm": {
     "name": "#%%\n"
    }
   },
   "outputs": [
    {
     "data": {
      "text/plain": [
       "Text(0.5, 1.0, 'centered - NO rest included')"
      ]
     },
     "execution_count": 47,
     "metadata": {},
     "output_type": "execute_result"
    },
    {
     "data": {
      "image/png": "[encoded data removed]",
      "text/plain": [
       "<Figure size 1080x720 with 4 Axes>"
      ]
     },
     "metadata": {
      "needs_background": "light"
     },
     "output_type": "display_data"
    }
   ],
   "source": [
    "fig, axes = plt.subplots(2, 2, figsize=(15, 10))\n",
    "fig.suptitle('umap on conn matrices')\n",
    "\n",
    "sns.scatterplot(data=emb.astype({'subject_int': str}),\n",
    "                x='e1', y='e2',\n",
    "                hue='subject_int',\n",
    "                style='epoch',\n",
    "                legend=False,\n",
    "                ax=axes[0, 0],\n",
    "                )\n",
    "axes[0, 0].set_title('not centered')\n",
    "\n",
    "sns.scatterplot(data=emb_cen.astype({'subject_int': str}),\n",
    "                x='e1', y='e2',\n",
    "                style='epoch',\n",
    "                hue='epoch',\n",
    "                # legend=False,\n",
    "                ax=axes[0, 1],\n",
    "                )\n",
    "axes[0, 1].set_title('centered')\n",
    "\n",
    "\n",
    "sns.scatterplot(data=emb2.astype({'subject_int': str}),\n",
    "                x='e1', y='e2',\n",
    "                hue='subject_int',\n",
    "                style='epoch',\n",
    "                legend=False,\n",
    "                ax=axes[1, 0],\n",
    "                )\n",
    "axes[1, 0].set_title('not centered - NO rest included')\n",
    "\n",
    "sns.scatterplot(data=emb_cen2.astype({'subject_int': str}),\n",
    "                x='e1', y='e2',\n",
    "                style='epoch',\n",
    "                hue='epoch',\n",
    "                # legend=False,\n",
    "                ax=axes[1, 1],\n",
    "                )\n",
    "axes[1, 1].set_title('centered - NO rest included')"
   ]
  },
  {
   "cell_type": "code",
   "execution_count": 23,
   "metadata": {
    "pycharm": {
     "name": "#%%\n"
    }
   },
   "outputs": [],
   "source": [
    "from nbdev.export import nb_export\n",
    "\n",
    "# nb_export('umap.ipynb')"
   ]
  },
  {
   "cell_type": "code",
   "execution_count": null,
   "metadata": {
    "pycharm": {
     "name": "#%%\n"
    }
   },
   "outputs": [],
   "source": []
  },
  {
   "cell_type": "code",
   "execution_count": 10,
   "outputs": [],
   "source": [
    "from gradecc.utils.filenames import dir_conn_mat\n",
    "import pickle\n",
    "\n",
    "def dump_pkl(obj, fname):\n",
    "    with open(dir_conn_mat+fname +'.pickle', 'wb') as handle:\n",
    "        pickle.dump(obj, handle, protocol=pickle.HIGHEST_PROTOCOL)\n",
    "\n",
    "def load_pkl(fname):\n",
    "    with open(dir_conn_mat+fname +'.pickle', 'rb') as handle:\n",
    "        return pickle.load(handle)\n",
    "\n",
    "# dump_pkl(conn_mat_centered, 'conn_mat_centered')\n",
    "# dump_pkl(subject_riemann_mean, 'subject_riemann_mean')\n",
    "# dump_pkl(grand_mean, 'grand_mean')\n",
    "\n",
    "# conn_mat_centered = load_pkl('conn_mat_centered')\n",
    "# subject_riemann_mean = load_pkl('subject_riemann_mean')\n",
    "# grand_mean = load_pkl('grand_mean')"
   ],
   "metadata": {
    "collapsed": false,
    "pycharm": {
     "name": "#%%\n"
    }
   }
  },
  {
   "cell_type": "code",
   "execution_count": 3,
   "outputs": [],
   "source": [
    "#|export\n",
    "def make_conn_mats(epochs):\n",
    "    conn_mat = {s: {} for s in SUBJECTS_INT}\n",
    "    for s in tqdm(SUBJECTS_INT):\n",
    "        for e in epochs:\n",
    "            c = ConnectivityMatrixMean(epoch=e, subjects=s, kind='covariance', )\n",
    "            c.load()\n",
    "            conn_mat[s][e] = c.data\n",
    "    return conn_mat"
   ],
   "metadata": {
    "collapsed": false,
    "pycharm": {
     "name": "#%%\n"
    }
   }
  },
  {
   "cell_type": "code",
   "execution_count": 4,
   "outputs": [
    {
     "ename": "NameError",
     "evalue": "name 'SUBJECTS_INT' is not defined",
     "output_type": "error",
     "traceback": [
      "\u001B[0;31m---------------------------------------------------------------------------\u001B[0m",
      "\u001B[0;31mNameError\u001B[0m                                 Traceback (most recent call last)",
      "Input \u001B[0;32mIn [4]\u001B[0m, in \u001B[0;36m<cell line: 2>\u001B[0;34m()\u001B[0m\n\u001B[1;32m      1\u001B[0m \u001B[38;5;66;03m#|export\u001B[39;00m\n\u001B[0;32m----> 2\u001B[0m conn_mat \u001B[38;5;241m=\u001B[39m \u001B[43mmake_conn_mats\u001B[49m\u001B[43m(\u001B[49m\u001B[43m[\u001B[49m\u001B[38;5;124;43m'\u001B[39;49m\u001B[38;5;124;43mbaseline\u001B[39;49m\u001B[38;5;124;43m'\u001B[39;49m\u001B[43m,\u001B[49m\u001B[43m \u001B[49m\u001B[38;5;124;43m'\u001B[39;49m\u001B[38;5;124;43mearly\u001B[39;49m\u001B[38;5;124;43m'\u001B[39;49m\u001B[43m,\u001B[49m\u001B[43m \u001B[49m\u001B[38;5;124;43m'\u001B[39;49m\u001B[38;5;124;43mlate\u001B[39;49m\u001B[38;5;124;43m'\u001B[39;49m\u001B[43m]\u001B[49m\u001B[43m)\u001B[49m\n",
      "Input \u001B[0;32mIn [3]\u001B[0m, in \u001B[0;36mmake_conn_mats\u001B[0;34m(epochs)\u001B[0m\n\u001B[1;32m      2\u001B[0m \u001B[38;5;28;01mdef\u001B[39;00m \u001B[38;5;21mmake_conn_mats\u001B[39m(epochs):\n\u001B[0;32m----> 3\u001B[0m     conn_mat \u001B[38;5;241m=\u001B[39m {s: {} \u001B[38;5;28;01mfor\u001B[39;00m s \u001B[38;5;129;01min\u001B[39;00m \u001B[43mSUBJECTS_INT\u001B[49m}\n\u001B[1;32m      4\u001B[0m     \u001B[38;5;28;01mfor\u001B[39;00m s \u001B[38;5;129;01min\u001B[39;00m tqdm(SUBJECTS_INT):\n\u001B[1;32m      5\u001B[0m         \u001B[38;5;28;01mfor\u001B[39;00m e \u001B[38;5;129;01min\u001B[39;00m epochs:\n",
      "\u001B[0;31mNameError\u001B[0m: name 'SUBJECTS_INT' is not defined"
     ]
    }
   ],
   "source": [
    "#|export\n",
    "conn_mat = make_conn_mats(['baseline', 'early', 'late'])\n",
    "# conn_mat2 = make_conn_mats(E2)"
   ],
   "metadata": {
    "collapsed": false,
    "pycharm": {
     "name": "#%%\n"
    }
   }
  },
  {
   "cell_type": "code",
   "execution_count": 11,
   "outputs": [
    {
     "ename": "IndentationError",
     "evalue": "expected an indented block (make_centered.py, line 159)",
     "output_type": "error",
     "traceback": [
      "Traceback \u001B[0;36m(most recent call last)\u001B[0m:\n",
      "  File \u001B[1;32m~/opt/anaconda3/envs/brainv/lib/python3.9/site-packages/IPython/core/interactiveshell.py:3398\u001B[0m in \u001B[1;35mrun_code\u001B[0m\n    exec(code_obj, self.user_global_ns, self.user_ns)\n",
      "\u001B[0;36m  Input \u001B[0;32mIn [11]\u001B[0;36m in \u001B[0;35m<cell line: 1>\u001B[0;36m\u001B[0m\n\u001B[0;31m    from gradecc.compute.conn_mat.make_centered import MAX_ITER\u001B[0m\n",
      "\u001B[0;36m  File \u001B[0;32m~/PycharmProjects/gradients-rl-task/gradecc/compute/conn_mat/make_centered.py:159\u001B[0;36m\u001B[0m\n\u001B[0;31m    # save_conn_mat_file(conn_mat_riemannian, 'conn_mat_riemannian')\u001B[0m\n\u001B[0m                                                                    ^\u001B[0m\n\u001B[0;31mIndentationError\u001B[0m\u001B[0;31m:\u001B[0m expected an indented block\n"
     ]
    }
   ],
   "source": [
    "from gradecc.compute.conn_mat.make_centered import MAX_ITER\n",
    "from gradecc.load_data import EPOCHS\n",
    "import numpy as np\n",
    "from pyriemann.utils.mean import mean_riemann\n",
    "from tqdm import tqdm"
   ],
   "metadata": {
    "collapsed": false,
    "pycharm": {
     "name": "#%%\n"
    }
   }
  },
  {
   "cell_type": "code",
   "execution_count": null,
   "outputs": [],
   "source": [
    "grand_mean_epochs = {}\n",
    "for e_ in tqdm(EPOCHS):\n",
    "    d = np.stack([\n",
    "        conn_mat[s][e_] for s in conn_mat.keys()\n",
    "    ])\n",
    "    d = mean_riemann(d, maxiter=MAX_ITER)\n",
    "    grand_mean_epochs[e_] = d"
   ],
   "metadata": {
    "collapsed": false,
    "pycharm": {
     "name": "#%%\n"
    }
   }
  },
  {
   "cell_type": "code",
   "execution_count": 20,
   "outputs": [
    {
     "data": {
      "text/plain": "dict_keys(['baseline', 'early', 'late'])"
     },
     "execution_count": 20,
     "metadata": {},
     "output_type": "execute_result"
    }
   ],
   "source": [
    "grand_mean_epochs.keys()"
   ],
   "metadata": {
    "collapsed": false,
    "pycharm": {
     "name": "#%%\n"
    }
   }
  },
  {
   "cell_type": "code",
   "execution_count": 21,
   "outputs": [],
   "source": [
    "cmc = load_pkl('conn_mat_riemannian')"
   ],
   "metadata": {
    "collapsed": false,
    "pycharm": {
     "name": "#%%\n"
    }
   }
  },
  {
   "cell_type": "code",
   "execution_count": 22,
   "outputs": [
    {
     "data": {
      "text/plain": "dict_keys(['conn_mat_centered', 'include_rest', 'grand_mean', 'subject_riemann_mean'])"
     },
     "execution_count": 22,
     "metadata": {},
     "output_type": "execute_result"
    }
   ],
   "source": [
    "cmc.keys()"
   ],
   "metadata": {
    "collapsed": false,
    "pycharm": {
     "name": "#%%\n"
    }
   }
  },
  {
   "cell_type": "code",
   "execution_count": 25,
   "outputs": [],
   "source": [
    "cmc['mean_epochs'] = grand_mean_epochs"
   ],
   "metadata": {
    "collapsed": false,
    "pycharm": {
     "name": "#%%\n"
    }
   }
  },
  {
   "cell_type": "code",
   "execution_count": 26,
   "outputs": [],
   "source": [
    "dump_pkl(cmc, 'conn_mat_riemannian')"
   ],
   "metadata": {
    "collapsed": false,
    "pycharm": {
     "name": "#%%\n"
    }
   }
  },
  {
   "cell_type": "code",
   "execution_count": null,
   "outputs": [],
   "source": [],
   "metadata": {
    "collapsed": false,
    "pycharm": {
     "name": "#%%\n"
    }
   }
  },
  {
   "cell_type": "code",
   "execution_count": null,
   "outputs": [],
   "source": [],
   "metadata": {
    "collapsed": false,
    "pycharm": {
     "name": "#%%\n"
    }
   }
  }
 ],
 "metadata": {
  "kernelspec": {
   "display_name": "Python 3 (ipykernel)",
   "language": "python",
   "name": "python3"
  },
  "language_info": {
   "codemirror_mode": {
    "name": "ipython",
    "version": 3
   },
   "file_extension": ".py",
   "mimetype": "text/x-python",
   "name": "python",
   "nbconvert_exporter": "python",
   "pygments_lexer": "ipython3",
   "version": "3.9.13"
  }
 },
 "nbformat": 4,
 "nbformat_minor": 4
}