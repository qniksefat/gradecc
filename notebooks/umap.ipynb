{
 "cells": [
  {
   "cell_type": "code",
   "execution_count": 1,
   "outputs": [],
   "source": [
    "# flatten data"
   ],
   "metadata": {
    "collapsed": false,
    "pycharm": {
     "name": "#%%\n"
    }
   }
  },
  {
   "cell_type": "code",
   "execution_count": 2,
   "outputs": [],
   "source": [
    "import pandas as pd\n",
    "\n",
    "from gradecc.compute.conn_mat import ConnectivityMatrixMean\n",
    "from gradecc.load_data.subject import SUBJECTS_INT"
   ],
   "metadata": {
    "collapsed": false,
    "pycharm": {
     "name": "#%%\n"
    }
   }
  },
  {
   "cell_type": "code",
   "execution_count": 3,
   "outputs": [],
   "source": [
    "from tqdm import tqdm"
   ],
   "metadata": {
    "collapsed": false,
    "pycharm": {
     "name": "#%%\n"
    }
   }
  },
  {
   "cell_type": "code",
   "execution_count": 4,
   "outputs": [],
   "source": [
    "E = ['rest', 'baseline', 'early', 'late']"
   ],
   "metadata": {
    "collapsed": false,
    "pycharm": {
     "name": "#%%\n"
    }
   }
  },
  {
   "cell_type": "code",
   "execution_count": 5,
   "outputs": [
    {
     "name": "stderr",
     "output_type": "stream",
     "text": [
      "100%|██████████| 38/38 [00:34<00:00,  1.11it/s]\n"
     ]
    }
   ],
   "source": [
    "conn_mat = {s: {} for s in SUBJECTS_INT}\n",
    "for s in tqdm(SUBJECTS_INT):\n",
    "    for e in E:\n",
    "        c = ConnectivityMatrixMean(epoch=e, subjects=s, kind='covariance')\n",
    "        c.load()\n",
    "        conn_mat[s][e] = c.data"
   ],
   "metadata": {
    "collapsed": false,
    "pycharm": {
     "name": "#%%\n"
    }
   }
  },
  {
   "cell_type": "code",
   "execution_count": 6,
   "outputs": [],
   "source": [
    "# for subject s, epoch e\n",
    "# conn_mat[s][e]"
   ],
   "metadata": {
    "collapsed": false,
    "pycharm": {
     "name": "#%%\n"
    }
   }
  },
  {
   "cell_type": "code",
   "execution_count": 7,
   "outputs": [
    {
     "name": "stderr",
     "output_type": "stream",
     "text": [
      "100%|██████████| 38/38 [00:00<00:00, 102.04it/s]\n"
     ]
    }
   ],
   "source": [
    "conn_mat_flat = {s: {} for s in SUBJECTS_INT}\n",
    "for s in tqdm(SUBJECTS_INT):\n",
    "    for e in E:\n",
    "        conn_mat_flat[s][e] = conn_mat[s][e].flatten()"
   ],
   "metadata": {
    "collapsed": false,
    "pycharm": {
     "name": "#%%\n"
    }
   }
  },
  {
   "cell_type": "code",
   "execution_count": 8,
   "outputs": [],
   "source": [
    "import numpy as np\n",
    "\n",
    "def stack(mat):\n",
    "    return np.vstack([\n",
    "        np.stack([\n",
    "            mat[s][e]\n",
    "            for e in E\n",
    "        ])\n",
    "        for s in SUBJECTS_INT\n",
    "    ])"
   ],
   "metadata": {
    "collapsed": false,
    "pycharm": {
     "name": "#%%\n"
    }
   }
  },
  {
   "cell_type": "code",
   "execution_count": 9,
   "outputs": [
    {
     "data": {
      "text/plain": "(152, 1040, 1040)"
     },
     "execution_count": 9,
     "metadata": {},
     "output_type": "execute_result"
    }
   ],
   "source": [
    "conn_mat_stacked = stack(conn_mat)\n",
    "conn_mat_stacked.shape"
   ],
   "metadata": {
    "collapsed": false,
    "pycharm": {
     "name": "#%%\n"
    }
   }
  },
  {
   "cell_type": "code",
   "execution_count": 10,
   "outputs": [
    {
     "data": {
      "text/plain": "(152, 1081600)"
     },
     "execution_count": 10,
     "metadata": {},
     "output_type": "execute_result"
    }
   ],
   "source": [
    "conn_mat_flat_stacked = stack(conn_mat_flat)\n",
    "conn_mat_flat_stacked.shape"
   ],
   "metadata": {
    "collapsed": false,
    "pycharm": {
     "name": "#%%\n"
    }
   }
  },
  {
   "cell_type": "code",
   "execution_count": 11,
   "outputs": [],
   "source": [
    "# umap"
   ],
   "metadata": {
    "collapsed": false,
    "pycharm": {
     "name": "#%%\n"
    }
   }
  },
  {
   "cell_type": "code",
   "execution_count": 12,
   "outputs": [],
   "source": [
    "import umap\n",
    "\n",
    "reducer = umap.UMAP(random_state=42)"
   ],
   "metadata": {
    "collapsed": false,
    "pycharm": {
     "name": "#%%\n"
    }
   }
  },
  {
   "cell_type": "code",
   "execution_count": 13,
   "outputs": [
    {
     "data": {
      "text/plain": "(152, 2)"
     },
     "execution_count": 13,
     "metadata": {},
     "output_type": "execute_result"
    }
   ],
   "source": [
    "embedding1 = reducer.fit_transform(conn_mat_flat_stacked)\n",
    "embedding1.shape"
   ],
   "metadata": {
    "collapsed": false,
    "pycharm": {
     "name": "#%%\n"
    }
   }
  },
  {
   "cell_type": "code",
   "execution_count": 14,
   "outputs": [
    {
     "data": {
      "text/plain": "     subject_int     epoch\n0              1      rest\n1              1  baseline\n2              1     early\n3              1      late\n4              2      rest\n..           ...       ...\n147           45      late\n148           46      rest\n149           46  baseline\n150           46     early\n151           46      late\n\n[152 rows x 2 columns]",
      "text/html": "<div>\n<style scoped>\n    .dataframe tbody tr th:only-of-type {\n        vertical-align: middle;\n    }\n\n    .dataframe tbody tr th {\n        vertical-align: top;\n    }\n\n    .dataframe thead th {\n        text-align: right;\n    }\n</style>\n<table border=\"1\" class=\"dataframe\">\n  <thead>\n    <tr style=\"text-align: right;\">\n      <th></th>\n      <th>subject_int</th>\n      <th>epoch</th>\n    </tr>\n  </thead>\n  <tbody>\n    <tr>\n      <th>0</th>\n      <td>1</td>\n      <td>rest</td>\n    </tr>\n    <tr>\n      <th>1</th>\n      <td>1</td>\n      <td>baseline</td>\n    </tr>\n    <tr>\n      <th>2</th>\n      <td>1</td>\n      <td>early</td>\n    </tr>\n    <tr>\n      <th>3</th>\n      <td>1</td>\n      <td>late</td>\n    </tr>\n    <tr>\n      <th>4</th>\n      <td>2</td>\n      <td>rest</td>\n    </tr>\n    <tr>\n      <th>...</th>\n      <td>...</td>\n      <td>...</td>\n    </tr>\n    <tr>\n      <th>147</th>\n      <td>45</td>\n      <td>late</td>\n    </tr>\n    <tr>\n      <th>148</th>\n      <td>46</td>\n      <td>rest</td>\n    </tr>\n    <tr>\n      <th>149</th>\n      <td>46</td>\n      <td>baseline</td>\n    </tr>\n    <tr>\n      <th>150</th>\n      <td>46</td>\n      <td>early</td>\n    </tr>\n    <tr>\n      <th>151</th>\n      <td>46</td>\n      <td>late</td>\n    </tr>\n  </tbody>\n</table>\n<p>152 rows × 2 columns</p>\n</div>"
     },
     "execution_count": 14,
     "metadata": {},
     "output_type": "execute_result"
    }
   ],
   "source": [
    "s_e = [[s, e] for s in SUBJECTS_INT for e in E]\n",
    "s_e = pd.DataFrame(s_e, columns=['subject_int', 'epoch'])\n",
    "s_e"
   ],
   "metadata": {
    "collapsed": false,
    "pycharm": {
     "name": "#%%\n"
    }
   }
  },
  {
   "cell_type": "code",
   "execution_count": 15,
   "outputs": [],
   "source": [
    "emb1 = pd.DataFrame(embedding1, columns=['e1', 'e2'])\n",
    "emb1 = pd.concat([s_e, emb1], axis=1)"
   ],
   "metadata": {
    "collapsed": false,
    "pycharm": {
     "name": "#%%\n"
    }
   }
  },
  {
   "cell_type": "code",
   "execution_count": 16,
   "outputs": [],
   "source": [
    "# plot 2d"
   ],
   "metadata": {
    "collapsed": false,
    "pycharm": {
     "name": "#%%\n"
    }
   }
  },
  {
   "cell_type": "code",
   "execution_count": 79,
   "outputs": [],
   "source": [
    "import seaborn as sns\n",
    "\n",
    "sns.set(style='white', context='notebook', rc={'figure.figsize':(14,10)})"
   ],
   "metadata": {
    "collapsed": false,
    "pycharm": {
     "name": "#%%\n"
    }
   }
  },
  {
   "cell_type": "code",
   "execution_count": 80,
   "outputs": [
    {
     "data": {
      "text/plain": "<AxesSubplot:xlabel='e1', ylabel='e2'>"
     },
     "execution_count": 80,
     "metadata": {},
     "output_type": "execute_result"
    },
    {
     "data": {
      "text/plain": "<Figure size 1008x720 with 1 Axes>",
      "image/png": "[encoded data removed]"
     },
     "metadata": {},
     "output_type": "display_data"
    }
   ],
   "source": [
    "sns.scatterplot(data=emb1.astype({'subject_int': str}),\n",
    "                x='e1', y='e2',\n",
    "                hue='subject_int', style='epoch',\n",
    "                legend=False)"
   ],
   "metadata": {
    "collapsed": false,
    "pycharm": {
     "name": "#%%\n"
    }
   }
  },
  {
   "cell_type": "code",
   "execution_count": 19,
   "outputs": [],
   "source": [
    "# subject mean"
   ],
   "metadata": {
    "collapsed": false,
    "pycharm": {
     "name": "#%%\n"
    }
   }
  },
  {
   "cell_type": "code",
   "execution_count": 20,
   "outputs": [],
   "source": [
    "conn_mat_subj_mean = {}\n",
    "for s in SUBJECTS_INT:\n",
    "    conn_mat_subj_mean[s] = np.stack([\n",
    "        conn_mat[s][e] for e in E\n",
    "             ]).mean(axis=0)"
   ],
   "metadata": {
    "collapsed": false,
    "pycharm": {
     "name": "#%%\n"
    }
   }
  },
  {
   "cell_type": "code",
   "execution_count": 21,
   "outputs": [],
   "source": [
    "# pyriemann centering"
   ],
   "metadata": {
    "collapsed": false,
    "pycharm": {
     "name": "#%%\n"
    }
   }
  },
  {
   "cell_type": "code",
   "execution_count": 22,
   "outputs": [],
   "source": [
    "from pyriemann.utils.mean import mean_riemann"
   ],
   "metadata": {
    "collapsed": false,
    "pycharm": {
     "name": "#%%\n"
    }
   }
  },
  {
   "cell_type": "code",
   "execution_count": 23,
   "outputs": [
    {
     "data": {
      "text/plain": "array([[ 1.09106973e+00,  8.08275453e-01,  7.64381614e-01, ...,\n         1.99167726e-01,  3.55835010e-02,  1.47145848e-01],\n       [ 8.08275453e-01,  1.19138871e+00,  7.94481668e-01, ...,\n         2.64693018e-01,  3.37206399e-04,  2.60569249e-01],\n       [ 7.64381614e-01,  7.94481668e-01,  1.11792967e+00, ...,\n         1.88591837e-01, -4.46409578e-02,  9.67747676e-02],\n       ...,\n       [ 1.99167726e-01,  2.64693018e-01,  1.88591837e-01, ...,\n         1.15254861e+00,  2.78588026e-01,  5.53784333e-01],\n       [ 3.55835010e-02,  3.37206399e-04, -4.46409578e-02, ...,\n         2.78588026e-01,  1.09703199e+00,  2.86946637e-01],\n       [ 1.47145848e-01,  2.60569249e-01,  9.67747676e-02, ...,\n         5.53784333e-01,  2.86946637e-01,  1.07256715e+00]])"
     },
     "execution_count": 23,
     "metadata": {},
     "output_type": "execute_result"
    }
   ],
   "source": [
    "conn_mat[1]['rest']"
   ],
   "metadata": {
    "collapsed": false,
    "pycharm": {
     "name": "#%%\n"
    }
   }
  },
  {
   "cell_type": "code",
   "execution_count": 24,
   "outputs": [
    {
     "data": {
      "text/plain": "(152, 1040, 1040)"
     },
     "execution_count": 24,
     "metadata": {},
     "output_type": "execute_result"
    }
   ],
   "source": [
    "all_cmats = conn_mat_stacked\n",
    "all_cmats.shape\n",
    "from gradecc.load_data import Timeseries\n",
    "\n",
    "ts = Timeseries(epoch=E[0], subject_id=SUBJECTS_INT[0])\n",
    "ts.load()\n",
    "region_names = ts.region_names\n",
    "roi_labels = region_names\n",
    "all_cmats.shape"
   ],
   "metadata": {
    "collapsed": false,
    "pycharm": {
     "name": "#%%\n"
    }
   }
  },
  {
   "cell_type": "code",
   "execution_count": 25,
   "outputs": [],
   "source": [
    "# import pickle\n",
    "#\n",
    "# with open('filename.pickle', 'wb') as handle:\n",
    "#     pickle.dump(all_cmats, handle, protocol=pickle.HIGHEST_PROTOCOL)\n",
    "\n",
    "# with open('filename.pickle', 'rb') as handle:\n",
    "#     all_cmats = pickle.load(handle)"
   ],
   "metadata": {
    "collapsed": false,
    "pycharm": {
     "name": "#%%\n"
    }
   }
  },
  {
   "cell_type": "code",
   "execution_count": 26,
   "outputs": [],
   "source": [
    "# should not fill diag with 0 to compute mean riemann"
   ],
   "metadata": {
    "collapsed": false,
    "pycharm": {
     "name": "#%%\n"
    }
   }
  },
  {
   "cell_type": "code",
   "execution_count": 27,
   "outputs": [],
   "source": [
    "from pyriemann.utils.mean import mean_riemann\n",
    "\n",
    "grand_mean = mean_riemann(all_cmats, maxiter=5)"
   ],
   "metadata": {
    "collapsed": false,
    "pycharm": {
     "name": "#%%\n"
    }
   }
  },
  {
   "cell_type": "code",
   "execution_count": 28,
   "outputs": [
    {
     "data": {
      "text/plain": "array([[0.16351544, 0.01311222, 0.01344567, ..., 0.00373861, 0.00201097,\n        0.00405588],\n       [0.01311222, 0.15676097, 0.0219036 , ..., 0.00552269, 0.00245842,\n        0.00541435],\n       [0.01344567, 0.0219036 , 0.1605061 , ..., 0.0054473 , 0.00234032,\n        0.00483201],\n       ...,\n       [0.00373861, 0.00552269, 0.0054473 , ..., 0.52021354, 0.06646739,\n        0.13679602],\n       [0.00201097, 0.00245842, 0.00234032, ..., 0.06646739, 0.53588015,\n        0.05557587],\n       [0.00405588, 0.00541435, 0.00483201, ..., 0.13679602, 0.05557587,\n        0.51904623]])"
     },
     "execution_count": 28,
     "metadata": {},
     "output_type": "execute_result"
    }
   ],
   "source": [
    "grand_mean"
   ],
   "metadata": {
    "collapsed": false,
    "pycharm": {
     "name": "#%%\n"
    }
   }
  },
  {
   "cell_type": "code",
   "execution_count": 29,
   "outputs": [],
   "source": [
    "# save grand_mean\n",
    "df = pd.DataFrame(grand_mean, index=roi_labels, columns=roi_labels)\n",
    "df.to_csv('grand_mean.tsv', sep='\\t')"
   ],
   "metadata": {
    "collapsed": false,
    "pycharm": {
     "name": "#%%\n"
    }
   }
  },
  {
   "cell_type": "code",
   "execution_count": 39,
   "outputs": [
    {
     "data": {
      "text/plain": "dict_values([array([[ 1.09106973e+00,  8.08275453e-01,  7.64381614e-01, ...,\n         1.99167726e-01,  3.55835010e-02,  1.47145848e-01],\n       [ 8.08275453e-01,  1.19138871e+00,  7.94481668e-01, ...,\n         2.64693018e-01,  3.37206399e-04,  2.60569249e-01],\n       [ 7.64381614e-01,  7.94481668e-01,  1.11792967e+00, ...,\n         1.88591837e-01, -4.46409578e-02,  9.67747676e-02],\n       ...,\n       [ 1.99167726e-01,  2.64693018e-01,  1.88591837e-01, ...,\n         1.15254861e+00,  2.78588026e-01,  5.53784333e-01],\n       [ 3.55835010e-02,  3.37206399e-04, -4.46409578e-02, ...,\n         2.78588026e-01,  1.09703199e+00,  2.86946637e-01],\n       [ 1.47145848e-01,  2.60569249e-01,  9.67747676e-02, ...,\n         5.53784333e-01,  2.86946637e-01,  1.07256715e+00]]), array([[ 1.00787953,  0.23300753,  0.50633092, ...,  0.04168037,\n        -0.12909226,  0.032568  ],\n       [ 0.23300753,  1.00791613,  0.23761153, ...,  0.06854963,\n        -0.1366801 ,  0.1801675 ],\n       [ 0.50633092,  0.23761153,  0.9992181 , ...,  0.03359876,\n         0.02517184,  0.11424387],\n       ...,\n       [ 0.04168037,  0.06854963,  0.03359876, ...,  1.00198158,\n         0.13651203,  0.20046535],\n       [-0.12909226, -0.1366801 ,  0.02517184, ...,  0.13651203,\n         1.00459698,  0.047801  ],\n       [ 0.032568  ,  0.1801675 ,  0.11424387, ...,  0.20046535,\n         0.047801  ,  1.00519787]]), array([[ 1.21933276,  0.7151146 ,  0.55243186, ...,  0.26788957,\n        -0.01723554,  0.16986816],\n       [ 0.7151146 ,  1.25696243,  0.68387336, ...,  0.25763842,\n        -0.05759605,  0.24000709],\n       [ 0.55243186,  0.68387336,  1.17811635, ...,  0.30843265,\n         0.17739462,  0.21476946],\n       ...,\n       [ 0.26788957,  0.25763842,  0.30843265, ...,  0.98947952,\n         0.19379536,  0.51059608],\n       [-0.01723554, -0.05759605,  0.17739462, ...,  0.19379536,\n         1.15014879,  0.16395357],\n       [ 0.16986816,  0.24000709,  0.21476946, ...,  0.51059608,\n         0.16395357,  1.06348801]]), array([[ 0.91136109,  0.23624013,  0.33067362, ...,  0.1495761 ,\n        -0.03029544,  0.16989116],\n       [ 0.23624013,  0.87075669,  0.30043047, ...,  0.16640342,\n         0.03129204,  0.19554649],\n       [ 0.33067362,  0.30043047,  1.03180272, ...,  0.22399949,\n         0.05722583,  0.13714022],\n       ...,\n       [ 0.1495761 ,  0.16640342,  0.22399949, ...,  1.03701806,\n         0.14479867,  0.45779553],\n       [-0.03029544,  0.03129204,  0.05722583, ...,  0.14479867,\n         0.84022369,  0.14270531],\n       [ 0.16989116,  0.19554649,  0.13714022, ...,  0.45779553,\n         0.14270531,  0.9524837 ]])])"
     },
     "execution_count": 39,
     "metadata": {},
     "output_type": "execute_result"
    }
   ],
   "source": [
    "conn_mat[1].values()"
   ],
   "metadata": {
    "collapsed": false,
    "pycharm": {
     "name": "#%%\n"
    }
   }
  },
  {
   "cell_type": "code",
   "execution_count": 46,
   "outputs": [
    {
     "name": "stderr",
     "output_type": "stream",
     "text": [
      "100%|██████████| 38/38 [24:08<00:00, 38.13s/it]\n"
     ]
    }
   ],
   "source": [
    "from tqdm import tqdm\n",
    "\n",
    "subject_riemann_mean = {}\n",
    "for s in tqdm(SUBJECTS_INT):\n",
    "    subject_riemann_mean[s] = mean_riemann(np.stack(conn_mat[s].values()), maxiter=10)"
   ],
   "metadata": {
    "collapsed": false,
    "pycharm": {
     "name": "#%%\n"
    }
   }
  },
  {
   "cell_type": "code",
   "execution_count": null,
   "outputs": [],
   "source": [],
   "metadata": {
    "collapsed": false,
    "pycharm": {
     "name": "#%%\n"
    }
   }
  },
  {
   "cell_type": "code",
   "execution_count": 57,
   "outputs": [
    {
     "name": "stderr",
     "output_type": "stream",
     "text": [
      "100%|██████████| 38/38 [10:16<00:00, 16.22s/it]\n"
     ]
    }
   ],
   "source": [
    "conn_mat_centered = {}\n",
    "for s in tqdm(SUBJECTS_INT):\n",
    "    conn_mat_centered[s] = {\n",
    "        e: center_cmat(conn_mat[s][e], subject_riemann_mean[s], grand_mean)\n",
    "        for e in E\n",
    "    }"
   ],
   "metadata": {
    "collapsed": false,
    "pycharm": {
     "name": "#%%\n"
    }
   }
  },
  {
   "cell_type": "code",
   "execution_count": 59,
   "outputs": [
    {
     "data": {
      "text/plain": "(1040, 1040)"
     },
     "execution_count": 59,
     "metadata": {},
     "output_type": "execute_result"
    }
   ],
   "source": [
    "conn_mat_centered[1]['early'].shape"
   ],
   "metadata": {
    "collapsed": false,
    "pycharm": {
     "name": "#%%\n"
    }
   }
  },
  {
   "cell_type": "code",
   "execution_count": 60,
   "outputs": [
    {
     "data": {
      "text/plain": "(1040, 1040)"
     },
     "execution_count": 60,
     "metadata": {},
     "output_type": "execute_result"
    }
   ],
   "source": [
    "conn_mat[1]['early'].shape"
   ],
   "metadata": {
    "collapsed": false,
    "pycharm": {
     "name": "#%%\n"
    }
   }
  },
  {
   "cell_type": "code",
   "execution_count": 50,
   "outputs": [],
   "source": [
    "from pyriemann.utils.base import sqrtm, logm, expm, invsqrtm\n",
    "\n",
    "def center_cmat(c, sub_mean, grand_mean):\n",
    "    \"\"\"Center covariance matrix using tangent transporting procedure\n",
    "\n",
    "    Parameters\n",
    "    ----------\n",
    "    c : numpy.ndarray\n",
    "        Single MxM covariance matrix of a single subject\n",
    "    sub_mean : numpy.ndarray\n",
    "        Geometric mean covariance matrix of the subject\n",
    "    grand_mean : numpy.ndarray\n",
    "        Geometric mean across all subjects and matrices\n",
    "\n",
    "    Returns\n",
    "    -------\n",
    "    numpy.ndarray\n",
    "        Centered covariance matrix\n",
    "    \"\"\"\n",
    "    t = _to_tangent(c, sub_mean)\n",
    "    tc = _gl_transport(t, sub_mean, grand_mean)\n",
    "    return _from_tangent(tc, grand_mean)\n",
    "\n",
    "\n",
    "# Covariance centering\n",
    "def _to_tangent(s, mean):\n",
    "    p = sqrtm(mean)\n",
    "    p_inv = invsqrtm(mean)\n",
    "    return p @ logm(p_inv @ s @ p_inv) @ p\n",
    "\n",
    "\n",
    "def _gl_transport(t, sub_mean, grand_mean):\n",
    "    g = sqrtm(grand_mean) @ invsqrtm(sub_mean)\n",
    "    return g @ t @ g.T\n",
    "\n",
    "\n",
    "def _from_tangent(t, grand_mean):\n",
    "    p = sqrtm(grand_mean)\n",
    "    p_inv = invsqrtm(grand_mean)\n",
    "    return p @ expm(p_inv @ t @ p_inv) @ p\n"
   ],
   "metadata": {
    "collapsed": false,
    "pycharm": {
     "name": "#%%\n"
    }
   }
  },
  {
   "cell_type": "code",
   "execution_count": null,
   "outputs": [],
   "source": [],
   "metadata": {
    "collapsed": false,
    "pycharm": {
     "name": "#%%\n"
    }
   }
  },
  {
   "cell_type": "code",
   "execution_count": 65,
   "outputs": [
    {
     "name": "stderr",
     "output_type": "stream",
     "text": [
      "100%|██████████| 38/38 [00:02<00:00, 18.57it/s]\n"
     ]
    }
   ],
   "source": [
    "conn_mat_centered_flat = {s: {} for s in SUBJECTS_INT}\n",
    "for s in tqdm(SUBJECTS_INT):\n",
    "    for e in E:\n",
    "        conn_mat_centered_flat[s][e] = conn_mat_centered[s][e].flatten()"
   ],
   "metadata": {
    "collapsed": false,
    "pycharm": {
     "name": "#%%\n"
    }
   }
  },
  {
   "cell_type": "code",
   "execution_count": 66,
   "outputs": [
    {
     "data": {
      "text/plain": "(152, 2)"
     },
     "execution_count": 66,
     "metadata": {},
     "output_type": "execute_result"
    }
   ],
   "source": [
    "# umap centered\n",
    "reducer = umap.UMAP(random_state=42)\n",
    "embedding2 = reducer.fit_transform(stack(conn_mat_centered_flat))\n",
    "embedding2.shape"
   ],
   "metadata": {
    "collapsed": false,
    "pycharm": {
     "name": "#%%\n"
    }
   }
  },
  {
   "cell_type": "code",
   "execution_count": 75,
   "outputs": [],
   "source": [
    "emb2 = pd.DataFrame(embedding2, columns=['e1', 'e2'])\n",
    "emb2 = pd.concat([s_e, emb2], axis=1)"
   ],
   "metadata": {
    "collapsed": false,
    "pycharm": {
     "name": "#%%\n"
    }
   }
  },
  {
   "cell_type": "code",
   "execution_count": 73,
   "outputs": [],
   "source": [
    "# plot 2d"
   ],
   "metadata": {
    "collapsed": false,
    "pycharm": {
     "name": "#%%\n"
    }
   }
  },
  {
   "cell_type": "code",
   "execution_count": 76,
   "outputs": [
    {
     "data": {
      "text/plain": "     subject_int     epoch        e1        e2\n0              1      rest  0.517405  6.417356\n1              1  baseline -1.939326  5.998337\n2              1     early -2.804951  6.748304\n3              1      late -3.320396  6.831932\n4              2      rest -2.365642  4.598580\n..           ...       ...       ...       ...\n147           45      late -2.749221  5.624915\n148           46      rest -2.081504  5.421144\n149           46  baseline -2.598400  5.477745\n150           46     early -0.040650  7.291835\n151           46      late -0.332967  7.047113\n\n[152 rows x 4 columns]",
      "text/html": "<div>\n<style scoped>\n    .dataframe tbody tr th:only-of-type {\n        vertical-align: middle;\n    }\n\n    .dataframe tbody tr th {\n        vertical-align: top;\n    }\n\n    .dataframe thead th {\n        text-align: right;\n    }\n</style>\n<table border=\"1\" class=\"dataframe\">\n  <thead>\n    <tr style=\"text-align: right;\">\n      <th></th>\n      <th>subject_int</th>\n      <th>epoch</th>\n      <th>e1</th>\n      <th>e2</th>\n    </tr>\n  </thead>\n  <tbody>\n    <tr>\n      <th>0</th>\n      <td>1</td>\n      <td>rest</td>\n      <td>0.517405</td>\n      <td>6.417356</td>\n    </tr>\n    <tr>\n      <th>1</th>\n      <td>1</td>\n      <td>baseline</td>\n      <td>-1.939326</td>\n      <td>5.998337</td>\n    </tr>\n    <tr>\n      <th>2</th>\n      <td>1</td>\n      <td>early</td>\n      <td>-2.804951</td>\n      <td>6.748304</td>\n    </tr>\n    <tr>\n      <th>3</th>\n      <td>1</td>\n      <td>late</td>\n      <td>-3.320396</td>\n      <td>6.831932</td>\n    </tr>\n    <tr>\n      <th>4</th>\n      <td>2</td>\n      <td>rest</td>\n      <td>-2.365642</td>\n      <td>4.598580</td>\n    </tr>\n    <tr>\n      <th>...</th>\n      <td>...</td>\n      <td>...</td>\n      <td>...</td>\n      <td>...</td>\n    </tr>\n    <tr>\n      <th>147</th>\n      <td>45</td>\n      <td>late</td>\n      <td>-2.749221</td>\n      <td>5.624915</td>\n    </tr>\n    <tr>\n      <th>148</th>\n      <td>46</td>\n      <td>rest</td>\n      <td>-2.081504</td>\n      <td>5.421144</td>\n    </tr>\n    <tr>\n      <th>149</th>\n      <td>46</td>\n      <td>baseline</td>\n      <td>-2.598400</td>\n      <td>5.477745</td>\n    </tr>\n    <tr>\n      <th>150</th>\n      <td>46</td>\n      <td>early</td>\n      <td>-0.040650</td>\n      <td>7.291835</td>\n    </tr>\n    <tr>\n      <th>151</th>\n      <td>46</td>\n      <td>late</td>\n      <td>-0.332967</td>\n      <td>7.047113</td>\n    </tr>\n  </tbody>\n</table>\n<p>152 rows × 4 columns</p>\n</div>"
     },
     "execution_count": 76,
     "metadata": {},
     "output_type": "execute_result"
    }
   ],
   "source": [
    "emb2"
   ],
   "metadata": {
    "collapsed": false,
    "pycharm": {
     "name": "#%%\n"
    }
   }
  },
  {
   "cell_type": "code",
   "execution_count": 81,
   "outputs": [
    {
     "data": {
      "text/plain": "<AxesSubplot:xlabel='e1', ylabel='e2'>"
     },
     "execution_count": 81,
     "metadata": {},
     "output_type": "execute_result"
    },
    {
     "data": {
      "text/plain": "<Figure size 1008x720 with 1 Axes>",
      "image/png": "[encoded data removed]"
     },
     "metadata": {},
     "output_type": "display_data"
    }
   ],
   "source": [
    "sns.scatterplot(data=emb2.astype({'subject_int': str}),\n",
    "                x='e1', y='e2',\n",
    "                hue='subject_int', style='epoch',\n",
    "                legend=False)"
   ],
   "metadata": {
    "collapsed": false,
    "pycharm": {
     "name": "#%%\n"
    }
   }
  },
  {
   "cell_type": "code",
   "execution_count": null,
   "outputs": [],
   "source": [
    "# save data"
   ],
   "metadata": {
    "collapsed": false,
    "pycharm": {
     "name": "#%%\n"
    }
   }
  },
  {
   "cell_type": "code",
   "execution_count": 92,
   "outputs": [],
   "source": [
    "from gradecc.utils.filenames import dir_cache\n",
    "import pickle\n",
    "\n",
    "def dump_pkl(obj, fname):\n",
    "    with open(dir_cache+fname +'.pickle', 'wb') as handle:\n",
    "        pickle.dump(obj, handle, protocol=pickle.HIGHEST_PROTOCOL)\n",
    "\n",
    "# def dump_pkl(obj, fname):\n",
    "#     with open('data/filename.pickle', 'rb') as handle:\n",
    "#         all_cmats = pickle.load(handle)"
   ],
   "metadata": {
    "collapsed": false,
    "pycharm": {
     "name": "#%%\n"
    }
   }
  },
  {
   "cell_type": "code",
   "execution_count": 93,
   "outputs": [],
   "source": [
    "dump_pkl(conn_mat, 'conn_mat')\n",
    "dump_pkl(conn_mat_centered, 'conn_mat_centered')\n",
    "dump_pkl(subject_riemann_mean, 'subject_riemann_mean')\n",
    "dump_pkl(grand_mean, 'grand_mean')"
   ],
   "metadata": {
    "collapsed": false,
    "pycharm": {
     "name": "#%%\n"
    }
   }
  },
  {
   "cell_type": "code",
   "execution_count": null,
   "outputs": [],
   "source": [],
   "metadata": {
    "collapsed": false,
    "pycharm": {
     "name": "#%%\n"
    }
   }
  }
 ],
 "metadata": {
  "kernelspec": {
   "display_name": "Python 3",
   "language": "python",
   "name": "python3"
  },
  "language_info": {
   "codemirror_mode": {
    "name": "ipython",
    "version": 2
   },
   "file_extension": ".py",
   "mimetype": "text/x-python",
   "name": "python",
   "nbconvert_exporter": "python",
   "pygments_lexer": "ipython2",
   "version": "2.7.6"
  }
 },
 "nbformat": 4,
 "nbformat_minor": 0
}