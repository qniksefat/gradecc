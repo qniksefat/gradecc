{
 "cells": [
  {
   "cell_type": "markdown",
   "source": [
    "# load task behavioural scores"
   ],
   "metadata": {
    "collapsed": false,
    "pycharm": {
     "name": "#%% md\n"
    }
   }
  },
  {
   "cell_type": "code",
   "execution_count": 2,
   "outputs": [],
   "source": [
    "import pandas as pd"
   ],
   "metadata": {
    "collapsed": false,
    "pycharm": {
     "name": "#%%\n"
    }
   }
  },
  {
   "cell_type": "code",
   "execution_count": 3,
   "outputs": [],
   "source": [
    "dfb = pd.read_csv('/Users/qasem/PycharmProjects/grad_ecc_RL_data/RL_behavior.csv')  # df behaviour"
   ],
   "metadata": {
    "collapsed": false,
    "pycharm": {
     "name": "#%%\n"
    }
   }
  },
  {
   "cell_type": "code",
   "execution_count": 4,
   "outputs": [
    {
     "data": {
      "text/plain": "  Subject  Block  Trial  Score  ReactionTime  MovementTime  Valid\n0     AB1      1      1   53.0      0.365009      0.182444   True\n1     AB1      1      2   51.0      0.548555      0.402011   True\n2     AB1      1      3    7.0      0.472627      0.269147   True\n3     AB1      1      4    0.0      0.557651      0.289636   True\n4     AB1      1      5   34.0      0.588884      0.211777   True",
      "text/html": "<div>\n<style scoped>\n    .dataframe tbody tr th:only-of-type {\n        vertical-align: middle;\n    }\n\n    .dataframe tbody tr th {\n        vertical-align: top;\n    }\n\n    .dataframe thead th {\n        text-align: right;\n    }\n</style>\n<table border=\"1\" class=\"dataframe\">\n  <thead>\n    <tr style=\"text-align: right;\">\n      <th></th>\n      <th>Subject</th>\n      <th>Block</th>\n      <th>Trial</th>\n      <th>Score</th>\n      <th>ReactionTime</th>\n      <th>MovementTime</th>\n      <th>Valid</th>\n    </tr>\n  </thead>\n  <tbody>\n    <tr>\n      <th>0</th>\n      <td>AB1</td>\n      <td>1</td>\n      <td>1</td>\n      <td>53.0</td>\n      <td>0.365009</td>\n      <td>0.182444</td>\n      <td>True</td>\n    </tr>\n    <tr>\n      <th>1</th>\n      <td>AB1</td>\n      <td>1</td>\n      <td>2</td>\n      <td>51.0</td>\n      <td>0.548555</td>\n      <td>0.402011</td>\n      <td>True</td>\n    </tr>\n    <tr>\n      <th>2</th>\n      <td>AB1</td>\n      <td>1</td>\n      <td>3</td>\n      <td>7.0</td>\n      <td>0.472627</td>\n      <td>0.269147</td>\n      <td>True</td>\n    </tr>\n    <tr>\n      <th>3</th>\n      <td>AB1</td>\n      <td>1</td>\n      <td>4</td>\n      <td>0.0</td>\n      <td>0.557651</td>\n      <td>0.289636</td>\n      <td>True</td>\n    </tr>\n    <tr>\n      <th>4</th>\n      <td>AB1</td>\n      <td>1</td>\n      <td>5</td>\n      <td>34.0</td>\n      <td>0.588884</td>\n      <td>0.211777</td>\n      <td>True</td>\n    </tr>\n  </tbody>\n</table>\n</div>"
     },
     "execution_count": 4,
     "metadata": {},
     "output_type": "execute_result"
    }
   ],
   "source": [
    "dfb.head()"
   ],
   "metadata": {
    "collapsed": false,
    "pycharm": {
     "name": "#%%\n"
    }
   }
  },
  {
   "cell_type": "markdown",
   "source": [
    "## calculate t-test as metric"
   ],
   "metadata": {
    "collapsed": false,
    "pycharm": {
     "name": "#%% md\n"
    }
   }
  },
  {
   "cell_type": "code",
   "execution_count": 7,
   "outputs": [],
   "source": [
    "import pingouin as pg"
   ],
   "metadata": {
    "collapsed": false,
    "pycharm": {
     "name": "#%%\n"
    }
   }
  },
  {
   "cell_type": "code",
   "execution_count": 8,
   "outputs": [],
   "source": [
    "def ttest_init_final(df_subj):\n",
    "    df_subj = df_subj[df_subj.Trial.notna()]\n",
    "    x, y = df_subj.iloc[:20]['Score'], df_subj.iloc[-20:]['Score']\n",
    "    return pg.ttest(x, y, paired=True, alternative='less').iloc[0,0]"
   ],
   "metadata": {
    "collapsed": false,
    "pycharm": {
     "name": "#%%\n"
    }
   }
  },
  {
   "cell_type": "code",
   "execution_count": 9,
   "outputs": [],
   "source": [
    "fpca_scores = pd.read_csv('RLfpcaScores.csv').set_index('Subject')\n",
    "metrics = dfb[dfb.Block==2].groupby('Subject').apply(ttest_init_final)\n",
    "metrics = metrics.rename('tscore').to_frame().join(fpca_scores, how='inner')"
   ],
   "metadata": {
    "collapsed": false,
    "pycharm": {
     "name": "#%%\n"
    }
   }
  },
  {
   "cell_type": "code",
   "execution_count": 10,
   "outputs": [
    {
     "data": {
      "text/plain": "            tscore   RLScore\nSubject                     \nAB1      -7.195868 -1.179789\nAG1      -5.822339  1.104018\nAH1      -2.248812 -0.302101\nAM1      -6.593196 -1.400917\nAP1     -15.539946  0.868475\nAV1      -4.009663  0.859943\nBN1      -6.426085  1.433999\nCD1     -11.893333 -0.661215\nCG1      -3.318209 -0.337563\nCH1      -3.573430 -0.088406\nCK1     -18.086867 -0.719677\nCM1      -7.138170  0.220940\nCM2      -4.033090  1.491491\nCS1     -29.750010 -1.698549\nEH1      -6.931158 -1.220626\nEK1     -13.838401 -0.773153\nHK1      -7.260712 -0.835627\nHS1      -1.322012  1.332805\nJC1     -13.251912  0.186579\nJH1     -25.504208  0.001677\nJM1      -5.129612 -0.422792\nJR1      -8.021963  0.037871\nKK1      -1.931456 -1.581877\nKP1      -7.867835  0.559716\nKR1     -13.579220  0.616103\nLB1     -10.328518 -1.619418\nMB1      -4.440168  0.650220\nMG1      -5.909386  1.577561\nMP1      -0.299957  0.754587\nNW1      -5.076429 -1.489964\nSK1      -6.343552 -0.375828\nSM2      -8.408968  1.119882\nSR1      -7.447315  0.007867\nUP1      -5.891292  0.350276\nWK1      -4.692163  1.649951\nZN1      -1.138829 -0.116459",
      "text/html": "<div>\n<style scoped>\n    .dataframe tbody tr th:only-of-type {\n        vertical-align: middle;\n    }\n\n    .dataframe tbody tr th {\n        vertical-align: top;\n    }\n\n    .dataframe thead th {\n        text-align: right;\n    }\n</style>\n<table border=\"1\" class=\"dataframe\">\n  <thead>\n    <tr style=\"text-align: right;\">\n      <th></th>\n      <th>tscore</th>\n      <th>RLScore</th>\n    </tr>\n    <tr>\n      <th>Subject</th>\n      <th></th>\n      <th></th>\n    </tr>\n  </thead>\n  <tbody>\n    <tr>\n      <th>AB1</th>\n      <td>-7.195868</td>\n      <td>-1.179789</td>\n    </tr>\n    <tr>\n      <th>AG1</th>\n      <td>-5.822339</td>\n      <td>1.104018</td>\n    </tr>\n    <tr>\n      <th>AH1</th>\n      <td>-2.248812</td>\n      <td>-0.302101</td>\n    </tr>\n    <tr>\n      <th>AM1</th>\n      <td>-6.593196</td>\n      <td>-1.400917</td>\n    </tr>\n    <tr>\n      <th>AP1</th>\n      <td>-15.539946</td>\n      <td>0.868475</td>\n    </tr>\n    <tr>\n      <th>AV1</th>\n      <td>-4.009663</td>\n      <td>0.859943</td>\n    </tr>\n    <tr>\n      <th>BN1</th>\n      <td>-6.426085</td>\n      <td>1.433999</td>\n    </tr>\n    <tr>\n      <th>CD1</th>\n      <td>-11.893333</td>\n      <td>-0.661215</td>\n    </tr>\n    <tr>\n      <th>CG1</th>\n      <td>-3.318209</td>\n      <td>-0.337563</td>\n    </tr>\n    <tr>\n      <th>CH1</th>\n      <td>-3.573430</td>\n      <td>-0.088406</td>\n    </tr>\n    <tr>\n      <th>CK1</th>\n      <td>-18.086867</td>\n      <td>-0.719677</td>\n    </tr>\n    <tr>\n      <th>CM1</th>\n      <td>-7.138170</td>\n      <td>0.220940</td>\n    </tr>\n    <tr>\n      <th>CM2</th>\n      <td>-4.033090</td>\n      <td>1.491491</td>\n    </tr>\n    <tr>\n      <th>CS1</th>\n      <td>-29.750010</td>\n      <td>-1.698549</td>\n    </tr>\n    <tr>\n      <th>EH1</th>\n      <td>-6.931158</td>\n      <td>-1.220626</td>\n    </tr>\n    <tr>\n      <th>EK1</th>\n      <td>-13.838401</td>\n      <td>-0.773153</td>\n    </tr>\n    <tr>\n      <th>HK1</th>\n      <td>-7.260712</td>\n      <td>-0.835627</td>\n    </tr>\n    <tr>\n      <th>HS1</th>\n      <td>-1.322012</td>\n      <td>1.332805</td>\n    </tr>\n    <tr>\n      <th>JC1</th>\n      <td>-13.251912</td>\n      <td>0.186579</td>\n    </tr>\n    <tr>\n      <th>JH1</th>\n      <td>-25.504208</td>\n      <td>0.001677</td>\n    </tr>\n    <tr>\n      <th>JM1</th>\n      <td>-5.129612</td>\n      <td>-0.422792</td>\n    </tr>\n    <tr>\n      <th>JR1</th>\n      <td>-8.021963</td>\n      <td>0.037871</td>\n    </tr>\n    <tr>\n      <th>KK1</th>\n      <td>-1.931456</td>\n      <td>-1.581877</td>\n    </tr>\n    <tr>\n      <th>KP1</th>\n      <td>-7.867835</td>\n      <td>0.559716</td>\n    </tr>\n    <tr>\n      <th>KR1</th>\n      <td>-13.579220</td>\n      <td>0.616103</td>\n    </tr>\n    <tr>\n      <th>LB1</th>\n      <td>-10.328518</td>\n      <td>-1.619418</td>\n    </tr>\n    <tr>\n      <th>MB1</th>\n      <td>-4.440168</td>\n      <td>0.650220</td>\n    </tr>\n    <tr>\n      <th>MG1</th>\n      <td>-5.909386</td>\n      <td>1.577561</td>\n    </tr>\n    <tr>\n      <th>MP1</th>\n      <td>-0.299957</td>\n      <td>0.754587</td>\n    </tr>\n    <tr>\n      <th>NW1</th>\n      <td>-5.076429</td>\n      <td>-1.489964</td>\n    </tr>\n    <tr>\n      <th>SK1</th>\n      <td>-6.343552</td>\n      <td>-0.375828</td>\n    </tr>\n    <tr>\n      <th>SM2</th>\n      <td>-8.408968</td>\n      <td>1.119882</td>\n    </tr>\n    <tr>\n      <th>SR1</th>\n      <td>-7.447315</td>\n      <td>0.007867</td>\n    </tr>\n    <tr>\n      <th>UP1</th>\n      <td>-5.891292</td>\n      <td>0.350276</td>\n    </tr>\n    <tr>\n      <th>WK1</th>\n      <td>-4.692163</td>\n      <td>1.649951</td>\n    </tr>\n    <tr>\n      <th>ZN1</th>\n      <td>-1.138829</td>\n      <td>-0.116459</td>\n    </tr>\n  </tbody>\n</table>\n</div>"
     },
     "execution_count": 10,
     "metadata": {},
     "output_type": "execute_result"
    }
   ],
   "source": [
    "metrics"
   ],
   "metadata": {
    "collapsed": false,
    "pycharm": {
     "name": "#%%\n"
    }
   }
  },
  {
   "cell_type": "code",
   "execution_count": 11,
   "outputs": [],
   "source": [
    "import seaborn as sns"
   ],
   "metadata": {
    "collapsed": false,
    "pycharm": {
     "name": "#%%\n"
    }
   }
  },
  {
   "cell_type": "code",
   "execution_count": 12,
   "outputs": [
    {
     "data": {
      "text/plain": "<AxesSubplot:xlabel='tscore', ylabel='RLScore'>"
     },
     "execution_count": 12,
     "metadata": {},
     "output_type": "execute_result"
    },
    {
     "data": {
      "text/plain": "<Figure size 432x288 with 1 Axes>",
      "image/png": "[encoded data removed]"
     },
     "metadata": {
      "needs_background": "light"
     },
     "output_type": "display_data"
    }
   ],
   "source": [
    "sns.scatterplot(data=metrics, x='tscore', y='RLScore')"
   ],
   "metadata": {
    "collapsed": false,
    "pycharm": {
     "name": "#%%\n"
    }
   }
  },
  {
   "cell_type": "markdown",
   "source": [
    "# load gradients"
   ],
   "metadata": {
    "collapsed": false,
    "pycharm": {
     "name": "#%% md\n"
    }
   }
  },
  {
   "cell_type": "code",
   "execution_count": 52,
   "outputs": [
    {
     "data": {
      "text/plain": "        subject     epoch              region       label        g1        g2  \\\n0             1  baseline  7Networks_LH_Vis_1     VisCort  0.480404 -0.263703   \n1             1  baseline  7Networks_LH_Vis_2     VisCort  0.573926  1.403178   \n2             1  baseline  7Networks_LH_Vis_3     VisCort  0.291590  0.662147   \n3             1  baseline  7Networks_LH_Vis_4     VisCort  2.352881  2.066208   \n4             1  baseline  7Networks_LH_Vis_5     VisCort  0.388140  0.618736   \n...         ...       ...                 ...         ...       ...       ...   \n118555       46      late           Vermis IX  VermisSubC -0.427469 -0.480867   \n118556       46      late            Right IX   RightSubC -0.001993 -0.173274   \n118557       46      late              Left X    LeftSubC  0.033317 -0.974091   \n118558       46      late            Vermis X  VermisSubC  1.201635 -0.963183   \n118559       46      late             Right X   RightSubC  0.997648 -1.006948   \n\n              g3        g4       ecc  \n0       2.180387  0.402468  2.283943  \n1       1.020010 -0.193533  1.837437  \n2       1.628197 -0.588381  1.876348  \n3       0.201950  0.252048  3.147948  \n4       1.054415 -0.233904  1.303837  \n...          ...       ...       ...  \n118555  2.758838  3.350099  4.387290  \n118556  2.976064  3.083490  4.288927  \n118557  3.004128  2.663435  4.131420  \n118558  2.926164  2.514043  4.153853  \n118559  2.559290  2.095535  3.598678  \n\n[118560 rows x 9 columns]",
      "text/html": "<div>\n<style scoped>\n    .dataframe tbody tr th:only-of-type {\n        vertical-align: middle;\n    }\n\n    .dataframe tbody tr th {\n        vertical-align: top;\n    }\n\n    .dataframe thead th {\n        text-align: right;\n    }\n</style>\n<table border=\"1\" class=\"dataframe\">\n  <thead>\n    <tr style=\"text-align: right;\">\n      <th></th>\n      <th>subject</th>\n      <th>epoch</th>\n      <th>region</th>\n      <th>label</th>\n      <th>g1</th>\n      <th>g2</th>\n      <th>g3</th>\n      <th>g4</th>\n      <th>ecc</th>\n    </tr>\n  </thead>\n  <tbody>\n    <tr>\n      <th>0</th>\n      <td>1</td>\n      <td>baseline</td>\n      <td>7Networks_LH_Vis_1</td>\n      <td>VisCort</td>\n      <td>0.480404</td>\n      <td>-0.263703</td>\n      <td>2.180387</td>\n      <td>0.402468</td>\n      <td>2.283943</td>\n    </tr>\n    <tr>\n      <th>1</th>\n      <td>1</td>\n      <td>baseline</td>\n      <td>7Networks_LH_Vis_2</td>\n      <td>VisCort</td>\n      <td>0.573926</td>\n      <td>1.403178</td>\n      <td>1.020010</td>\n      <td>-0.193533</td>\n      <td>1.837437</td>\n    </tr>\n    <tr>\n      <th>2</th>\n      <td>1</td>\n      <td>baseline</td>\n      <td>7Networks_LH_Vis_3</td>\n      <td>VisCort</td>\n      <td>0.291590</td>\n      <td>0.662147</td>\n      <td>1.628197</td>\n      <td>-0.588381</td>\n      <td>1.876348</td>\n    </tr>\n    <tr>\n      <th>3</th>\n      <td>1</td>\n      <td>baseline</td>\n      <td>7Networks_LH_Vis_4</td>\n      <td>VisCort</td>\n      <td>2.352881</td>\n      <td>2.066208</td>\n      <td>0.201950</td>\n      <td>0.252048</td>\n      <td>3.147948</td>\n    </tr>\n    <tr>\n      <th>4</th>\n      <td>1</td>\n      <td>baseline</td>\n      <td>7Networks_LH_Vis_5</td>\n      <td>VisCort</td>\n      <td>0.388140</td>\n      <td>0.618736</td>\n      <td>1.054415</td>\n      <td>-0.233904</td>\n      <td>1.303837</td>\n    </tr>\n    <tr>\n      <th>...</th>\n      <td>...</td>\n      <td>...</td>\n      <td>...</td>\n      <td>...</td>\n      <td>...</td>\n      <td>...</td>\n      <td>...</td>\n      <td>...</td>\n      <td>...</td>\n    </tr>\n    <tr>\n      <th>118555</th>\n      <td>46</td>\n      <td>late</td>\n      <td>Vermis IX</td>\n      <td>VermisSubC</td>\n      <td>-0.427469</td>\n      <td>-0.480867</td>\n      <td>2.758838</td>\n      <td>3.350099</td>\n      <td>4.387290</td>\n    </tr>\n    <tr>\n      <th>118556</th>\n      <td>46</td>\n      <td>late</td>\n      <td>Right IX</td>\n      <td>RightSubC</td>\n      <td>-0.001993</td>\n      <td>-0.173274</td>\n      <td>2.976064</td>\n      <td>3.083490</td>\n      <td>4.288927</td>\n    </tr>\n    <tr>\n      <th>118557</th>\n      <td>46</td>\n      <td>late</td>\n      <td>Left X</td>\n      <td>LeftSubC</td>\n      <td>0.033317</td>\n      <td>-0.974091</td>\n      <td>3.004128</td>\n      <td>2.663435</td>\n      <td>4.131420</td>\n    </tr>\n    <tr>\n      <th>118558</th>\n      <td>46</td>\n      <td>late</td>\n      <td>Vermis X</td>\n      <td>VermisSubC</td>\n      <td>1.201635</td>\n      <td>-0.963183</td>\n      <td>2.926164</td>\n      <td>2.514043</td>\n      <td>4.153853</td>\n    </tr>\n    <tr>\n      <th>118559</th>\n      <td>46</td>\n      <td>late</td>\n      <td>Right X</td>\n      <td>RightSubC</td>\n      <td>0.997648</td>\n      <td>-1.006948</td>\n      <td>2.559290</td>\n      <td>2.095535</td>\n      <td>3.598678</td>\n    </tr>\n  </tbody>\n</table>\n<p>118560 rows × 9 columns</p>\n</div>"
     },
     "execution_count": 52,
     "metadata": {},
     "output_type": "execute_result"
    }
   ],
   "source": [
    "dfg = pd.read_csv('gradients.csv')  # df gradient values\n",
    "dfg"
   ],
   "metadata": {
    "collapsed": false,
    "pycharm": {
     "name": "#%%\n"
    }
   }
  },
  {
   "cell_type": "markdown",
   "source": [
    "removing cerebellum regions"
   ],
   "metadata": {
    "collapsed": false,
    "pycharm": {
     "name": "#%% md\n"
    }
   }
  },
  {
   "cell_type": "code",
   "execution_count": 53,
   "outputs": [],
   "source": [
    "dfg = dfg[dfg['label'] != 'VermisSubC']"
   ],
   "metadata": {
    "collapsed": false,
    "pycharm": {
     "name": "#%%\n"
    }
   }
  },
  {
   "cell_type": "code",
   "execution_count": 54,
   "outputs": [],
   "source": [
    "match = pd.read_csv('/Users/qasem/PycharmProjects/gradients-rl-task/data/participants.tsv', delimiter='\\t')\n",
    "dff = pd.merge(dfg, match[match.exclude==0], left_on='subject', right_on='participant_id', how='inner') # df features\n",
    "dff = dff.rename(columns={'dicom_dir': 'Subject'})\n",
    "dff = dff.set_index(['subject', 'Subject', 'epoch', 'region', 'label'])[['ecc']].unstack('epoch')   # make epochs differentiable\n",
    "dff = dff.droplevel(level=0, axis=1)"
   ],
   "metadata": {
    "collapsed": false,
    "pycharm": {
     "name": "#%%\n"
    }
   }
  },
  {
   "cell_type": "code",
   "execution_count": 55,
   "outputs": [
    {
     "data": {
      "text/plain": "epoch                                              baseline     early  \\\nregion                   label    subject Subject                       \n7Networks_LH_Cont_Cing_1 ContCort 1       AB1      1.711138  2.394232   \n7Networks_LH_Cont_Cing_2 ContCort 1       AB1      3.102014  2.898759   \n7Networks_LH_Cont_Cing_3 ContCort 1       AB1      3.292430  2.884357   \n7Networks_LH_Cont_Cing_4 ContCort 1       AB1      1.042868  2.118850   \n7Networks_LH_Cont_Cing_5 ContCort 1       AB1      1.922322  2.037887   \n\nepoch                                                  late       b2e  \\\nregion                   label    subject Subject                       \n7Networks_LH_Cont_Cing_1 ContCort 1       AB1      2.146025  0.683094   \n7Networks_LH_Cont_Cing_2 ContCort 1       AB1      1.677897 -0.203255   \n7Networks_LH_Cont_Cing_3 ContCort 1       AB1      2.163636 -0.408073   \n7Networks_LH_Cont_Cing_4 ContCort 1       AB1      1.245695  1.075983   \n7Networks_LH_Cont_Cing_5 ContCort 1       AB1      2.047199  0.115565   \n\nepoch                                                   e2l  \nregion                   label    subject Subject            \n7Networks_LH_Cont_Cing_1 ContCort 1       AB1     -0.248207  \n7Networks_LH_Cont_Cing_2 ContCort 1       AB1     -1.220862  \n7Networks_LH_Cont_Cing_3 ContCort 1       AB1     -0.720721  \n7Networks_LH_Cont_Cing_4 ContCort 1       AB1     -0.873155  \n7Networks_LH_Cont_Cing_5 ContCort 1       AB1      0.009313  ",
      "text/html": "<div>\n<style scoped>\n    .dataframe tbody tr th:only-of-type {\n        vertical-align: middle;\n    }\n\n    .dataframe tbody tr th {\n        vertical-align: top;\n    }\n\n    .dataframe thead th {\n        text-align: right;\n    }\n</style>\n<table border=\"1\" class=\"dataframe\">\n  <thead>\n    <tr style=\"text-align: right;\">\n      <th></th>\n      <th></th>\n      <th></th>\n      <th>epoch</th>\n      <th>baseline</th>\n      <th>early</th>\n      <th>late</th>\n      <th>b2e</th>\n      <th>e2l</th>\n    </tr>\n    <tr>\n      <th>region</th>\n      <th>label</th>\n      <th>subject</th>\n      <th>Subject</th>\n      <th></th>\n      <th></th>\n      <th></th>\n      <th></th>\n      <th></th>\n    </tr>\n  </thead>\n  <tbody>\n    <tr>\n      <th>7Networks_LH_Cont_Cing_1</th>\n      <th>ContCort</th>\n      <th>1</th>\n      <th>AB1</th>\n      <td>1.711138</td>\n      <td>2.394232</td>\n      <td>2.146025</td>\n      <td>0.683094</td>\n      <td>-0.248207</td>\n    </tr>\n    <tr>\n      <th>7Networks_LH_Cont_Cing_2</th>\n      <th>ContCort</th>\n      <th>1</th>\n      <th>AB1</th>\n      <td>3.102014</td>\n      <td>2.898759</td>\n      <td>1.677897</td>\n      <td>-0.203255</td>\n      <td>-1.220862</td>\n    </tr>\n    <tr>\n      <th>7Networks_LH_Cont_Cing_3</th>\n      <th>ContCort</th>\n      <th>1</th>\n      <th>AB1</th>\n      <td>3.292430</td>\n      <td>2.884357</td>\n      <td>2.163636</td>\n      <td>-0.408073</td>\n      <td>-0.720721</td>\n    </tr>\n    <tr>\n      <th>7Networks_LH_Cont_Cing_4</th>\n      <th>ContCort</th>\n      <th>1</th>\n      <th>AB1</th>\n      <td>1.042868</td>\n      <td>2.118850</td>\n      <td>1.245695</td>\n      <td>1.075983</td>\n      <td>-0.873155</td>\n    </tr>\n    <tr>\n      <th>7Networks_LH_Cont_Cing_5</th>\n      <th>ContCort</th>\n      <th>1</th>\n      <th>AB1</th>\n      <td>1.922322</td>\n      <td>2.037887</td>\n      <td>2.047199</td>\n      <td>0.115565</td>\n      <td>0.009313</td>\n    </tr>\n  </tbody>\n</table>\n</div>"
     },
     "execution_count": 55,
     "metadata": {},
     "output_type": "execute_result"
    }
   ],
   "source": [
    "dff['b2e'] = dff['early'] - dff['baseline']\n",
    "dff['e2l'] = dff['late'] - dff['early']\n",
    "dff = dff.reorder_levels([2, 3, 0, 1])\n",
    "dff.head()"
   ],
   "metadata": {
    "collapsed": false,
    "pycharm": {
     "name": "#%%\n"
    }
   }
  },
  {
   "cell_type": "code",
   "execution_count": 56,
   "outputs": [],
   "source": [
    "df = dff.reset_index(level=[0,1,2]).join(metrics)  # metrics and features merged\n",
    "df = df.set_index(['region', 'label', 'subject', df.index])"
   ],
   "metadata": {
    "collapsed": false,
    "pycharm": {
     "name": "#%%\n"
    }
   }
  },
  {
   "cell_type": "code",
   "execution_count": 57,
   "outputs": [
    {
     "data": {
      "text/plain": "                                                   baseline     early  \\\nregion                   label    subject Subject                       \n7Networks_LH_Cont_Cing_1 ContCort 1       AB1      1.711138  2.394232   \n7Networks_LH_Cont_Cing_2 ContCort 1       AB1      3.102014  2.898759   \n7Networks_LH_Cont_Cing_3 ContCort 1       AB1      3.292430  2.884357   \n7Networks_LH_Cont_Cing_4 ContCort 1       AB1      1.042868  2.118850   \n7Networks_LH_Cont_Cing_5 ContCort 1       AB1      1.922322  2.037887   \n\n                                                       late       b2e  \\\nregion                   label    subject Subject                       \n7Networks_LH_Cont_Cing_1 ContCort 1       AB1      2.146025  0.683094   \n7Networks_LH_Cont_Cing_2 ContCort 1       AB1      1.677897 -0.203255   \n7Networks_LH_Cont_Cing_3 ContCort 1       AB1      2.163636 -0.408073   \n7Networks_LH_Cont_Cing_4 ContCort 1       AB1      1.245695  1.075983   \n7Networks_LH_Cont_Cing_5 ContCort 1       AB1      2.047199  0.115565   \n\n                                                        e2l    tscore  \\\nregion                   label    subject Subject                       \n7Networks_LH_Cont_Cing_1 ContCort 1       AB1     -0.248207 -7.195868   \n7Networks_LH_Cont_Cing_2 ContCort 1       AB1     -1.220862 -7.195868   \n7Networks_LH_Cont_Cing_3 ContCort 1       AB1     -0.720721 -7.195868   \n7Networks_LH_Cont_Cing_4 ContCort 1       AB1     -0.873155 -7.195868   \n7Networks_LH_Cont_Cing_5 ContCort 1       AB1      0.009313 -7.195868   \n\n                                                    RLScore  \nregion                   label    subject Subject            \n7Networks_LH_Cont_Cing_1 ContCort 1       AB1     -1.179789  \n7Networks_LH_Cont_Cing_2 ContCort 1       AB1     -1.179789  \n7Networks_LH_Cont_Cing_3 ContCort 1       AB1     -1.179789  \n7Networks_LH_Cont_Cing_4 ContCort 1       AB1     -1.179789  \n7Networks_LH_Cont_Cing_5 ContCort 1       AB1     -1.179789  ",
      "text/html": "<div>\n<style scoped>\n    .dataframe tbody tr th:only-of-type {\n        vertical-align: middle;\n    }\n\n    .dataframe tbody tr th {\n        vertical-align: top;\n    }\n\n    .dataframe thead th {\n        text-align: right;\n    }\n</style>\n<table border=\"1\" class=\"dataframe\">\n  <thead>\n    <tr style=\"text-align: right;\">\n      <th></th>\n      <th></th>\n      <th></th>\n      <th></th>\n      <th>baseline</th>\n      <th>early</th>\n      <th>late</th>\n      <th>b2e</th>\n      <th>e2l</th>\n      <th>tscore</th>\n      <th>RLScore</th>\n    </tr>\n    <tr>\n      <th>region</th>\n      <th>label</th>\n      <th>subject</th>\n      <th>Subject</th>\n      <th></th>\n      <th></th>\n      <th></th>\n      <th></th>\n      <th></th>\n      <th></th>\n      <th></th>\n    </tr>\n  </thead>\n  <tbody>\n    <tr>\n      <th>7Networks_LH_Cont_Cing_1</th>\n      <th>ContCort</th>\n      <th>1</th>\n      <th>AB1</th>\n      <td>1.711138</td>\n      <td>2.394232</td>\n      <td>2.146025</td>\n      <td>0.683094</td>\n      <td>-0.248207</td>\n      <td>-7.195868</td>\n      <td>-1.179789</td>\n    </tr>\n    <tr>\n      <th>7Networks_LH_Cont_Cing_2</th>\n      <th>ContCort</th>\n      <th>1</th>\n      <th>AB1</th>\n      <td>3.102014</td>\n      <td>2.898759</td>\n      <td>1.677897</td>\n      <td>-0.203255</td>\n      <td>-1.220862</td>\n      <td>-7.195868</td>\n      <td>-1.179789</td>\n    </tr>\n    <tr>\n      <th>7Networks_LH_Cont_Cing_3</th>\n      <th>ContCort</th>\n      <th>1</th>\n      <th>AB1</th>\n      <td>3.292430</td>\n      <td>2.884357</td>\n      <td>2.163636</td>\n      <td>-0.408073</td>\n      <td>-0.720721</td>\n      <td>-7.195868</td>\n      <td>-1.179789</td>\n    </tr>\n    <tr>\n      <th>7Networks_LH_Cont_Cing_4</th>\n      <th>ContCort</th>\n      <th>1</th>\n      <th>AB1</th>\n      <td>1.042868</td>\n      <td>2.118850</td>\n      <td>1.245695</td>\n      <td>1.075983</td>\n      <td>-0.873155</td>\n      <td>-7.195868</td>\n      <td>-1.179789</td>\n    </tr>\n    <tr>\n      <th>7Networks_LH_Cont_Cing_5</th>\n      <th>ContCort</th>\n      <th>1</th>\n      <th>AB1</th>\n      <td>1.922322</td>\n      <td>2.037887</td>\n      <td>2.047199</td>\n      <td>0.115565</td>\n      <td>0.009313</td>\n      <td>-7.195868</td>\n      <td>-1.179789</td>\n    </tr>\n  </tbody>\n</table>\n</div>"
     },
     "execution_count": 57,
     "metadata": {},
     "output_type": "execute_result"
    }
   ],
   "source": [
    "df.head()"
   ],
   "metadata": {
    "collapsed": false,
    "pycharm": {
     "name": "#%%\n"
    }
   }
  },
  {
   "cell_type": "markdown",
   "source": [
    "# cross correlation"
   ],
   "metadata": {
    "collapsed": false,
    "pycharm": {
     "name": "#%% md\n"
    }
   }
  },
  {
   "cell_type": "code",
   "execution_count": 58,
   "outputs": [],
   "source": [
    "from scipy.stats import pearsonr"
   ],
   "metadata": {
    "collapsed": false,
    "pycharm": {
     "name": "#%%\n"
    }
   }
  },
  {
   "cell_type": "code",
   "execution_count": 59,
   "outputs": [],
   "source": [
    "def r_value(data, x, y):   return pearsonr(data[x], data[y])[0]\n",
    "def p_value(data, x, y):   return pearsonr(data[x], data[y])[1]"
   ],
   "metadata": {
    "collapsed": false,
    "pycharm": {
     "name": "#%%\n"
    }
   }
  },
  {
   "cell_type": "code",
   "execution_count": 60,
   "outputs": [
    {
     "data": {
      "text/plain": "<AxesSubplot:xlabel='b2e', ylabel='tscore'>"
     },
     "execution_count": 60,
     "metadata": {},
     "output_type": "execute_result"
    },
    {
     "data": {
      "text/plain": "<Figure size 432x288 with 1 Axes>",
      "image/png": "[encoded data removed]"
     },
     "metadata": {
      "needs_background": "light"
     },
     "output_type": "display_data"
    }
   ],
   "source": [
    "sns.regplot(data=df.loc['7Networks_LH_Default_PFC_9'], x='b2e', y='tscore')"
   ],
   "metadata": {
    "collapsed": false,
    "pycharm": {
     "name": "#%%\n"
    }
   }
  },
  {
   "cell_type": "markdown",
   "source": [
    "## average features within networks"
   ],
   "metadata": {
    "collapsed": false,
    "pycharm": {
     "name": "#%% md\n"
    }
   }
  },
  {
   "cell_type": "code",
   "execution_count": 61,
   "outputs": [],
   "source": [
    "dfn = df.groupby(level=[1,2,3]).mean()  # df networks mean"
   ],
   "metadata": {
    "collapsed": false,
    "pycharm": {
     "name": "#%%\n"
    }
   }
  },
  {
   "cell_type": "code",
   "execution_count": 62,
   "outputs": [],
   "source": [
    "# dfn.xs('JS1', level=2)\n",
    "dfn.dropna(inplace=True)"
   ],
   "metadata": {
    "collapsed": false,
    "pycharm": {
     "name": "#%%\n"
    }
   }
  },
  {
   "cell_type": "code",
   "execution_count": 63,
   "outputs": [
    {
     "data": {
      "text/plain": "                          baseline     early      late       b2e       e2l  \\\nlabel    subject Subject                                                     \nContCort 1       AB1      2.794769  2.471948  3.070262 -0.322821  0.598313   \n         2       AG1      2.742227  2.838582  2.794746  0.096355 -0.043836   \n         3       AH1      2.761401  2.595296  2.545638 -0.166105 -0.049658   \n         4       AM1      2.365607  2.726335  2.795614  0.360728  0.069279   \n         6       AP1      2.554872  3.098034  2.745018  0.543163 -0.353016   \n\n                             tscore   RLScore  \nlabel    subject Subject                       \nContCort 1       AB1      -7.195868 -1.179789  \n         2       AG1      -5.822339  1.104018  \n         3       AH1      -2.248812 -0.302101  \n         4       AM1      -6.593196 -1.400917  \n         6       AP1     -15.539946  0.868475  ",
      "text/html": "<div>\n<style scoped>\n    .dataframe tbody tr th:only-of-type {\n        vertical-align: middle;\n    }\n\n    .dataframe tbody tr th {\n        vertical-align: top;\n    }\n\n    .dataframe thead th {\n        text-align: right;\n    }\n</style>\n<table border=\"1\" class=\"dataframe\">\n  <thead>\n    <tr style=\"text-align: right;\">\n      <th></th>\n      <th></th>\n      <th></th>\n      <th>baseline</th>\n      <th>early</th>\n      <th>late</th>\n      <th>b2e</th>\n      <th>e2l</th>\n      <th>tscore</th>\n      <th>RLScore</th>\n    </tr>\n    <tr>\n      <th>label</th>\n      <th>subject</th>\n      <th>Subject</th>\n      <th></th>\n      <th></th>\n      <th></th>\n      <th></th>\n      <th></th>\n      <th></th>\n      <th></th>\n    </tr>\n  </thead>\n  <tbody>\n    <tr>\n      <th rowspan=\"5\" valign=\"top\">ContCort</th>\n      <th>1</th>\n      <th>AB1</th>\n      <td>2.794769</td>\n      <td>2.471948</td>\n      <td>3.070262</td>\n      <td>-0.322821</td>\n      <td>0.598313</td>\n      <td>-7.195868</td>\n      <td>-1.179789</td>\n    </tr>\n    <tr>\n      <th>2</th>\n      <th>AG1</th>\n      <td>2.742227</td>\n      <td>2.838582</td>\n      <td>2.794746</td>\n      <td>0.096355</td>\n      <td>-0.043836</td>\n      <td>-5.822339</td>\n      <td>1.104018</td>\n    </tr>\n    <tr>\n      <th>3</th>\n      <th>AH1</th>\n      <td>2.761401</td>\n      <td>2.595296</td>\n      <td>2.545638</td>\n      <td>-0.166105</td>\n      <td>-0.049658</td>\n      <td>-2.248812</td>\n      <td>-0.302101</td>\n    </tr>\n    <tr>\n      <th>4</th>\n      <th>AM1</th>\n      <td>2.365607</td>\n      <td>2.726335</td>\n      <td>2.795614</td>\n      <td>0.360728</td>\n      <td>0.069279</td>\n      <td>-6.593196</td>\n      <td>-1.400917</td>\n    </tr>\n    <tr>\n      <th>6</th>\n      <th>AP1</th>\n      <td>2.554872</td>\n      <td>3.098034</td>\n      <td>2.745018</td>\n      <td>0.543163</td>\n      <td>-0.353016</td>\n      <td>-15.539946</td>\n      <td>0.868475</td>\n    </tr>\n  </tbody>\n</table>\n</div>"
     },
     "execution_count": 63,
     "metadata": {},
     "output_type": "execute_result"
    }
   ],
   "source": [
    "dfn.head()"
   ],
   "metadata": {
    "collapsed": false,
    "pycharm": {
     "name": "#%%\n"
    }
   }
  },
  {
   "cell_type": "code",
   "execution_count": 64,
   "outputs": [
    {
     "data": {
      "text/plain": "<AxesSubplot:xlabel='b2e', ylabel='RLScore'>"
     },
     "execution_count": 64,
     "metadata": {},
     "output_type": "execute_result"
    },
    {
     "data": {
      "text/plain": "<Figure size 432x288 with 1 Axes>",
      "image/png": "[encoded data removed]"
     },
     "metadata": {
      "needs_background": "light"
     },
     "output_type": "display_data"
    }
   ],
   "source": [
    "sns.regplot(data=dfn.loc['ContCort'], x='b2e', y='RLScore')"
   ],
   "metadata": {
    "collapsed": false,
    "pycharm": {
     "name": "#%%\n"
    }
   }
  },
  {
   "cell_type": "code",
   "execution_count": 65,
   "outputs": [
    {
     "data": {
      "text/plain": "             baseline__tscore                     baseline__RLScore            \\\n                            r         p      pcor                 r         p   \nlabel                                                                           \nContCort            -0.069160  0.688571  0.845354          0.114390  0.506495   \nDefaultCort          0.109201  0.526091  0.845354         -0.004819  0.977747   \nDorsAttnCort         0.271721  0.108909  0.351633          0.378415  0.022862   \nLeftSubC            -0.080383  0.641191  0.845354         -0.111769  0.516349   \nLimbicCort          -0.125613  0.465405  0.845354          0.084573  0.623844   \n\n                       early__tscore                     early__RLScore  ...  \\\n                  pcor             r         p      pcor              r  ...   \nlabel                                                                    ...   \nContCort      0.861997      0.071512  0.678538  0.847906       0.105830  ...   \nDefaultCort   0.977747     -0.081285  0.637443  0.847906      -0.120506  ...   \nDorsAttnCort  0.205760     -0.033126  0.847906  0.847906      -0.153654  ...   \nLeftSubC      0.861997     -0.035483  0.837221  0.847906      -0.161179  ...   \nLimbicCort    0.861997     -0.204043  0.232612  0.838879      -0.077475  ...   \n\n             b2e__tscore b2e__RLScore                     e2l__tscore  \\\n                    pcor            r         p      pcor           r   \nlabel                                                                   \nContCort        0.915749    -0.018349  0.915410  0.915410   -0.123475   \nDefaultCort     0.915749    -0.093632  0.587020  0.880530   -0.051959   \nDorsAttnCort    0.915749    -0.376710  0.023535  0.211812   -0.132093   \nLeftSubC        0.930819    -0.022698  0.895461  0.915410   -0.037139   \nLimbicCort      0.915749    -0.114917  0.504528  0.880530    0.071275   \n\n                                 e2l__RLScore                      \n                     p      pcor            r         p      pcor  \nlabel                                                              \nContCort      0.473092  0.863399    -0.094665  0.582881  0.790029  \nDefaultCort   0.763449  0.863399     0.106787  0.535334  0.790029  \nDorsAttnCort  0.442511  0.863399     0.086858  0.614467  0.790029  \nLeftSubC      0.829735  0.863399     0.235024  0.167649  0.754422  \nLimbicCort    0.679546  0.863399     0.003581  0.983462  0.983462  \n\n[5 rows x 30 columns]",
      "text/html": "<div>\n<style scoped>\n    .dataframe tbody tr th:only-of-type {\n        vertical-align: middle;\n    }\n\n    .dataframe tbody tr th {\n        vertical-align: top;\n    }\n\n    .dataframe thead tr th {\n        text-align: left;\n    }\n\n    .dataframe thead tr:last-of-type th {\n        text-align: right;\n    }\n</style>\n<table border=\"1\" class=\"dataframe\">\n  <thead>\n    <tr>\n      <th></th>\n      <th colspan=\"3\" halign=\"left\">baseline__tscore</th>\n      <th colspan=\"3\" halign=\"left\">baseline__RLScore</th>\n      <th colspan=\"3\" halign=\"left\">early__tscore</th>\n      <th>early__RLScore</th>\n      <th>...</th>\n      <th>b2e__tscore</th>\n      <th colspan=\"3\" halign=\"left\">b2e__RLScore</th>\n      <th colspan=\"3\" halign=\"left\">e2l__tscore</th>\n      <th colspan=\"3\" halign=\"left\">e2l__RLScore</th>\n    </tr>\n    <tr>\n      <th></th>\n      <th>r</th>\n      <th>p</th>\n      <th>pcor</th>\n      <th>r</th>\n      <th>p</th>\n      <th>pcor</th>\n      <th>r</th>\n      <th>p</th>\n      <th>pcor</th>\n      <th>r</th>\n      <th>...</th>\n      <th>pcor</th>\n      <th>r</th>\n      <th>p</th>\n      <th>pcor</th>\n      <th>r</th>\n      <th>p</th>\n      <th>pcor</th>\n      <th>r</th>\n      <th>p</th>\n      <th>pcor</th>\n    </tr>\n    <tr>\n      <th>label</th>\n      <th></th>\n      <th></th>\n      <th></th>\n      <th></th>\n      <th></th>\n      <th></th>\n      <th></th>\n      <th></th>\n      <th></th>\n      <th></th>\n      <th></th>\n      <th></th>\n      <th></th>\n      <th></th>\n      <th></th>\n      <th></th>\n      <th></th>\n      <th></th>\n      <th></th>\n      <th></th>\n      <th></th>\n    </tr>\n  </thead>\n  <tbody>\n    <tr>\n      <th>ContCort</th>\n      <td>-0.069160</td>\n      <td>0.688571</td>\n      <td>0.845354</td>\n      <td>0.114390</td>\n      <td>0.506495</td>\n      <td>0.861997</td>\n      <td>0.071512</td>\n      <td>0.678538</td>\n      <td>0.847906</td>\n      <td>0.105830</td>\n      <td>...</td>\n      <td>0.915749</td>\n      <td>-0.018349</td>\n      <td>0.915410</td>\n      <td>0.915410</td>\n      <td>-0.123475</td>\n      <td>0.473092</td>\n      <td>0.863399</td>\n      <td>-0.094665</td>\n      <td>0.582881</td>\n      <td>0.790029</td>\n    </tr>\n    <tr>\n      <th>DefaultCort</th>\n      <td>0.109201</td>\n      <td>0.526091</td>\n      <td>0.845354</td>\n      <td>-0.004819</td>\n      <td>0.977747</td>\n      <td>0.977747</td>\n      <td>-0.081285</td>\n      <td>0.637443</td>\n      <td>0.847906</td>\n      <td>-0.120506</td>\n      <td>...</td>\n      <td>0.915749</td>\n      <td>-0.093632</td>\n      <td>0.587020</td>\n      <td>0.880530</td>\n      <td>-0.051959</td>\n      <td>0.763449</td>\n      <td>0.863399</td>\n      <td>0.106787</td>\n      <td>0.535334</td>\n      <td>0.790029</td>\n    </tr>\n    <tr>\n      <th>DorsAttnCort</th>\n      <td>0.271721</td>\n      <td>0.108909</td>\n      <td>0.351633</td>\n      <td>0.378415</td>\n      <td>0.022862</td>\n      <td>0.205760</td>\n      <td>-0.033126</td>\n      <td>0.847906</td>\n      <td>0.847906</td>\n      <td>-0.153654</td>\n      <td>...</td>\n      <td>0.915749</td>\n      <td>-0.376710</td>\n      <td>0.023535</td>\n      <td>0.211812</td>\n      <td>-0.132093</td>\n      <td>0.442511</td>\n      <td>0.863399</td>\n      <td>0.086858</td>\n      <td>0.614467</td>\n      <td>0.790029</td>\n    </tr>\n    <tr>\n      <th>LeftSubC</th>\n      <td>-0.080383</td>\n      <td>0.641191</td>\n      <td>0.845354</td>\n      <td>-0.111769</td>\n      <td>0.516349</td>\n      <td>0.861997</td>\n      <td>-0.035483</td>\n      <td>0.837221</td>\n      <td>0.847906</td>\n      <td>-0.161179</td>\n      <td>...</td>\n      <td>0.930819</td>\n      <td>-0.022698</td>\n      <td>0.895461</td>\n      <td>0.915410</td>\n      <td>-0.037139</td>\n      <td>0.829735</td>\n      <td>0.863399</td>\n      <td>0.235024</td>\n      <td>0.167649</td>\n      <td>0.754422</td>\n    </tr>\n    <tr>\n      <th>LimbicCort</th>\n      <td>-0.125613</td>\n      <td>0.465405</td>\n      <td>0.845354</td>\n      <td>0.084573</td>\n      <td>0.623844</td>\n      <td>0.861997</td>\n      <td>-0.204043</td>\n      <td>0.232612</td>\n      <td>0.838879</td>\n      <td>-0.077475</td>\n      <td>...</td>\n      <td>0.915749</td>\n      <td>-0.114917</td>\n      <td>0.504528</td>\n      <td>0.880530</td>\n      <td>0.071275</td>\n      <td>0.679546</td>\n      <td>0.863399</td>\n      <td>0.003581</td>\n      <td>0.983462</td>\n      <td>0.983462</td>\n    </tr>\n  </tbody>\n</table>\n<p>5 rows × 30 columns</p>\n</div>"
     },
     "execution_count": 65,
     "metadata": {},
     "output_type": "execute_result"
    }
   ],
   "source": [
    "dfc = []    # cross correlation\n",
    "X = ['baseline', 'early', 'late', 'b2e', 'e2l']\n",
    "Y = ['tscore', 'RLScore']\n",
    "for x in X:\n",
    "    for y in Y:\n",
    "        r = dfn.groupby(level=0).apply(r_value, x=x, y=y)    # grouped by region\n",
    "        p = dfn.groupby(level=0).apply(p_value, x=x, y=y)\n",
    "        _, pcorr = pg.multicomp(p, method='fdr_bh')\n",
    "        pcorr = pd.Series(pcorr, index=p.index)\n",
    "        dfc.append(pd.concat([r, p, pcorr], axis=1, keys=['r', 'p', 'pcor']))\n",
    "dfc = pd.concat(dfc, axis=1, keys=[x+'__'+y for x in X for y in Y])\n",
    "dfc.head()"
   ],
   "metadata": {
    "collapsed": false,
    "pycharm": {
     "name": "#%%\n"
    }
   }
  },
  {
   "cell_type": "markdown",
   "source": [
    "out of ten networks"
   ],
   "metadata": {
    "collapsed": false,
    "pycharm": {
     "name": "#%% md\n"
    }
   }
  },
  {
   "cell_type": "code",
   "execution_count": 66,
   "outputs": [
    {
     "data": {
      "text/plain": "baseline__RLScore    1\nearly__RLScore       0\nlate__RLScore        0\nb2e__RLScore         1\ne2l__RLScore         1\ndtype: int64"
     },
     "execution_count": 66,
     "metadata": {},
     "output_type": "execute_result"
    }
   ],
   "source": [
    "p = dfc.xs('p', axis=1, level=1).iloc[:, [1, 3, 5, 7, 9]]\n",
    "(p<.05).sum()"
   ],
   "metadata": {
    "collapsed": false,
    "pycharm": {
     "name": "#%%\n"
    }
   }
  },
  {
   "cell_type": "code",
   "execution_count": 67,
   "outputs": [
    {
     "data": {
      "text/plain": "baseline__tscore    0\nearly__tscore       1\nlate__tscore        0\nb2e__tscore         1\ne2l__tscore         0\ndtype: int64"
     },
     "execution_count": 67,
     "metadata": {},
     "output_type": "execute_result"
    }
   ],
   "source": [
    "p = dfc.xs('p', axis=1, level=1).iloc[:, [0, 2, 4, 6, 8]]\n",
    "(p<.05).sum()"
   ],
   "metadata": {
    "collapsed": false,
    "pycharm": {
     "name": "#%%\n"
    }
   }
  },
  {
   "cell_type": "code",
   "execution_count": 68,
   "outputs": [
    {
     "data": {
      "text/plain": "<matplotlib.collections.LineCollection at 0x1713f39d0>"
     },
     "execution_count": 68,
     "metadata": {},
     "output_type": "execute_result"
    },
    {
     "data": {
      "text/plain": "<Figure size 432x288 with 2 Axes>",
      "image/png": "[encoded data removed]"
     },
     "metadata": {
      "needs_background": "light"
     },
     "output_type": "display_data"
    }
   ],
   "source": [
    "ax = sns.heatmap(dfc.xs('p', axis=1, level=1), vmin=0, vmax=.1)\n",
    "ax.vlines(5, *ax.get_ylim())"
   ],
   "metadata": {
    "collapsed": false,
    "pycharm": {
     "name": "#%%\n"
    }
   }
  },
  {
   "cell_type": "code",
   "execution_count": 69,
   "outputs": [
    {
     "data": {
      "text/plain": "<matplotlib.collections.LineCollection at 0x172c05700>"
     },
     "execution_count": 69,
     "metadata": {},
     "output_type": "execute_result"
    },
    {
     "data": {
      "text/plain": "<Figure size 432x288 with 2 Axes>",
      "image/png": "[encoded data removed]"
     },
     "metadata": {
      "needs_background": "light"
     },
     "output_type": "display_data"
    }
   ],
   "source": [
    "ax = sns.heatmap(dfc.xs('pcor', axis=1, level=1), vmin=0, vmax=.1)\n",
    "ax.vlines(5, *ax.get_ylim())"
   ],
   "metadata": {
    "collapsed": false,
    "pycharm": {
     "name": "#%%\n"
    }
   }
  }
 ],
 "metadata": {
  "kernelspec": {
   "display_name": "Python 3",
   "language": "python",
   "name": "python3"
  },
  "language_info": {
   "codemirror_mode": {
    "name": "ipython",
    "version": 2
   },
   "file_extension": ".py",
   "mimetype": "text/x-python",
   "name": "python",
   "nbconvert_exporter": "python",
   "pygments_lexer": "ipython2",
   "version": "2.7.6"
  }
 },
 "nbformat": 4,
 "nbformat_minor": 0
}