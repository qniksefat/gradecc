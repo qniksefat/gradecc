{
 "cells": [
  {
   "cell_type": "markdown",
   "metadata": {},
   "source": [
    "# input data"
   ]
  },
  {
   "cell_type": "code",
   "execution_count": 1,
   "metadata": {},
   "outputs": [],
   "source": [
    "import pandas as pd\n"
   ]
  },
  {
   "cell_type": "code",
   "execution_count": 2,
   "metadata": {},
   "outputs": [
    {
     "data": {
      "text/plain": [
       "(219, 998)"
      ]
     },
     "execution_count": 2,
     "metadata": {},
     "output_type": "execute_result"
    }
   ],
   "source": [
    "\n",
    "baseline = pd.read_csv('sub43data/sub-43_ses-01_task-RLbaseline_run-1_space-fsLR_den-91k_bold_timeseries.tsv', delimiter='\\t')\n",
    "baseline.shape"
   ]
  },
  {
   "cell_type": "code",
   "execution_count": 3,
   "metadata": {},
   "outputs": [
    {
     "data": {
      "text/plain": [
       "(297, 998)"
      ]
     },
     "execution_count": 3,
     "metadata": {},
     "output_type": "execute_result"
    }
   ],
   "source": [
    "rs43_fname = 'sub-43_ses-01_task-rest_run-1_space-fsLR_den-91k_bold_timeseries.tsv'\n",
    "rs = pd.read_csv('sub43data/' + rs43_fname, delimiter='\\t')\n",
    "rs.shape"
   ]
  },
  {
   "cell_type": "code",
   "execution_count": 4,
   "metadata": {},
   "outputs": [
    {
     "data": {
      "text/plain": [
       "(609, 998)"
      ]
     },
     "execution_count": 4,
     "metadata": {},
     "output_type": "execute_result"
    }
   ],
   "source": [
    "learning_43_fname = 'sub-43_ses-01_task-RLlearning_run-1_space-fsLR_den-91k_bold_timeseries.tsv'\n",
    "lrn = pd.read_csv('sub43data/' + learning_43_fname, delimiter='\\t')\n",
    "lrn.shape"
   ]
  },
  {
   "cell_type": "code",
   "execution_count": 5,
   "metadata": {},
   "outputs": [
    {
     "data": {
      "text/plain": [
       "Index(['7Networks_LH_Vis_1', '7Networks_LH_Vis_2', '7Networks_LH_Vis_3',\n",
       "       '7Networks_LH_Vis_4', '7Networks_LH_Vis_5', '7Networks_LH_Vis_6',\n",
       "       '7Networks_LH_Vis_7', '7Networks_LH_Vis_8', '7Networks_LH_Vis_9',\n",
       "       '7Networks_LH_Vis_10',\n",
       "       ...\n",
       "       '7Networks_RH_Default_pCunPCC_11', '7Networks_RH_Default_pCunPCC_12',\n",
       "       '7Networks_RH_Default_pCunPCC_13', '7Networks_RH_Default_pCunPCC_14',\n",
       "       '7Networks_RH_Default_pCunPCC_15', '7Networks_RH_Default_pCunPCC_16',\n",
       "       '7Networks_RH_Default_pCunPCC_17', '7Networks_RH_Default_pCunPCC_18',\n",
       "       '7Networks_RH_Cont_pCun_2', '7Networks_RH_Cont_pCun_4'],\n",
       "      dtype='object', length=998)"
      ]
     },
     "execution_count": 5,
     "metadata": {},
     "output_type": "execute_result"
    }
   ],
   "source": [
    "rs.columns"
   ]
  },
  {
   "cell_type": "markdown",
   "metadata": {},
   "source": [
    "# atlas"
   ]
  },
  {
   "cell_type": "code",
   "execution_count": 6,
   "metadata": {},
   "outputs": [],
   "source": [
    "import nibabel as nib\n",
    "import numpy as np\n",
    "\n",
    "atlas_lh = nib.freesurfer.read_annot('atlas/Schaefer2018_1000Parcels_7Networks/lh.Schaefer2018_1000Parcels_7Networks_order.annot')\n",
    "surf_labels_lh = atlas_lh[0]\n",
    "atlas_rh = nib.freesurfer.read_annot('atlas/Schaefer2018_1000Parcels_7Networks/rh.Schaefer2018_1000Parcels_7Networks_order.annot')\n",
    "surf_labels_rh = atlas_rh[0]"
   ]
  },
  {
   "cell_type": "code",
   "execution_count": 7,
   "metadata": {},
   "outputs": [],
   "source": [
    "surf_labels_rh[surf_labels_rh != 0] += 500  # different labels for lh and rh\n",
    "surf_labels = np.concatenate([surf_labels_lh, surf_labels_rh])"
   ]
  },
  {
   "cell_type": "code",
   "execution_count": 8,
   "metadata": {},
   "outputs": [],
   "source": [
    "labels_lh = [x.decode() for x in atlas_lh[2]]\n",
    "labels_rh = [x.decode() for x in atlas_rh[2]]\n",
    "labels_rh.remove('Background+FreeSurfer_Defined_Medial_Wall')\n",
    "regions = labels_lh + labels_rh"
   ]
  },
  {
   "cell_type": "code",
   "execution_count": 9,
   "metadata": {},
   "outputs": [
    {
     "data": {
      "text/plain": [
       "(501, 5)"
      ]
     },
     "execution_count": 9,
     "metadata": {},
     "output_type": "execute_result"
    }
   ],
   "source": [
    "atlas_lh[1].shape"
   ]
  },
  {
   "cell_type": "code",
   "execution_count": 10,
   "metadata": {},
   "outputs": [
    {
     "data": {
      "text/plain": [
       "{'7Networks_RH_Cont_Cing_1',\n",
       " '7Networks_RH_Vis_33',\n",
       " 'Background+FreeSurfer_Defined_Medial_Wall'}"
      ]
     },
     "execution_count": 10,
     "metadata": {},
     "output_type": "execute_result"
    }
   ],
   "source": [
    "REMOVED_REGIONS = set(regions) - set(rs.columns.tolist())\n",
    "REMOVED_REGIONS"
   ]
  },
  {
   "cell_type": "markdown",
   "metadata": {},
   "source": [
    "## labels to plot surf "
   ]
  },
  {
   "cell_type": "markdown",
   "metadata": {},
   "source": [
    "it's also the mapping from 20484 2mm voxels to 1001 regions on brain surface"
   ]
  },
  {
   "cell_type": "code",
   "execution_count": 11,
   "metadata": {},
   "outputs": [
    {
     "data": {
      "text/plain": [
       "array([145, 214, 128, ..., 833, 833, 833], dtype=int32)"
      ]
     },
     "execution_count": 11,
     "metadata": {},
     "output_type": "execute_result"
    }
   ],
   "source": [
    "surf_labels"
   ]
  },
  {
   "cell_type": "code",
   "execution_count": 12,
   "metadata": {},
   "outputs": [
    {
     "data": {
      "text/plain": [
       "1743"
      ]
     },
     "execution_count": 12,
     "metadata": {},
     "output_type": "execute_result"
    }
   ],
   "source": [
    "(surf_labels == 0).sum()"
   ]
  },
  {
   "cell_type": "code",
   "execution_count": 13,
   "metadata": {},
   "outputs": [
    {
     "data": {
      "text/plain": [
       "17"
      ]
     },
     "execution_count": 13,
     "metadata": {},
     "output_type": "execute_result"
    }
   ],
   "source": [
    "(surf_labels == 1000).sum()"
   ]
  },
  {
   "cell_type": "markdown",
   "metadata": {},
   "source": [
    "https://github.com/ThomasYeoLab/CBIG/blob/master/stable_projects/brain_parcellation/Schaefer2018_LocalGlobal/Parcellations/MNI/Centroid_coordinates/Schaefer2018_1000Parcels_7Networks_order_FSLMNI152_2mm.Centroid_RAS.csv"
   ]
  },
  {
   "cell_type": "markdown",
   "metadata": {},
   "source": [
    "## removing regions"
   ]
  },
  {
   "cell_type": "code",
   "execution_count": 14,
   "metadata": {},
   "outputs": [
    {
     "data": {
      "text/plain": [
       "[0, 903, 533]"
      ]
     },
     "execution_count": 14,
     "metadata": {},
     "output_type": "execute_result"
    }
   ],
   "source": [
    "removed_labels = [regions.index(r) for r in REMOVED_REGIONS]\n",
    "removed_labels\n",
    "# it's the plus one"
   ]
  },
  {
   "cell_type": "code",
   "execution_count": 15,
   "metadata": {},
   "outputs": [
    {
     "data": {
      "text/plain": [
       "998"
      ]
     },
     "execution_count": 15,
     "metadata": {},
     "output_type": "execute_result"
    }
   ],
   "source": [
    "for r in REMOVED_REGIONS:\n",
    "    regions.remove(r)\n",
    "\n",
    "len(regions)"
   ]
  },
  {
   "cell_type": "markdown",
   "metadata": {},
   "source": [
    "## corr mat"
   ]
  },
  {
   "cell_type": "code",
   "execution_count": 16,
   "metadata": {},
   "outputs": [],
   "source": [
    "from nilearn.connectome import ConnectivityMeasure"
   ]
  },
  {
   "cell_type": "code",
   "execution_count": 17,
   "metadata": {},
   "outputs": [],
   "source": [
    "# resting state data\n",
    "correlation_measure = ConnectivityMeasure(kind='correlation')\n",
    "corr_mat = correlation_measure.fit_transform([rs.values])[0]"
   ]
  },
  {
   "cell_type": "code",
   "execution_count": 18,
   "metadata": {},
   "outputs": [],
   "source": [
    "# baseline \n",
    "correlation_measure_baseline = ConnectivityMeasure(kind='correlation')\n",
    "corr_mat_baseline = correlation_measure_baseline.fit_transform([baseline.values])[0]"
   ]
  },
  {
   "cell_type": "code",
   "execution_count": 19,
   "metadata": {},
   "outputs": [],
   "source": [
    "# learning\n",
    "correlation_measure_lrn = ConnectivityMeasure(kind='correlation')\n",
    "corr_mat_lrn = correlation_measure_lrn.fit_transform([lrn.values])[0]"
   ]
  },
  {
   "cell_type": "markdown",
   "metadata": {},
   "source": [
    "# conn matrix"
   ]
  },
  {
   "cell_type": "code",
   "execution_count": 20,
   "metadata": {},
   "outputs": [
    {
     "name": "stderr",
     "output_type": "stream",
     "text": [
      "/Users/qasem/.local/lib/python3.8/site-packages/nilearn/datasets/__init__.py:93: FutureWarning: Fetchers from the nilearn.datasets module will be updated in version 0.9 to return python strings instead of bytes and Pandas dataframes instead of Numpy arrays.\n",
      "  warn(\"Fetchers from the nilearn.datasets module will be \"\n"
     ]
    }
   ],
   "source": [
    "from nilearn import plotting"
   ]
  },
  {
   "cell_type": "markdown",
   "metadata": {},
   "source": [
    "## reduced mat based on std"
   ]
  },
  {
   "cell_type": "code",
   "execution_count": 21,
   "metadata": {},
   "outputs": [],
   "source": [
    "# Reduce matrix size, only for visualization purposes\n",
    "mat_mask = np.where(np.std(corr_mat, axis=1) > 0.2)[0]\n",
    "corr_mat_masked = corr_mat[mat_mask][:, mat_mask]\n",
    "# Create corresponding region names\n",
    "regions_list = ['%s_%s' % (h, r) for h in ['L', 'R'] for r in regions]\n",
    "masked_regions = [regions_list[i] for i in mat_mask]"
   ]
  },
  {
   "cell_type": "code",
   "execution_count": 22,
   "metadata": {},
   "outputs": [
    {
     "data": {
      "text/plain": [
       "636"
      ]
     },
     "execution_count": 22,
     "metadata": {},
     "output_type": "execute_result"
    }
   ],
   "source": [
    "len(mat_mask)"
   ]
  },
  {
   "cell_type": "code",
   "execution_count": 23,
   "metadata": {},
   "outputs": [
    {
     "data": {
      "text/plain": [
       "array([ 1,  2,  3,  4,  7,  8,  9, 10, 11, 12])"
      ]
     },
     "execution_count": 23,
     "metadata": {},
     "output_type": "execute_result"
    }
   ],
   "source": [
    "mat_mask[:10] # e.g. no 5 and 6 "
   ]
  },
  {
   "cell_type": "code",
   "execution_count": 24,
   "metadata": {},
   "outputs": [],
   "source": [
    "from matplotlib import pyplot as plt\n",
    "\n",
    "# fig = plt.figure(figsize=(15,15))\n",
    "# ax = plotting.plot_matrix(corr_mat_masked, labels=masked_regions,\n",
    "#                                  vmax=0.8, vmin=-0.8, reorder=True,\n",
    "#                                  figure=fig, # figure=(15, 15), \n",
    "#                                  )\n",
    "\n",
    "# fig.savefig('con-mat.png')"
   ]
  },
  {
   "cell_type": "markdown",
   "metadata": {},
   "source": [
    "## reordering"
   ]
  },
  {
   "cell_type": "code",
   "execution_count": 28,
   "metadata": {},
   "outputs": [],
   "source": [
    "# reordered_labels = [lbl.get_text() for lbl in ax.axes.get_xticklabels()]\n",
    "# len(reordered_labels)\n",
    "# regions[:5], reordered_labels[:5]\n",
    "# str_regions = [str(r) for r in regions]\n",
    "# regions_ordering = [str_regions.index(r) for r in reordered_labels]\n",
    "# corr_mat_reordered = corr_mat[regions_ordering][:, regions_ordering]\n",
    "# plotting.plot_matrix(corr_mat_reordered, figure=(15, 15),\n",
    "#                         labels=reordered_labels, reorder=False,\n",
    "#                         vmax=0.8, vmin=-0.8)"
   ]
  },
  {
   "cell_type": "markdown",
   "metadata": {},
   "source": [
    "https://github.com/nilearn/nilearn/issues/1633"
   ]
  },
  {
   "cell_type": "markdown",
   "metadata": {},
   "source": [
    "## baseline and learning respecting to rs "
   ]
  },
  {
   "cell_type": "markdown",
   "metadata": {},
   "source": [
    "now that we have the orders, we can input that to the next cond_data"
   ]
  },
  {
   "cell_type": "code",
   "execution_count": 29,
   "metadata": {},
   "outputs": [],
   "source": [
    "# corr_mat_baseline.shape\n",
    "# corr_mat_baseline_reordered = corr_mat_baseline[regions_ordering][:, regions_ordering]"
   ]
  },
  {
   "cell_type": "markdown",
   "metadata": {},
   "source": [
    "---"
   ]
  },
  {
   "cell_type": "markdown",
   "metadata": {},
   "source": [
    "# plot surf"
   ]
  },
  {
   "cell_type": "code",
   "execution_count": 30,
   "metadata": {},
   "outputs": [
    {
     "data": {
      "text/plain": [
       "[0, 903, 533]"
      ]
     },
     "execution_count": 30,
     "metadata": {},
     "output_type": "execute_result"
    }
   ],
   "source": [
    "removed_labels"
   ]
  },
  {
   "cell_type": "code",
   "execution_count": 31,
   "metadata": {},
   "outputs": [
    {
     "data": {
      "text/plain": [
       "array([145, 214, 128, ..., 833, 833, 833], dtype=int32)"
      ]
     },
     "execution_count": 31,
     "metadata": {},
     "output_type": "execute_result"
    }
   ],
   "source": [
    "surf_labels"
   ]
  },
  {
   "cell_type": "code",
   "execution_count": 32,
   "metadata": {},
   "outputs": [],
   "source": [
    "# Build Destrieux parcellation and mask\n",
    "mask_removed = ~np.isin(surf_labels, removed_labels)"
   ]
  },
  {
   "cell_type": "code",
   "execution_count": 33,
   "metadata": {},
   "outputs": [
    {
     "data": {
      "text/plain": [
       "(20484, 1761)"
      ]
     },
     "execution_count": 33,
     "metadata": {},
     "output_type": "execute_result"
    }
   ],
   "source": [
    "len(mask_removed), (mask_removed == False).sum()\n",
    "# removed voxels due to being in removed regions"
   ]
  },
  {
   "cell_type": "code",
   "execution_count": 105,
   "metadata": {},
   "outputs": [
    {
     "data": {
      "text/plain": [
       "(1001, 998)"
      ]
     },
     "execution_count": 105,
     "metadata": {},
     "output_type": "execute_result"
    }
   ],
   "source": [
    "len(set(surf_labels)), len(set(surf_labels[mask_removed]))"
   ]
  },
  {
   "cell_type": "markdown",
   "metadata": {},
   "source": [
    "# Gradients"
   ]
  },
  {
   "cell_type": "markdown",
   "metadata": {},
   "source": [
    "separately fitted on lrn"
   ]
  },
  {
   "cell_type": "code",
   "execution_count": 130,
   "metadata": {},
   "outputs": [
    {
     "data": {
      "text/plain": [
       "array([[-0.81803871, -1.74470451,  3.12175069,  0.15464395,  0.98718177,\n",
       "         0.70315699,  0.04863302,  0.41439915,  0.47973416, -0.15317973]])"
      ]
     },
     "execution_count": 130,
     "metadata": {},
     "output_type": "execute_result"
    }
   ],
   "source": [
    "from brainspace.gradient import GradientMaps\n",
    "gm_rs = GradientMaps(n_components=10, random_state=0, alignment=\"procrustes\",\n",
    "                      approach=\"pca\")\n",
    "\n",
    "gm_rs.fit(corr_mat, sparsity=0.9)\n",
    "# shape of gm.gradients_[:, 0] is 1000\n",
    "# fit on rs\n",
    "gm_rs.gradients_[:1]"
   ]
  },
  {
   "cell_type": "code",
   "execution_count": 131,
   "metadata": {},
   "outputs": [
    {
     "data": {
      "text/plain": [
       "array([[-1.71148523,  2.02162346,  0.86332861,  1.71478229, -0.59207486,\n",
       "         0.18172818, -2.24997682, -0.19248734, -0.17877626,  0.32336313]])"
      ]
     },
     "execution_count": 131,
     "metadata": {},
     "output_type": "execute_result"
    }
   ],
   "source": [
    "# separately fitted on lrn\n",
    "\n",
    "gm_lrn1 = GradientMaps(n_components=10, random_state=0, alignment=\"procrustes\",\n",
    "                      approach=\"pca\")\n",
    "\n",
    "gm_lrn1.fit(corr_mat_lrn,\n",
    "    sparsity=0.9)\n",
    "\n",
    "gm_lrn1.gradients_[:1]"
   ]
  },
  {
   "cell_type": "code",
   "execution_count": 133,
   "metadata": {},
   "outputs": [
    {
     "data": {
      "text/plain": [
       "(998, 10)"
      ]
     },
     "execution_count": 133,
     "metadata": {},
     "output_type": "execute_result"
    }
   ],
   "source": [
    "gm_rs.gradients_.shape"
   ]
  },
  {
   "cell_type": "markdown",
   "metadata": {},
   "source": [
    "---\n",
    "combined"
   ]
  },
  {
   "cell_type": "code",
   "execution_count": 136,
   "metadata": {},
   "outputs": [
    {
     "data": {
      "text/plain": [
       "array([[-0.81803871, -1.74470451,  3.12175069,  0.15464395,  0.98718177,\n",
       "         0.70315699,  0.04863302,  0.41439915,  0.47973416, -0.15317973]])"
      ]
     },
     "execution_count": 136,
     "metadata": {},
     "output_type": "execute_result"
    }
   ],
   "source": [
    "\n",
    "gm_lrn = GradientMaps(n_components=10, random_state=0, alignment=\"procrustes\",\n",
    "                      approach=\"pca\")\n",
    "\n",
    "gm_lrn.fit([corr_mat, corr_mat_lrn],\n",
    "    sparsity=0.9)\n",
    "\n",
    "gm_lrn.gradients_[0][:1]"
   ]
  },
  {
   "cell_type": "code",
   "execution_count": 140,
   "metadata": {},
   "outputs": [
    {
     "data": {
      "text/plain": [
       "array([[-0.81803871, -1.74470451,  3.12175069,  0.15464395,  0.98718177,\n",
       "         0.70315699,  0.04863302,  0.41439915,  0.47973416, -0.15317973]])"
      ]
     },
     "execution_count": 140,
     "metadata": {},
     "output_type": "execute_result"
    }
   ],
   "source": [
    "gm_lrn.aligned_[0][:1]"
   ]
  },
  {
   "cell_type": "code",
   "execution_count": 137,
   "metadata": {},
   "outputs": [
    {
     "data": {
      "text/plain": [
       "array([[-1.71148523,  2.02162346,  0.86332861,  1.71478229, -0.59207486,\n",
       "         0.18172818, -2.24997682, -0.19248734, -0.17877626,  0.32336313]])"
      ]
     },
     "execution_count": 137,
     "metadata": {},
     "output_type": "execute_result"
    }
   ],
   "source": [
    "gm_lrn.gradients_[1][:1]"
   ]
  },
  {
   "cell_type": "code",
   "execution_count": 139,
   "metadata": {},
   "outputs": [
    {
     "data": {
      "text/plain": [
       "array([[ 3.08404319,  0.86743908,  0.29022823,  0.81314477, -0.71786866,\n",
       "        -0.63248146,  0.57938731,  0.14443662,  2.00863262,  0.07597737]])"
      ]
     },
     "execution_count": 139,
     "metadata": {},
     "output_type": "execute_result"
    }
   ],
   "source": [
    "gm_lrn.aligned_[1][:1]"
   ]
  },
  {
   "cell_type": "markdown",
   "metadata": {},
   "source": [
    "aligned is different for the second input in list!"
   ]
  },
  {
   "cell_type": "markdown",
   "metadata": {},
   "source": [
    "---\n",
    "fit on rs then on lrn"
   ]
  },
  {
   "cell_type": "code",
   "execution_count": 141,
   "metadata": {},
   "outputs": [
    {
     "data": {
      "text/plain": [
       "array([[-1.71148523,  2.02162346,  0.86332861,  1.71478229, -0.59207486,\n",
       "         0.18172818, -2.24997682, -0.19248734, -0.17877626,  0.32336313]])"
      ]
     },
     "execution_count": 141,
     "metadata": {},
     "output_type": "execute_result"
    }
   ],
   "source": [
    "gmr = GradientMaps(n_components=10, random_state=0, approach=\"pca\")\n",
    "gmr.fit(corr_mat)\n",
    "\n",
    "gml = GradientMaps(n_components=10, random_state=0, alignment=\"procrustes\", approach=\"pca\",)\n",
    "gml.fit(corr_mat_lrn, reference=gmr.gradients_)\n",
    "\n",
    "gml.gradients_[:1]"
   ]
  },
  {
   "cell_type": "code",
   "execution_count": 142,
   "metadata": {},
   "outputs": [
    {
     "data": {
      "text/plain": [
       "array([[ 3.08404319,  0.86743908,  0.29022823,  0.81314477, -0.71786866,\n",
       "        -0.63248146,  0.57938731,  0.14443662,  2.00863262,  0.07597737]])"
      ]
     },
     "execution_count": 142,
     "metadata": {},
     "output_type": "execute_result"
    }
   ],
   "source": [
    "gml.aligned_[:1]"
   ]
  },
  {
   "cell_type": "markdown",
   "metadata": {},
   "source": [
    "works the same!"
   ]
  },
  {
   "cell_type": "markdown",
   "metadata": {},
   "source": [
    "---"
   ]
  },
  {
   "cell_type": "code",
   "execution_count": 143,
   "metadata": {},
   "outputs": [
    {
     "data": {
      "text/plain": [
       "GradientMaps(alignment='procrustes', approach='pca', random_state=0)"
      ]
     },
     "execution_count": 143,
     "metadata": {},
     "output_type": "execute_result"
    }
   ],
   "source": [
    "gmp = GradientMaps(n_components=10, random_state=0, approach=\"pca\", alignment=\"procrustes\", )\n",
    "gmp.fit([corr_mat, corr_mat_lrn], reference=gmr.gradients_)"
   ]
  },
  {
   "cell_type": "code",
   "execution_count": 144,
   "metadata": {},
   "outputs": [
    {
     "data": {
      "text/plain": [
       "array([[-1.71148523,  2.02162346,  0.86332861,  1.71478229, -0.59207486,\n",
       "         0.18172818, -2.24997682, -0.19248734, -0.17877626,  0.32336313]])"
      ]
     },
     "execution_count": 144,
     "metadata": {},
     "output_type": "execute_result"
    }
   ],
   "source": [
    "gmp.gradients_[1][:1]"
   ]
  },
  {
   "cell_type": "code",
   "execution_count": 145,
   "metadata": {},
   "outputs": [
    {
     "data": {
      "text/plain": [
       "array([[ 3.08404319,  0.86743908,  0.29022823,  0.81314477, -0.71786866,\n",
       "        -0.63248146,  0.57938731,  0.14443662,  2.00863262,  0.07597737]])"
      ]
     },
     "execution_count": 145,
     "metadata": {},
     "output_type": "execute_result"
    }
   ],
   "source": [
    "gmp.aligned_[1][:1]"
   ]
  },
  {
   "cell_type": "code",
   "execution_count": 146,
   "metadata": {},
   "outputs": [
    {
     "data": {
      "text/plain": [
       "(998, 10)"
      ]
     },
     "execution_count": 146,
     "metadata": {},
     "output_type": "execute_result"
    }
   ],
   "source": [
    "gmp.aligned_[1].shape"
   ]
  },
  {
   "cell_type": "markdown",
   "metadata": {},
   "source": [
    "same again"
   ]
  },
  {
   "cell_type": "markdown",
   "metadata": {},
   "source": [
    "---"
   ]
  },
  {
   "cell_type": "code",
   "execution_count": 147,
   "metadata": {},
   "outputs": [],
   "source": [
    "from brainspace.utils.parcellation import map_to_labels"
   ]
  },
  {
   "cell_type": "code",
   "execution_count": null,
   "metadata": {},
   "outputs": [],
   "source": [
    "# learning grads:"
   ]
  },
  {
   "cell_type": "code",
   "execution_count": 148,
   "metadata": {},
   "outputs": [],
   "source": [
    "grad = map_to_labels(gml.gradients_[:, 0], surf_labels, mask=mask_removed, fill=np.nan)\n",
    "grad2 = map_to_labels(gml.gradients_[:, 1], surf_labels, mask=mask_removed, fill=np.nan)"
   ]
  },
  {
   "cell_type": "code",
   "execution_count": 150,
   "metadata": {},
   "outputs": [],
   "source": [
    "# aligned\n",
    "\n",
    "grad_aligned = map_to_labels(gml.aligned_[:, 0], surf_labels, mask=mask_removed, fill=np.nan)\n",
    "grad2_aligned = map_to_labels(gml.aligned_[:, 1], surf_labels, mask=mask_removed, fill=np.nan)"
   ]
  },
  {
   "cell_type": "code",
   "execution_count": 151,
   "metadata": {},
   "outputs": [],
   "source": [
    "from brainspace.datasets import load_fsa5\n",
    "\n",
    "surf_lh, surf_rh = load_fsa5()"
   ]
  },
  {
   "cell_type": "code",
   "execution_count": 152,
   "metadata": {},
   "outputs": [],
   "source": [
    "text = ['Schaefer\\n1000', '1st grad', '1st grad aligned', '2nd grad', '2nd grad aligned']\n",
    "grad_data = [surf_labels, grad, grad_aligned, grad2, grad2_aligned]\n",
    "color_map = ['tab20', 'viridis_r', 'viridis_r', 'viridis_r', 'viridis_r']"
   ]
  },
  {
   "cell_type": "code",
   "execution_count": 158,
   "metadata": {},
   "outputs": [],
   "source": [
    "from brainspace.plotting import plot_hemispheres\n",
    "\n",
    "plot_hemispheres(surf_lh=surf_lh, surf_rh=surf_rh,\n",
    "array_name=grad_data, \n",
    "filename='subject 43 - baseline gradients',\n",
    "    size=(1200, 1500), color_bar=True, \n",
    "    cmap=color_map,\n",
    "    zoom=1.5, label_text=text)\n"
   ]
  },
  {
   "cell_type": "code",
   "execution_count": null,
   "metadata": {},
   "outputs": [],
   "source": []
  }
 ],
 "metadata": {
  "interpreter": {
   "hash": "bcbf5f9a2aac795d85b7964d83c269f7e82e79b7150e5b45f68d36d0e5cb5836"
  },
  "kernelspec": {
   "display_name": "Python 3.8.11 64-bit ('nienv': conda)",
   "language": "python",
   "name": "python3"
  },
  "language_info": {
   "codemirror_mode": {
    "name": "ipython",
    "version": 3
   },
   "file_extension": ".py",
   "mimetype": "text/x-python",
   "name": "python",
   "nbconvert_exporter": "python",
   "pygments_lexer": "ipython3",
   "version": "3.8.11"
  },
  "orig_nbformat": 4
 },
 "nbformat": 4,
 "nbformat_minor": 2
}
