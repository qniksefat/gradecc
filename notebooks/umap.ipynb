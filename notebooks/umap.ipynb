{
 "cells": [
  {
   "cell_type": "markdown",
   "source": [
    "# save data"
   ],
   "metadata": {
    "collapsed": false,
    "pycharm": {
     "name": "#%% md\n"
    }
   }
  },
  {
   "cell_type": "code",
   "execution_count": 7,
   "outputs": [],
   "source": [
    "from gradecc.utils.filenames import dir_cache\n",
    "import pickle\n",
    "\n",
    "def dump_pkl(obj, fname):\n",
    "    with open(dir_cache+fname +'.pickle', 'wb') as handle:\n",
    "        pickle.dump(obj, handle, protocol=pickle.HIGHEST_PROTOCOL)\n",
    "\n",
    "def load_pkl(fname):\n",
    "    with open(dir_cache+fname +'.pickle', 'rb') as handle:\n",
    "        return pickle.load(handle)\n",
    "\n",
    "# dump_pkl(conn_mat, 'conn_mat')\n",
    "# dump_pkl(conn_mat_centered, 'conn_mat_centered')\n",
    "# dump_pkl(subject_riemann_mean, 'subject_riemann_mean')\n",
    "# dump_pkl(grand_mean, 'grand_mean')\n",
    "\n",
    "conn_mat = load_pkl('conn_mat')\n",
    "conn_mat_centered = load_pkl('conn_mat_centered')\n",
    "subject_riemann_mean = load_pkl('subject_riemann_mean')\n",
    "grand_mean = load_pkl('grand_mean')"
   ],
   "metadata": {
    "collapsed": false,
    "pycharm": {
     "name": "#%%\n"
    }
   }
  },
  {
   "cell_type": "code",
   "execution_count": 52,
   "outputs": [],
   "source": [
    "# postscript 2 stands for not including `rest` epoch in analysis\n",
    "\n",
    "# dump_pkl(conn_mat2, 'conn_mat2')\n",
    "# dump_pkl(conn_mat_centered2, 'conn_mat_centered2')\n",
    "# dump_pkl(subject_riemann_mean2, 'subject_riemann_mean2')\n",
    "# dump_pkl(grand_mean2, 'grand_mean2')\n",
    "\n",
    "conn_mat2 = load_pkl('conn_mat2')\n",
    "conn_mat_centered2 = load_pkl('conn_mat_centered2')\n",
    "subject_riemann_mean2 = load_pkl('subject_riemann_mean2')\n",
    "grand_mean2 = load_pkl('grand_mean2')"
   ],
   "metadata": {
    "collapsed": false,
    "pycharm": {
     "name": "#%%\n"
    }
   }
  },
  {
   "cell_type": "markdown",
   "source": [
    "# import and load data"
   ],
   "metadata": {
    "collapsed": false,
    "pycharm": {
     "name": "#%% md\n"
    }
   }
  },
  {
   "cell_type": "code",
   "execution_count": 2,
   "outputs": [],
   "source": [
    "import pandas as pd\n",
    "import numpy as np\n",
    "from tqdm import tqdm\n",
    "\n",
    "from gradecc.compute.conn_mat import ConnectivityMatrixMean\n",
    "from gradecc.load_data.subject import SUBJECTS_INT\n",
    "from gradecc.load_data import Timeseries\n",
    "\n",
    "import umap\n",
    "from pyriemann.utils.mean import mean_riemann\n",
    "\n",
    "from matplotlib import pyplot as plt\n",
    "import seaborn as sns\n",
    "\n",
    "sns.set(style='white', context='notebook', rc={'figure.figsize': (7, 5)})\n",
    "\n",
    "E = ['rest', 'baseline', 'early', 'late']\n",
    "E2 = ['baseline', 'early', 'late']"
   ],
   "metadata": {
    "collapsed": false,
    "pycharm": {
     "name": "#%%\n"
    }
   }
  },
  {
   "cell_type": "code",
   "execution_count": 3,
   "outputs": [
    {
     "data": {
      "text/plain": "     subject_int     epoch\n0              1      rest\n1              1  baseline\n2              1     early\n3              1      late\n4              2      rest\n..           ...       ...\n147           45      late\n148           46      rest\n149           46  baseline\n150           46     early\n151           46      late\n\n[152 rows x 2 columns]",
      "text/html": "<div>\n<style scoped>\n    .dataframe tbody tr th:only-of-type {\n        vertical-align: middle;\n    }\n\n    .dataframe tbody tr th {\n        vertical-align: top;\n    }\n\n    .dataframe thead th {\n        text-align: right;\n    }\n</style>\n<table border=\"1\" class=\"dataframe\">\n  <thead>\n    <tr style=\"text-align: right;\">\n      <th></th>\n      <th>subject_int</th>\n      <th>epoch</th>\n    </tr>\n  </thead>\n  <tbody>\n    <tr>\n      <th>0</th>\n      <td>1</td>\n      <td>rest</td>\n    </tr>\n    <tr>\n      <th>1</th>\n      <td>1</td>\n      <td>baseline</td>\n    </tr>\n    <tr>\n      <th>2</th>\n      <td>1</td>\n      <td>early</td>\n    </tr>\n    <tr>\n      <th>3</th>\n      <td>1</td>\n      <td>late</td>\n    </tr>\n    <tr>\n      <th>4</th>\n      <td>2</td>\n      <td>rest</td>\n    </tr>\n    <tr>\n      <th>...</th>\n      <td>...</td>\n      <td>...</td>\n    </tr>\n    <tr>\n      <th>147</th>\n      <td>45</td>\n      <td>late</td>\n    </tr>\n    <tr>\n      <th>148</th>\n      <td>46</td>\n      <td>rest</td>\n    </tr>\n    <tr>\n      <th>149</th>\n      <td>46</td>\n      <td>baseline</td>\n    </tr>\n    <tr>\n      <th>150</th>\n      <td>46</td>\n      <td>early</td>\n    </tr>\n    <tr>\n      <th>151</th>\n      <td>46</td>\n      <td>late</td>\n    </tr>\n  </tbody>\n</table>\n<p>152 rows × 2 columns</p>\n</div>"
     },
     "execution_count": 3,
     "metadata": {},
     "output_type": "execute_result"
    }
   ],
   "source": [
    "se = [[s, e] for s in SUBJECTS_INT for e in E]\n",
    "se = pd.DataFrame(se, columns=['subject_int', 'epoch'])\n",
    "se"
   ],
   "metadata": {
    "collapsed": false,
    "pycharm": {
     "name": "#%%\n"
    }
   }
  },
  {
   "cell_type": "code",
   "execution_count": 4,
   "outputs": [],
   "source": [
    "se2 = [[s, e] for s in SUBJECTS_INT for e in E2]\n",
    "se2 = pd.DataFrame(se2, columns=['subject_int', 'epoch'])"
   ],
   "metadata": {
    "collapsed": false,
    "pycharm": {
     "name": "#%%\n"
    }
   }
  },
  {
   "cell_type": "markdown",
   "source": [
    "# connectivity matrices"
   ],
   "metadata": {
    "collapsed": false,
    "pycharm": {
     "name": "#%% md\n"
    }
   }
  },
  {
   "cell_type": "code",
   "execution_count": 5,
   "outputs": [],
   "source": [
    "def make_conn_mats(epochs):\n",
    "    conn_mat = {s: {} for s in SUBJECTS_INT}\n",
    "    for s in tqdm(SUBJECTS_INT):\n",
    "        for e in epochs:\n",
    "            c = ConnectivityMatrixMean(epoch=e, subjects=s, kind='covariance')\n",
    "            c.load()\n",
    "            conn_mat[s][e] = c.data\n",
    "    return conn_mat"
   ],
   "metadata": {
    "collapsed": false,
    "pycharm": {
     "name": "#%%\n"
    }
   }
  },
  {
   "cell_type": "code",
   "execution_count": 6,
   "outputs": [
    {
     "name": "stderr",
     "output_type": "stream",
     "text": [
      "100%|██████████| 38/38 [00:23<00:00,  1.62it/s]\n"
     ]
    }
   ],
   "source": [
    "conn_mat2 = make_conn_mats(E2)"
   ],
   "metadata": {
    "collapsed": false,
    "pycharm": {
     "name": "#%%\n"
    }
   }
  },
  {
   "cell_type": "code",
   "execution_count": 6,
   "outputs": [],
   "source": [
    "# for subject s, epoch e\n",
    "# conn_mat[s][e]"
   ],
   "metadata": {
    "collapsed": false,
    "pycharm": {
     "name": "#%%\n"
    }
   }
  },
  {
   "cell_type": "code",
   "execution_count": 9,
   "outputs": [
    {
     "name": "stderr",
     "output_type": "stream",
     "text": [
      "100%|██████████| 38/38 [00:01<00:00, 37.98it/s]\n",
      "100%|██████████| 38/38 [00:00<00:00, 42.54it/s]\n"
     ]
    }
   ],
   "source": [
    "def flat(d: dict):\n",
    "    d_flat = {s: {} for s in SUBJECTS_INT}\n",
    "    for s in tqdm(SUBJECTS_INT):\n",
    "        for e in d[s].keys():\n",
    "            d_flat[s][e] = d[s][e].flatten()\n",
    "    return d_flat\n",
    "\n",
    "conn_mat_flat = flat(conn_mat)\n",
    "conn_mat_flat2 = flat(conn_mat2)"
   ],
   "metadata": {
    "collapsed": false,
    "pycharm": {
     "name": "#%%\n"
    }
   }
  },
  {
   "cell_type": "code",
   "execution_count": 12,
   "outputs": [
    {
     "data": {
      "text/plain": "(114, 1040, 1040)"
     },
     "execution_count": 12,
     "metadata": {},
     "output_type": "execute_result"
    }
   ],
   "source": [
    "def stack(mat):\n",
    "    return np.vstack([\n",
    "        np.stack([\n",
    "            mat[s][e]\n",
    "            for e in mat[s].keys()\n",
    "        ])\n",
    "        for s in SUBJECTS_INT\n",
    "    ])\n",
    "\n",
    "conn_mat_stacked = stack(conn_mat)\n",
    "conn_mat_stacked2 = stack(conn_mat2)\n",
    "conn_mat_stacked2.shape"
   ],
   "metadata": {
    "collapsed": false,
    "pycharm": {
     "name": "#%%\n"
    }
   }
  },
  {
   "cell_type": "code",
   "execution_count": 13,
   "outputs": [
    {
     "data": {
      "text/plain": "(152, 1081600)"
     },
     "execution_count": 13,
     "metadata": {},
     "output_type": "execute_result"
    }
   ],
   "source": [
    "conn_mat_flat_stacked = stack(conn_mat_flat)\n",
    "conn_mat_flat_stacked2 = stack(conn_mat_flat2)\n",
    "conn_mat_flat_stacked.shape"
   ],
   "metadata": {
    "collapsed": false,
    "pycharm": {
     "name": "#%%\n"
    }
   }
  },
  {
   "cell_type": "markdown",
   "source": [
    "# umap"
   ],
   "metadata": {
    "collapsed": false,
    "pycharm": {
     "name": "#%% md\n"
    }
   }
  },
  {
   "cell_type": "code",
   "execution_count": 15,
   "outputs": [],
   "source": [
    "reducer = umap.UMAP(random_state=42)"
   ],
   "metadata": {
    "collapsed": false,
    "pycharm": {
     "name": "#%%\n"
    }
   }
  },
  {
   "cell_type": "code",
   "execution_count": 16,
   "outputs": [],
   "source": [
    "embedding = reducer.fit_transform(conn_mat_flat_stacked)\n",
    "embedding.shape\n",
    "emb = pd.DataFrame(embedding, columns=['e1', 'e2'])\n",
    "emb = pd.concat([se, emb], axis=1)"
   ],
   "metadata": {
    "collapsed": false,
    "pycharm": {
     "name": "#%%\n"
    }
   }
  },
  {
   "cell_type": "code",
   "execution_count": 45,
   "outputs": [],
   "source": [
    "embedding2 = reducer.fit_transform(conn_mat_flat_stacked2)\n",
    "emb2 = pd.DataFrame(embedding2, columns=['e1', 'e2'])\n",
    "emb2 = pd.concat([se2, emb2], axis=1)"
   ],
   "metadata": {
    "collapsed": false,
    "pycharm": {
     "name": "#%%\n"
    }
   }
  },
  {
   "cell_type": "markdown",
   "source": [
    "# plot 2d"
   ],
   "metadata": {
    "collapsed": false,
    "pycharm": {
     "name": "#%% md\n"
    }
   }
  },
  {
   "cell_type": "code",
   "execution_count": 17,
   "outputs": [
    {
     "data": {
      "text/plain": "<AxesSubplot:xlabel='e1', ylabel='e2'>"
     },
     "execution_count": 17,
     "metadata": {},
     "output_type": "execute_result"
    },
    {
     "data": {
      "text/plain": "<Figure size 432x288 with 1 Axes>",
      "image/png": "[encoded data removed]"
     },
     "metadata": {
      "needs_background": "light"
     },
     "output_type": "display_data"
    }
   ],
   "source": [
    "sns.scatterplot(data=emb.astype({'subject_int': str}),\n",
    "                x='e1', y='e2',\n",
    "                hue='subject_int', style='epoch',\n",
    "                legend=False)"
   ],
   "metadata": {
    "collapsed": false,
    "pycharm": {
     "name": "#%%\n"
    }
   }
  },
  {
   "cell_type": "markdown",
   "source": [
    "# pyriemann centering"
   ],
   "metadata": {
    "collapsed": false,
    "pycharm": {
     "name": "#%% md\n"
    }
   }
  },
  {
   "cell_type": "code",
   "execution_count": 24,
   "outputs": [
    {
     "name": "stdout",
     "output_type": "stream",
     "text": [
      "(152, 1040, 1040)\n"
     ]
    }
   ],
   "source": [
    "all_cmats = conn_mat_stacked\n",
    "all_cmats2 = conn_mat_stacked2\n",
    "print(all_cmats.shape)"
   ],
   "metadata": {
    "collapsed": false,
    "pycharm": {
     "name": "#%%\n"
    }
   }
  },
  {
   "cell_type": "code",
   "execution_count": 25,
   "outputs": [],
   "source": [
    "ts = Timeseries(epoch=E[0], subject_id=SUBJECTS_INT[0])\n",
    "ts.load()\n",
    "region_names = ts.region_names\n",
    "roi_labels = region_names"
   ],
   "metadata": {
    "collapsed": false,
    "pycharm": {
     "name": "#%%\n"
    }
   }
  },
  {
   "cell_type": "markdown",
   "source": [
    "- should not fill diag with 0 to compute mean riemann"
   ],
   "metadata": {
    "collapsed": false,
    "pycharm": {
     "name": "#%% md\n"
    }
   }
  },
  {
   "cell_type": "code",
   "execution_count": 31,
   "outputs": [],
   "source": [
    "# grand_mean = mean_riemann(all_cmats, maxiter=5)\n",
    "grand_mean2 = mean_riemann(all_cmats2, maxiter=5)"
   ],
   "metadata": {
    "collapsed": false,
    "pycharm": {
     "name": "#%%\n"
    }
   }
  },
  {
   "cell_type": "code",
   "execution_count": 32,
   "outputs": [
    {
     "data": {
      "text/plain": "array([[0.16351544, 0.01311222, 0.01344567, ..., 0.00373861, 0.00201097,\n        0.00405588],\n       [0.01311222, 0.15676097, 0.0219036 , ..., 0.00552269, 0.00245842,\n        0.00541435],\n       [0.01344567, 0.0219036 , 0.1605061 , ..., 0.0054473 , 0.00234032,\n        0.00483201],\n       ...,\n       [0.00373861, 0.00552269, 0.0054473 , ..., 0.52021354, 0.06646739,\n        0.13679602],\n       [0.00201097, 0.00245842, 0.00234032, ..., 0.06646739, 0.53588015,\n        0.05557587],\n       [0.00405588, 0.00541435, 0.00483201, ..., 0.13679602, 0.05557587,\n        0.51904623]])"
     },
     "execution_count": 32,
     "metadata": {},
     "output_type": "execute_result"
    }
   ],
   "source": [
    "grand_mean"
   ],
   "metadata": {
    "collapsed": false,
    "pycharm": {
     "name": "#%%\n"
    }
   }
  },
  {
   "cell_type": "code",
   "execution_count": 33,
   "outputs": [
    {
     "data": {
      "text/plain": "array([[0.16378138, 0.01275667, 0.0134736 , ..., 0.00386107, 0.00217978,\n        0.00450187],\n       [0.01275667, 0.15615674, 0.0224449 , ..., 0.00591451, 0.00255782,\n        0.00573476],\n       [0.0134736 , 0.0224449 , 0.16030768, ..., 0.00596199, 0.00261473,\n        0.00506538],\n       ...,\n       [0.00386107, 0.00591451, 0.00596199, ..., 0.51607051, 0.06587699,\n        0.14030197],\n       [0.00217978, 0.00255782, 0.00261473, ..., 0.06587699, 0.5348349 ,\n        0.05112269],\n       [0.00450187, 0.00573476, 0.00506538, ..., 0.14030197, 0.05112269,\n        0.51443634]])"
     },
     "execution_count": 33,
     "metadata": {},
     "output_type": "execute_result"
    }
   ],
   "source": [
    "grand_mean2"
   ],
   "metadata": {
    "collapsed": false,
    "pycharm": {
     "name": "#%%\n"
    }
   }
  },
  {
   "cell_type": "code",
   "execution_count": 29,
   "outputs": [],
   "source": [
    "# save grand_mean\n",
    "df = pd.DataFrame(grand_mean, index=roi_labels, columns=roi_labels)\n",
    "df.to_csv('grand_mean.tsv', sep='\\t')"
   ],
   "metadata": {
    "collapsed": false,
    "pycharm": {
     "name": "#%%\n"
    }
   }
  },
  {
   "cell_type": "code",
   "execution_count": 34,
   "outputs": [],
   "source": [
    "# save grand_mean\n",
    "df = pd.DataFrame(grand_mean2, index=roi_labels, columns=roi_labels)\n",
    "df.to_csv('grand_mean2.tsv', sep='\\t')"
   ],
   "metadata": {
    "collapsed": false,
    "pycharm": {
     "name": "#%%\n"
    }
   }
  },
  {
   "cell_type": "code",
   "execution_count": 35,
   "outputs": [
    {
     "name": "stderr",
     "output_type": "stream",
     "text": [
      "100%|██████████| 38/38 [14:30<00:00, 22.91s/it]\n"
     ]
    }
   ],
   "source": [
    "def make_subj_r_mean(conn_mat):\n",
    "    subject_riemann_mean = {}\n",
    "    for s in tqdm(SUBJECTS_INT):\n",
    "        subject_riemann_mean[s] = mean_riemann(np.stack(conn_mat[s].values()), maxiter=10)\n",
    "    return subject_riemann_mean\n",
    "\n",
    "subject_riemann_mean2 = make_subj_r_mean(conn_mat2)"
   ],
   "metadata": {
    "collapsed": false,
    "pycharm": {
     "name": "#%%\n"
    }
   }
  },
  {
   "cell_type": "code",
   "execution_count": 36,
   "outputs": [],
   "source": [
    "# https://github.com/danjgale/adaptation-manifolds/blob/main/adaptman/connectivity.py\n",
    "\n",
    "from pyriemann.utils.base import sqrtm, logm, expm, invsqrtm\n",
    "\n",
    "def center_cmat(c, sub_mean, grand_mean):\n",
    "    \"\"\"Center covariance matrix using tangent transporting procedure\n",
    "\n",
    "    Parameters\n",
    "    ----------\n",
    "    c : numpy.ndarray\n",
    "        Single MxM covariance matrix of a single subject\n",
    "    sub_mean : numpy.ndarray\n",
    "        Geometric mean covariance matrix of the subject\n",
    "    grand_mean : numpy.ndarray\n",
    "        Geometric mean across all subjects and matrices\n",
    "\n",
    "    Returns\n",
    "    -------\n",
    "    numpy.ndarray\n",
    "        Centered covariance matrix\n",
    "    \"\"\"\n",
    "    t = _to_tangent(c, sub_mean)\n",
    "    tc = _gl_transport(t, sub_mean, grand_mean)\n",
    "    return _from_tangent(tc, grand_mean)\n",
    "\n",
    "\n",
    "# Covariance centering\n",
    "def _to_tangent(s, mean):\n",
    "    p = sqrtm(mean)\n",
    "    p_inv = invsqrtm(mean)\n",
    "    return p @ logm(p_inv @ s @ p_inv) @ p\n",
    "\n",
    "\n",
    "def _gl_transport(t, sub_mean, grand_mean):\n",
    "    g = sqrtm(grand_mean) @ invsqrtm(sub_mean)\n",
    "    return g @ t @ g.T\n",
    "\n",
    "\n",
    "def _from_tangent(t, grand_mean):\n",
    "    p = sqrtm(grand_mean)\n",
    "    p_inv = invsqrtm(grand_mean)\n",
    "    return p @ expm(p_inv @ t @ p_inv) @ p\n"
   ],
   "metadata": {
    "collapsed": false,
    "pycharm": {
     "name": "#%%\n"
    }
   }
  },
  {
   "cell_type": "code",
   "execution_count": 37,
   "outputs": [
    {
     "name": "stderr",
     "output_type": "stream",
     "text": [
      "100%|██████████| 38/38 [06:25<00:00, 10.14s/it]\n"
     ]
    }
   ],
   "source": [
    "def make_conn_mat_cen(conn_mat):\n",
    "    conn_mat_centered = {}\n",
    "    for s in tqdm(SUBJECTS_INT):\n",
    "        conn_mat_centered[s] = {\n",
    "            e: center_cmat(conn_mat[s][e], subject_riemann_mean[s], grand_mean)\n",
    "            for e in conn_mat[s].keys()\n",
    "        }\n",
    "    return conn_mat_centered\n",
    "\n",
    "conn_mat_centered2 = make_conn_mat_cen(conn_mat2)"
   ],
   "metadata": {
    "collapsed": false,
    "pycharm": {
     "name": "#%%\n"
    }
   }
  },
  {
   "cell_type": "code",
   "execution_count": 40,
   "outputs": [
    {
     "name": "stdout",
     "output_type": "stream",
     "text": [
      "(1040, 1040)\n",
      "(1040, 1040)\n"
     ]
    }
   ],
   "source": [
    "print(conn_mat_centered[1]['early'].shape)\n",
    "print(conn_mat[1]['early'].shape)"
   ],
   "metadata": {
    "collapsed": false,
    "pycharm": {
     "name": "#%%\n"
    }
   }
  },
  {
   "cell_type": "code",
   "execution_count": 42,
   "outputs": [
    {
     "name": "stderr",
     "output_type": "stream",
     "text": [
      "100%|██████████| 38/38 [00:04<00:00,  9.40it/s]\n",
      "100%|██████████| 38/38 [00:00<00:00, 44.83it/s]\n"
     ]
    }
   ],
   "source": [
    "conn_mat_centered_flat = flat(conn_mat_centered)\n",
    "conn_mat_centered_flat2 = flat(conn_mat_centered2)"
   ],
   "metadata": {
    "collapsed": false,
    "pycharm": {
     "name": "#%%\n"
    }
   }
  },
  {
   "cell_type": "code",
   "execution_count": null,
   "outputs": [],
   "source": [
    "# umap centered\n",
    "reducer = umap.UMAP(random_state=42)\n",
    "embedding_cen = reducer.fit_transform(stack(conn_mat_centered_flat))\n",
    "print(embedding_cen.shape)\n",
    "emb_cen = pd.DataFrame(embedding_cen, columns=['e1', 'e2'])\n",
    "emb_cen = pd.concat([se, emb_cen], axis=1)"
   ],
   "metadata": {
    "collapsed": false,
    "pycharm": {
     "name": "#%%\n",
     "is_executing": true
    }
   }
  },
  {
   "cell_type": "code",
   "execution_count": 46,
   "outputs": [
    {
     "name": "stdout",
     "output_type": "stream",
     "text": [
      "(152, 2)\n",
      "(152, 2)\n",
      "(114, 2)\n"
     ]
    }
   ],
   "source": [
    "reducer = umap.UMAP(random_state=42)\n",
    "embedding_cen2 = reducer.fit_transform(stack(conn_mat_centered_flat2))\n",
    "print(embedding_cen2.shape)\n",
    "emb_cen2 = pd.DataFrame(embedding_cen2, columns=['e1', 'e2'])\n",
    "emb_cen2 = pd.concat([se, emb_cen2], axis=1)"
   ],
   "metadata": {
    "collapsed": false,
    "pycharm": {
     "name": "#%%\n"
    }
   }
  },
  {
   "cell_type": "markdown",
   "source": [
    "# chart plots"
   ],
   "metadata": {
    "collapsed": false,
    "pycharm": {
     "name": "#%% md\n"
    }
   }
  },
  {
   "cell_type": "code",
   "execution_count": 57,
   "outputs": [
    {
     "data": {
      "text/plain": "Text(0.5, 1.0, 'centered - NO rest included')"
     },
     "execution_count": 57,
     "metadata": {},
     "output_type": "execute_result"
    },
    {
     "data": {
      "text/plain": "<Figure size 1080x720 with 4 Axes>",
      "image/png": "[encoded data removed]"
     },
     "metadata": {
      "needs_background": "light"
     },
     "output_type": "display_data"
    }
   ],
   "source": [
    "fig, axes = plt.subplots(2, 2, figsize=(15, 10),\n",
    "                         # sharey=True, sharex=True\n",
    "                         )\n",
    "fig.suptitle('umap on conn matrices')\n",
    "\n",
    "sns.scatterplot(data=emb.astype({'subject_int': str}),\n",
    "                x='e1', y='e2',\n",
    "                hue='subject_int',\n",
    "                style='epoch',\n",
    "                legend=False,\n",
    "                ax=axes[0, 0],\n",
    "                )\n",
    "axes[0, 0].set_title('not centered')\n",
    "\n",
    "sns.scatterplot(data=emb_cen.astype({'subject_int': str}),\n",
    "                x='e1', y='e2',\n",
    "                style='epoch',\n",
    "                hue='epoch',\n",
    "                # legend=False,\n",
    "                ax=axes[0, 1],\n",
    "                )\n",
    "axes[0, 1].set_title('centered')\n",
    "\n",
    "\n",
    "sns.scatterplot(data=emb2.astype({'subject_int': str}),\n",
    "                x='e1', y='e2',\n",
    "                hue='subject_int',\n",
    "                style='epoch',\n",
    "                legend=False,\n",
    "                ax=axes[1, 0],\n",
    "                )\n",
    "axes[1, 0].set_title('not centered - NO rest included')\n",
    "\n",
    "sns.scatterplot(data=emb_cen2.astype({'subject_int': str}),\n",
    "                x='e1', y='e2',\n",
    "                style='epoch',\n",
    "                hue='epoch',\n",
    "                # legend=False,\n",
    "                ax=axes[1, 1],\n",
    "                )\n",
    "axes[1, 1].set_title('centered - NO rest included')"
   ],
   "metadata": {
    "collapsed": false,
    "pycharm": {
     "name": "#%%\n"
    }
   }
  },
  {
   "cell_type": "code",
   "execution_count": null,
   "outputs": [],
   "source": [],
   "metadata": {
    "collapsed": false,
    "pycharm": {
     "name": "#%%\n"
    }
   }
  }
 ],
 "metadata": {
  "kernelspec": {
   "display_name": "Python 3",
   "language": "python",
   "name": "python3"
  },
  "language_info": {
   "codemirror_mode": {
    "name": "ipython",
    "version": 2
   },
   "file_extension": ".py",
   "mimetype": "text/x-python",
   "name": "python",
   "nbconvert_exporter": "python",
   "pygments_lexer": "ipython2",
   "version": "2.7.6"
  }
 },
 "nbformat": 4,
 "nbformat_minor": 0
}